{
  "cells": [
    {
      "cell_type": "markdown",
      "metadata": {
        "id": "view-in-github",
        "colab_type": "text"
      },
      "source": [
        "<a href=\"https://colab.research.google.com/github/DragonFarts/Video-EZY/blob/main/Hotshot_XL_colab.ipynb\" target=\"_parent\"><img src=\"https://colab.research.google.com/assets/colab-badge.svg\" alt=\"Open In Colab\"/></a>"
      ]
    },
    {
      "cell_type": "code",
      "execution_count": 1,
      "metadata": {
        "colab": {
          "base_uri": "https://localhost:8080/"
        },
        "id": "VjYy0F2gZIPR",
        "outputId": "91ac476b-76d7-46ef-ecfc-52b978e2ba26"
      },
      "outputs": [
        {
          "output_type": "stream",
          "name": "stdout",
          "text": [
            "/content\n",
            "Cloning into 'Hotshot-XL'...\n",
            "remote: Enumerating objects: 48, done.\u001b[K\n",
            "remote: Counting objects: 100% (19/19), done.\u001b[K\n",
            "remote: Compressing objects: 100% (12/12), done.\u001b[K\n",
            "remote: Total 48 (delta 15), reused 7 (delta 7), pack-reused 29\u001b[K\n",
            "Receiving objects: 100% (48/48), 66.13 KiB | 1.35 MiB/s, done.\n",
            "Resolving deltas: 100% (18/18), done.\n",
            "/content/Hotshot-XL\n",
            "\u001b[2K     \u001b[90m━━━━━━━━━━━━━━━━━━━━━━━━━━━━━━━━━━━━━━━━\u001b[0m \u001b[32m258.1/258.1 kB\u001b[0m \u001b[31m5.2 MB/s\u001b[0m eta \u001b[36m0:00:00\u001b[0m\n",
            "\u001b[2K     \u001b[90m━━━━━━━━━━━━━━━━━━━━━━━━━━━━━━━━━━━━━━━━\u001b[0m \u001b[32m302.0/302.0 kB\u001b[0m \u001b[31m21.2 MB/s\u001b[0m eta \u001b[36m0:00:00\u001b[0m\n",
            "\u001b[?25h  Preparing metadata (setup.py) ... \u001b[?25l\u001b[?25hdone\n",
            "\u001b[2K     \u001b[90m━━━━━━━━━━━━━━━━━━━━━━━━━━━━━━━━━━━━━━━━\u001b[0m \u001b[32m1.5/1.5 MB\u001b[0m \u001b[31m9.3 MB/s\u001b[0m eta \u001b[36m0:00:00\u001b[0m\n",
            "\u001b[2K     \u001b[90m━━━━━━━━━━━━━━━━━━━━━━━━━━━━━━━━━━━━━━━━\u001b[0m \u001b[32m7.7/7.7 MB\u001b[0m \u001b[31m28.0 MB/s\u001b[0m eta \u001b[36m0:00:00\u001b[0m\n",
            "\u001b[2K     \u001b[90m━━━━━━━━━━━━━━━━━━━━━━━━━━━━━━━━━━━━━━━━\u001b[0m \u001b[32m44.6/44.6 kB\u001b[0m \u001b[31m5.3 MB/s\u001b[0m eta \u001b[36m0:00:00\u001b[0m\n",
            "\u001b[2K     \u001b[90m━━━━━━━━━━━━━━━━━━━━━━━━━━━━━━━━━━━━━━━━\u001b[0m \u001b[32m1.3/1.3 MB\u001b[0m \u001b[31m43.8 MB/s\u001b[0m eta \u001b[36m0:00:00\u001b[0m\n",
            "\u001b[2K     \u001b[90m━━━━━━━━━━━━━━━━━━━━━━━━━━━━━━━━━━━━━━━━\u001b[0m \u001b[32m3.8/3.8 MB\u001b[0m \u001b[31m51.4 MB/s\u001b[0m eta \u001b[36m0:00:00\u001b[0m\n",
            "\u001b[2K     \u001b[90m━━━━━━━━━━━━━━━━━━━━━━━━━━━━━━━━━━━━━━━━\u001b[0m \u001b[32m295.0/295.0 kB\u001b[0m \u001b[31m28.5 MB/s\u001b[0m eta \u001b[36m0:00:00\u001b[0m\n",
            "\u001b[?25h  Building wheel for hotshot-xl (setup.py) ... \u001b[?25l\u001b[?25hdone\n"
          ]
        }
      ],
      "source": [
        "%cd /content\n",
        "!git clone -b dev https://github.com/camenduru/Hotshot-XL\n",
        "%cd /content/Hotshot-XL\n",
        "!pip install -q accelerate\n",
        "!pip install -q ."
      ]
    },
    {
      "cell_type": "code",
      "execution_count": 5,
      "metadata": {
        "id": "1xI6mWjvb6ME"
      },
      "outputs": [],
      "source": [
        "!cp /content/gifme.mp4 /content/copy_gifme.mp4"
      ]
    },
    {
      "cell_type": "code",
      "execution_count": 22,
      "metadata": {
        "id": "Y4euMojXcRZP"
      },
      "outputs": [],
      "source": [
        "!cp /content/copy_gifme.mp4 /content/gifme.mp4"
      ]
    },
    {
      "cell_type": "code",
      "execution_count": null,
      "metadata": {
        "colab": {
          "base_uri": "https://localhost:8080/"
        },
        "id": "YKUmdt6Sb6WN",
        "outputId": "9ab4f5c1-bf89-4641-9947-b04928ac0f61"
      },
      "outputs": [
        {
          "name": "stdout",
          "output_type": "stream",
          "text": [
            "Requirement already satisfied: opencv-python in /usr/local/lib/python3.10/dist-packages (4.8.0.76)\n",
            "Requirement already satisfied: numpy>=1.21.2 in /usr/local/lib/python3.10/dist-packages (from opencv-python) (1.23.5)\n"
          ]
        }
      ],
      "source": [
        "!pip install opencv-python"
      ]
    },
    {
      "cell_type": "code",
      "execution_count": null,
      "metadata": {
        "colab": {
          "base_uri": "https://localhost:8080/"
        },
        "id": "y8P9bv6Kdk4x",
        "outputId": "2a163b9b-f297-43fd-9181-61096f097715"
      },
      "outputs": [
        {
          "name": "stdout",
          "output_type": "stream",
          "text": [
            "Requirement already satisfied: imageio in /usr/local/lib/python3.10/dist-packages (2.31.5)\n",
            "Requirement already satisfied: numpy in /usr/local/lib/python3.10/dist-packages (from imageio) (1.23.5)\n",
            "Requirement already satisfied: pillow>=8.3.2 in /usr/local/lib/python3.10/dist-packages (from imageio) (9.4.0)\n"
          ]
        }
      ],
      "source": [
        "!pip install imageio"
      ]
    },
    {
      "cell_type": "markdown",
      "metadata": {
        "id": "odfD886rkE6e"
      },
      "source": [
        "**RIP A YOUTUBE MAKE SOME GIFS**"
      ]
    },
    {
      "cell_type": "code",
      "execution_count": null,
      "metadata": {
        "id": "ooWHDsgJg1zt"
      },
      "outputs": [],
      "source": [
        "!pip install yt_dlp"
      ]
    },
    {
      "cell_type": "code",
      "execution_count": null,
      "metadata": {
        "id": "ifSNuCoYg1IK"
      },
      "outputs": [],
      "source": [
        "from yt_dlp import YoutubeDL\n",
        "with YoutubeDL({'overwrites':True, 'format':'bestvideo[ext=mp4]+bestaudio[ext=m4a]/mp4', 'outtmpl':'/content/gifme'}) as ydl:\n",
        "    ydl.download(\"https://youtu.be/EU3hIXXeiz4\")"
      ]
    },
    {
      "cell_type": "markdown",
      "metadata": {
        "id": "vALevzl8NAMM"
      },
      "source": [
        "**Double Speed (sometimes ya wanna do it)**"
      ]
    },
    {
      "cell_type": "code",
      "execution_count": 19,
      "metadata": {
        "colab": {
          "base_uri": "https://localhost:8080/"
        },
        "id": "b_oofDzRb6Y_",
        "outputId": "eb833184-0620-434e-f449-e029bfda988b"
      },
      "outputs": [
        {
          "output_type": "stream",
          "name": "stdout",
          "text": [
            "Overwriting vidspeed.py\n"
          ]
        }
      ],
      "source": [
        "%%writefile vidspeed.py\n",
        "import sys\n",
        "from moviepy.editor import *\n",
        "\n",
        "# Command-line arguments\n",
        "speed_factor = float(sys.argv[1])\n",
        "input_video_path = sys.argv[2]\n",
        "output_video_path = sys.argv[3]\n",
        "\n",
        "# Load video\n",
        "video = VideoFileClip(input_video_path)\n",
        "\n",
        "# Adjust speed\n",
        "video = video.fx(vfx.speedx, speed_factor)\n",
        "\n",
        "# Write to output file\n",
        "video.write_videofile(output_video_path, codec=\"libx264\")\n"
      ]
    },
    {
      "cell_type": "code",
      "source": [
        "!python vidspeed.py 0.25 /content/gifme.mp4 /content/temp_gifme.mp4"
      ],
      "metadata": {
        "colab": {
          "base_uri": "https://localhost:8080/"
        },
        "id": "N-j0_UzBgRa7",
        "outputId": "47620a73-8756-4a28-8042-0b3a51b0626c"
      },
      "execution_count": 23,
      "outputs": [
        {
          "output_type": "stream",
          "name": "stdout",
          "text": [
            "error: XDG_RUNTIME_DIR not set in the environment.\n",
            "ALSA lib confmisc.c:855:(parse_card) cannot find card '0'\n",
            "ALSA lib conf.c:5178:(_snd_config_evaluate) function snd_func_card_inum returned error: No such file or directory\n",
            "ALSA lib confmisc.c:422:(snd_func_concat) error evaluating strings\n",
            "ALSA lib conf.c:5178:(_snd_config_evaluate) function snd_func_concat returned error: No such file or directory\n",
            "ALSA lib confmisc.c:1334:(snd_func_refer) error evaluating name\n",
            "ALSA lib conf.c:5178:(_snd_config_evaluate) function snd_func_refer returned error: No such file or directory\n",
            "ALSA lib conf.c:5701:(snd_config_expand) Evaluate error: No such file or directory\n",
            "ALSA lib pcm.c:2664:(snd_pcm_open_noupdate) Unknown PCM default\n",
            "ALSA lib confmisc.c:855:(parse_card) cannot find card '0'\n",
            "ALSA lib conf.c:5178:(_snd_config_evaluate) function snd_func_card_inum returned error: No such file or directory\n",
            "ALSA lib confmisc.c:422:(snd_func_concat) error evaluating strings\n",
            "ALSA lib conf.c:5178:(_snd_config_evaluate) function snd_func_concat returned error: No such file or directory\n",
            "ALSA lib confmisc.c:1334:(snd_func_refer) error evaluating name\n",
            "ALSA lib conf.c:5178:(_snd_config_evaluate) function snd_func_refer returned error: No such file or directory\n",
            "ALSA lib conf.c:5701:(snd_config_expand) Evaluate error: No such file or directory\n",
            "ALSA lib pcm.c:2664:(snd_pcm_open_noupdate) Unknown PCM default\n",
            "Moviepy - Building video /content/temp_gifme.mp4.\n",
            "MoviePy - Writing audio in temp_gifmeTEMP_MPY_wvf_snd.mp3\n",
            "MoviePy - Done.\n",
            "Moviepy - Writing video /content/temp_gifme.mp4\n",
            "\n",
            "Moviepy - Done !\n",
            "Moviepy - video ready /content/temp_gifme.mp4\n"
          ]
        }
      ]
    },
    {
      "cell_type": "code",
      "source": [
        "!mv /content/temp_gifme.mp4 /content/gifme.mp4"
      ],
      "metadata": {
        "id": "vgS_UaY7i2_X"
      },
      "execution_count": 24,
      "outputs": []
    },
    {
      "cell_type": "markdown",
      "metadata": {
        "id": "WGYaoTFENEiB"
      },
      "source": [
        "**split 1second videos make them 8fps gifs**"
      ]
    },
    {
      "cell_type": "code",
      "execution_count": 25,
      "metadata": {
        "colab": {
          "base_uri": "https://localhost:8080/"
        },
        "id": "8pD-SIKUb6bc",
        "outputId": "d44814fc-951e-4f41-886d-7798cdf10ae6"
      },
      "outputs": [
        {
          "output_type": "stream",
          "name": "stdout",
          "text": [
            "Generated 61 video clips and 61 GIFs.\n"
          ]
        }
      ],
      "source": [
        "import cv2\n",
        "import imageio\n",
        "import os\n",
        "\n",
        "# Input video path\n",
        "input_path = \"/content/gifme.mp4\"\n",
        "\n",
        "# Initialize VideoCapture object\n",
        "cap = cv2.VideoCapture(input_path)\n",
        "\n",
        "# Check if video opened successfully\n",
        "if not cap.isOpened():\n",
        "    print(\"Could not open video file.\")\n",
        "    exit()\n",
        "\n",
        "# Video properties\n",
        "original_fps = int(cap.get(cv2.CAP_PROP_FPS))\n",
        "width = int(cap.get(cv2.CAP_PROP_FRAME_WIDTH))\n",
        "height = int(cap.get(cv2.CAP_PROP_FRAME_HEIGHT))\n",
        "frames_per_segment = original_fps  # 1 second at original FPS\n",
        "\n",
        "# Create output directory if not exists\n",
        "output_dir = \"/content/clips\"\n",
        "if not os.path.exists(output_dir):\n",
        "    os.makedirs(output_dir)\n",
        "\n",
        "# Initialize clip and GIF counter\n",
        "clip_counter = 1\n",
        "gif_counter = 1\n",
        "\n",
        "while True:\n",
        "    # Initialize frames buffer for each 1-second video clip\n",
        "    frames_buffer = []\n",
        "\n",
        "    for i in range(frames_per_segment):\n",
        "        ret, frame = cap.read()\n",
        "        if not ret:\n",
        "            break\n",
        "        frames_buffer.append(frame)\n",
        "\n",
        "    # Break if there are no more frames\n",
        "    if not frames_buffer:\n",
        "        break\n",
        "\n",
        "    # Create 1-second video clip\n",
        "    clip_path = os.path.join(output_dir, f\"clip{clip_counter}.mp4\")\n",
        "    fourcc = cv2.VideoWriter_fourcc(*'mp4v')\n",
        "    out = cv2.VideoWriter(clip_path, fourcc, original_fps, (width, height))\n",
        "\n",
        "    for frame in frames_buffer:\n",
        "        out.write(frame)\n",
        "\n",
        "    out.release()\n",
        "\n",
        "    # Create 8 FPS GIF from the 1-second video clip\n",
        "    gif_frames = frames_buffer[::int(original_fps / 8)]\n",
        "    gif_path = os.path.join(output_dir, f\"gif{gif_counter}.gif\")\n",
        "    imageio.mimsave(gif_path, [cv2.cvtColor(f, cv2.COLOR_BGR2RGB) for f in gif_frames], fps=8)\n",
        "\n",
        "    # Increment counters\n",
        "    clip_counter += 1\n",
        "    gif_counter += 1\n",
        "\n",
        "# Release resources\n",
        "cap.release()\n",
        "\n",
        "print(f\"Generated {clip_counter - 1} video clips and {gif_counter - 1} GIFs.\")\n"
      ]
    },
    {
      "cell_type": "markdown",
      "metadata": {
        "id": "SfI4p0SikLTy"
      },
      "source": [
        "**download my wipe me down gifs**"
      ]
    },
    {
      "cell_type": "code",
      "execution_count": null,
      "metadata": {
        "colab": {
          "base_uri": "https://localhost:8080/"
        },
        "id": "4RoPNbDKke3I",
        "outputId": "a6d33b0f-4824-42ea-e836-7555d2004c63"
      },
      "outputs": [
        {
          "name": "stdout",
          "output_type": "stream",
          "text": [
            "--2023-10-16 19:20:17--  https://github.com/DragonFarts/Video-EZY/blob/main/car.zip?raw=true\n",
            "Resolving github.com (github.com)... 20.205.243.166\n",
            "Connecting to github.com (github.com)|20.205.243.166|:443... connected.\n",
            "HTTP request sent, awaiting response... 302 Found\n",
            "Location: https://github.com/DragonFarts/Video-EZY/raw/main/car.zip [following]\n",
            "--2023-10-16 19:20:17--  https://github.com/DragonFarts/Video-EZY/raw/main/car.zip\n",
            "Reusing existing connection to github.com:443.\n",
            "HTTP request sent, awaiting response... 302 Found\n",
            "Location: https://raw.githubusercontent.com/DragonFarts/Video-EZY/main/car.zip [following]\n",
            "--2023-10-16 19:20:17--  https://raw.githubusercontent.com/DragonFarts/Video-EZY/main/car.zip\n",
            "Resolving raw.githubusercontent.com (raw.githubusercontent.com)... 185.199.108.133, 185.199.109.133, 185.199.110.133, ...\n",
            "Connecting to raw.githubusercontent.com (raw.githubusercontent.com)|185.199.108.133|:443... connected.\n",
            "HTTP request sent, awaiting response... 200 OK\n",
            "Length: 13869841 (13M) [application/zip]\n",
            "Saving to: ‘/content/car.zip’\n",
            "\n",
            "/content/car.zip    100%[===================>]  13.23M  --.-KB/s    in 0.04s   \n",
            "\n",
            "2023-10-16 19:20:19 (331 MB/s) - ‘/content/car.zip’ saved [13869841/13869841]\n",
            "\n",
            "Archive:  /content/car.zip\n",
            "  inflating: /content/car/gif1.gif   \n",
            "  inflating: /content/car/gif2.gif   \n",
            "  inflating: /content/car/gif3.gif   \n"
          ]
        }
      ],
      "source": [
        "!mkdir -p /content/car  # Create the directory if it doesn't exist\n",
        "!wget -O /content/car.zip https://github.com/DragonFarts/Video-EZY/blob/main/car.zip?raw=true  # Download ZIP\n",
        "!unzip /content/car.zip -d /content/car/  # Unzip into /content/car/\n"
      ]
    },
    {
      "cell_type": "code",
      "execution_count": null,
      "metadata": {
        "colab": {
          "base_uri": "https://localhost:8080/"
        },
        "id": "hD1SgX5HkfUF",
        "outputId": "ddaa32e0-ecb2-424d-d3f7-87bce242c5cd"
      },
      "outputs": [
        {
          "name": "stdout",
          "output_type": "stream",
          "text": [
            "--2023-10-16 19:20:19--  https://github.com/DragonFarts/Video-EZY/blob/main/dancing.zip?raw=true\n",
            "Resolving github.com (github.com)... 20.205.243.166\n",
            "Connecting to github.com (github.com)|20.205.243.166|:443... connected.\n",
            "HTTP request sent, awaiting response... 302 Found\n",
            "Location: https://github.com/DragonFarts/Video-EZY/raw/main/dancing.zip [following]\n",
            "--2023-10-16 19:20:20--  https://github.com/DragonFarts/Video-EZY/raw/main/dancing.zip\n",
            "Reusing existing connection to github.com:443.\n",
            "HTTP request sent, awaiting response... 302 Found\n",
            "Location: https://raw.githubusercontent.com/DragonFarts/Video-EZY/main/dancing.zip [following]\n",
            "--2023-10-16 19:20:20--  https://raw.githubusercontent.com/DragonFarts/Video-EZY/main/dancing.zip\n",
            "Resolving raw.githubusercontent.com (raw.githubusercontent.com)... 185.199.108.133, 185.199.109.133, 185.199.110.133, ...\n",
            "Connecting to raw.githubusercontent.com (raw.githubusercontent.com)|185.199.108.133|:443... connected.\n",
            "HTTP request sent, awaiting response... 200 OK\n",
            "Length: 22877933 (22M) [application/zip]\n",
            "Saving to: ‘/content/dancing.zip’\n",
            "\n",
            "/content/dancing.zi 100%[===================>]  21.82M  --.-KB/s    in 0.05s   \n",
            "\n",
            "2023-10-16 19:20:22 (423 MB/s) - ‘/content/dancing.zip’ saved [22877933/22877933]\n",
            "\n",
            "Archive:  /content/dancing.zip\n",
            "  inflating: /content/clips/gif4.gif  \n",
            "  inflating: /content/clips/gif5.gif  \n",
            "  inflating: /content/clips/gif6.gif  \n",
            "  inflating: /content/clips/gif7.gif  \n",
            "  inflating: /content/clips/gif8.gif  \n"
          ]
        }
      ],
      "source": [
        "!mkdir -p /content/lips  # Create the directory if it doesn't exist\n",
        "!wget -O /content/dancing.zip https://github.com/DragonFarts/Video-EZY/blob/main/dancing.zip?raw=true  # Download ZIP\n",
        "!unzip /content/dancing.zip -d /content/clips/  # Unzip into /content/car/\n"
      ]
    },
    {
      "cell_type": "code",
      "execution_count": 10,
      "metadata": {
        "colab": {
          "base_uri": "https://localhost:8080/"
        },
        "id": "CQ3RboI3ewWW",
        "outputId": "9353431b-4df5-4db2-8387-d447ba293b91"
      },
      "outputs": [
        {
          "output_type": "stream",
          "name": "stdout",
          "text": [
            "/content/Hotshot-XL\n"
          ]
        }
      ],
      "source": [
        "%cd /content/Hotshot-XL"
      ]
    },
    {
      "cell_type": "code",
      "execution_count": null,
      "metadata": {
        "colab": {
          "base_uri": "https://localhost:8080/"
        },
        "id": "iPeNSOAJbKgF",
        "outputId": "19887e6a-5ba8-4824-b517-0674effa14c8"
      },
      "outputs": [
        {
          "name": "stdout",
          "output_type": "stream",
          "text": [
            "Loading pipeline components...:  29% 2/7 [00:02<00:05,  1.07s/it]2023-10-16 22:44:35.541557: W tensorflow/compiler/tf2tensorrt/utils/py_utils.cc:38] TF-TRT Warning: Could not find TensorRT\n",
            "Loading pipeline components...: 100% 7/7 [01:19<00:00, 11.38s/it]\n",
            "100% 30/30 [05:03<00:00, 10.13s/it]\n",
            "100% 8/8 [00:02<00:00,  3.09it/s]\n"
          ]
        }
      ],
      "source": [
        "!python inference.py \\\n",
        "  --prompt=\"tom cruise driving a car, hd, high quality\" \\\n",
        "  --output=\"gif6.gif\" \\\n",
        "  --control_type=\"depth\" \\\n",
        "  --width=384 \\\n",
        "  --height=672 \\\n",
        "  --gif=\"/content/clips/gif6.gif\""
      ]
    },
    {
      "cell_type": "code",
      "execution_count": 27,
      "metadata": {
        "colab": {
          "base_uri": "https://localhost:8080/"
        },
        "id": "veEIuKKzgZvh",
        "outputId": "68a34daa-9427-4494-df49-2081f19bf023"
      },
      "outputs": [
        {
          "output_type": "stream",
          "name": "stdout",
          "text": [
            "Inference done for gif1.gif\n",
            "Inference done for gif2.gif\n",
            "Inference done for gif3.gif\n",
            "Inference done for gif4.gif\n",
            "Inference done for gif5.gif\n",
            "Inference done for gif6.gif\n",
            "Inference done for gif7.gif\n",
            "Inference done for gif8.gif\n",
            "Inference done for gif9.gif\n",
            "Inference done for gif10.gif\n",
            "Inference done for gif11.gif\n",
            "Inference done for gif12.gif\n",
            "Inference done for gif13.gif\n",
            "Inference done for gif14.gif\n",
            "Inference done for gif15.gif\n",
            "Inference done for gif16.gif\n"
          ]
        }
      ],
      "source": [
        "import os\n",
        "import cv2\n",
        "import random\n",
        "import string\n",
        "import imageio\n",
        "import subprocess\n",
        "\n",
        "# Function to generate a random string of fixed length\n",
        "def random_string(length=4):\n",
        "    letters = string.ascii_letters + string.digits\n",
        "    return ''.join(random.choice(letters) for i in range(length))\n",
        "\n",
        "# Initialize an empty list to store the paths of generated GIFs\n",
        "generated_gifs = []\n",
        "\n",
        "# Loop through the GIF files to run inference\n",
        "for i in range(1, 17):\n",
        "    gif_name = f\"gif{i}.gif\"\n",
        "    gif_path = f\"/content/clips/{gif_name}\"\n",
        "\n",
        "    # Construct the command string for inference\n",
        "    cmd_str = f\"\"\"python inference.py \\\n",
        "    --prompt='tom cruise driving a car, hd, high quality' \\\n",
        "    --output='{gif_name}' \\\n",
        "    --control_type='depth' \\\n",
        "    --width=384 \\\n",
        "    --height=672 \\\n",
        "    --gif='{gif_path}'\"\"\"\n",
        "\n",
        "    # Run the command for inference\n",
        "    subprocess.run(cmd_str, shell=True)\n",
        "    print(f\"Inference done for {gif_name}\")\n",
        "\n",
        "    # Confirm that the inference was successful before adding to list\n",
        "    inferred_gif_path = f\"/content/Hotshot-XL/{gif_name}\"\n",
        "    if os.path.exists(inferred_gif_path):\n",
        "        generated_gifs.append(inferred_gif_path)\n",
        "\n"
      ]
    },
    {
      "cell_type": "code",
      "execution_count": null,
      "metadata": {
        "colab": {
          "base_uri": "https://localhost:8080/"
        },
        "id": "7M6uH8cifrfr",
        "outputId": "a0cbb0a7-dcf9-4956-8e12-cd92aaf49814"
      },
      "outputs": [
        {
          "output_type": "stream",
          "name": "stdout",
          "text": [
            "Inference done for gif17.gif\n",
            "Inference done for gif18.gif\n",
            "Inference done for gif19.gif\n",
            "Inference done for gif20.gif\n",
            "Inference done for gif21.gif\n",
            "Inference done for gif22.gif\n",
            "Inference done for gif23.gif\n",
            "Inference done for gif24.gif\n",
            "Inference done for gif25.gif\n",
            "Inference done for gif26.gif\n",
            "Inference done for gif27.gif\n",
            "Inference done for gif28.gif\n",
            "Inference done for gif29.gif\n",
            "Inference done for gif30.gif\n",
            "Inference done for gif31.gif\n",
            "Inference done for gif32.gif\n",
            "Inference done for gif33.gif\n",
            "Inference done for gif34.gif\n",
            "Inference done for gif35.gif\n",
            "Inference done for gif36.gif\n",
            "Inference done for gif37.gif\n",
            "Inference done for gif38.gif\n"
          ]
        }
      ],
      "source": [
        "import os\n",
        "import cv2\n",
        "import random\n",
        "import string\n",
        "import imageio\n",
        "import subprocess\n",
        "\n",
        "# Function to generate a random string of fixed length\n",
        "def random_string(length=4):\n",
        "    letters = string.ascii_letters + string.digits\n",
        "    return ''.join(random.choice(letters) for i in range(length))\n",
        "\n",
        "# Initialize an empty list to store the paths of generated GIFs\n",
        "generated_gifs = []\n",
        "\n",
        "# Loop through the GIF files to run inference\n",
        "for i in range(17, 62):\n",
        "    gif_name = f\"gif{i}.gif\"\n",
        "    gif_path = f\"/content/clips/{gif_name}\"\n",
        "\n",
        "    # Construct the command string for inference\n",
        "    cmd_str = f\"\"\"python inference.py \\\n",
        "    --prompt='tom cruise dancing, hd, high quality' \\\n",
        "    --output='{gif_name}' \\\n",
        "    --control_type='depth' \\\n",
        "    --width=384 \\\n",
        "    --height=672 \\\n",
        "    --gif='{gif_path}'\"\"\"\n",
        "\n",
        "    # Run the command for inference\n",
        "    subprocess.run(cmd_str, shell=True)\n",
        "    print(f\"Inference done for {gif_name}\")\n",
        "\n",
        "    # Confirm that the inference was successful before adding to list\n",
        "    inferred_gif_path = f\"/content/Hotshot-XL/{gif_name}\"\n",
        "    if os.path.exists(inferred_gif_path):\n",
        "        generated_gifs.append(inferred_gif_path)\n",
        "\n"
      ]
    },
    {
      "cell_type": "code",
      "execution_count": null,
      "metadata": {
        "id": "ZCmLyEP3lnuD"
      },
      "outputs": [],
      "source": [
        "!pip install moviepy"
      ]
    },
    {
      "cell_type": "code",
      "execution_count": null,
      "metadata": {
        "id": "l0t-kAYZlpo2"
      },
      "outputs": [],
      "source": [
        "import os\n",
        "import re\n",
        "from moviepy.editor import VideoFileClip, concatenate_videoclips\n",
        "\n",
        "# Function to extract the number from the filename\n",
        "def extract_number(filename):\n",
        "    match = re.search(r'\\d+', filename)\n",
        "    return int(match.group()) if match else 0\n",
        "\n",
        "# Define the source directory and output file\n",
        "source_directory = \"/content/Hotshot-XL\"\n",
        "output_file = \"/content/movie.mp4\"\n",
        "\n",
        "# Initialize an empty list to store VideoFileClip objects\n",
        "clips = []\n",
        "\n",
        "# Traverse the directory to find all GIF files\n",
        "gif_files = [f for f in os.listdir(source_directory) if f.endswith('.gif')]\n",
        "\n",
        "# Sort the GIF files based on the extracted number\n",
        "sorted_gif_files = sorted(gif_files, key=extract_number)\n",
        "\n",
        "# Process the sorted GIF files\n",
        "for filename in sorted_gif_files:\n",
        "    filepath = os.path.join(source_directory, filename)\n",
        "\n",
        "    # Load the GIF file as a VideoFileClip object\n",
        "    clip = VideoFileClip(filepath)\n",
        "\n",
        "    # Append the clip to the list\n",
        "    clips.append(clip)\n",
        "\n",
        "# Concatenate all the clips into one video\n",
        "final_clip = concatenate_videoclips(clips, method=\"compose\")\n",
        "\n",
        "# Write the result to a file\n",
        "final_clip.write_videofile(output_file, fps=24)\n",
        "\n",
        "# Close all clips\n",
        "for clip in clips:\n",
        "    clip.close()\n",
        "final_clip.close()\n"
      ]
    },
    {
      "cell_type": "code",
      "execution_count": null,
      "metadata": {
        "id": "x2rQlZ-ookVw"
      },
      "outputs": [],
      "source": [
        "%%writefile /content/extaud.py\n",
        "import sys\n",
        "from moviepy.editor import VideoFileClip\n",
        "\n",
        "def add_audio_to_video(source_video_path, target_video_path):\n",
        "    # Load the source video and extract its audio\n",
        "    source_video = VideoFileClip(source_video_path)\n",
        "    source_audio = source_video.audio\n",
        "\n",
        "    # Load the target video\n",
        "    target_video = VideoFileClip(target_video_path)\n",
        "\n",
        "    # Set the audio of the target video to be the source audio\n",
        "    final_video = target_video.set_audio(source_audio)\n",
        "\n",
        "    # Write the final video to a file\n",
        "    final_video.write_videofile(f\"final_{target_video_path.split('/')[-1]}\", codec=\"libx264\")\n",
        "\n",
        "    # Close the video and audio clips\n",
        "    source_video.close()\n",
        "    target_video.close()\n",
        "    source_audio.close()\n",
        "    final_video.close()\n",
        "\n",
        "if __name__ == \"__main__\":\n",
        "    if len(sys.argv) != 3:\n",
        "        print(\"Usage: !python extaud.py <source_video> <target_video>\")\n",
        "        sys.exit(1)\n",
        "\n",
        "    source_video_path = sys.argv[1]\n",
        "    target_video_path = sys.argv[2]\n",
        "\n",
        "    add_audio_to_video(source_video_path, target_video_path)\n"
      ]
    },
    {
      "cell_type": "code",
      "execution_count": null,
      "metadata": {
        "id": "B6MvBqb9pzxp"
      },
      "outputs": [],
      "source": [
        "!python /content/extaud.py \"/content/gifme.mp4\" \"/content/movie.mp4\""
      ]
    },
    {
      "cell_type": "code",
      "execution_count": null,
      "metadata": {
        "id": "EZkKUH24grJW"
      },
      "outputs": [],
      "source": []
    },
    {
      "cell_type": "markdown",
      "metadata": {
        "id": "mxmZV4dSehcm"
      },
      "source": [
        "**Delete Crappy Gifs**"
      ]
    },
    {
      "cell_type": "code",
      "execution_count": null,
      "metadata": {
        "colab": {
          "base_uri": "https://localhost:8080/"
        },
        "id": "b9v8UrFdeJNS",
        "outputId": "954a7c15-e48b-4c7c-ce24-ad51a7c24c6d"
      },
      "outputs": [
        {
          "name": "stdout",
          "output_type": "stream",
          "text": [
            "Removed: /content/Hotshot-XL/gif12.gif\n",
            "Removed: /content/Hotshot-XL/gif1.gif\n",
            "Removed: /content/Hotshot-XL/gif13.gif\n",
            "Removed: /content/Hotshot-XL/gif6.gif\n",
            "Removed: /content/Hotshot-XL/gif3.gif\n",
            "Removed: /content/Hotshot-XL/gif15.gif\n",
            "Removed: /content/Hotshot-XL/gif9.gif\n",
            "Removed: /content/Hotshot-XL/gif7.gif\n",
            "Removed: /content/Hotshot-XL/gif10.gif\n",
            "Removed: /content/Hotshot-XL/gif14.gif\n",
            "Removed: /content/Hotshot-XL/gif4.gif\n",
            "Removed: /content/Hotshot-XL/gif11.gif\n",
            "Removed: /content/Hotshot-XL/gif2.gif\n",
            "Removed: /content/Hotshot-XL/gif8.gif\n",
            "Removed: /content/Hotshot-XL/gif5.gif\n",
            "Finished removing all .gif files.\n"
          ]
        }
      ],
      "source": [
        "import os\n",
        "import glob\n",
        "\n",
        "# Define the directory and file extension\n",
        "directory = '/content/Hotshot-XL/'\n",
        "extension = '*.gif'\n",
        "\n",
        "# Create the full path with the extension\n",
        "full_path = os.path.join(directory, extension)\n",
        "\n",
        "# Loop through the files and remove them\n",
        "for file_path in glob.glob(full_path):\n",
        "    try:\n",
        "        os.remove(file_path)\n",
        "        print(f\"Removed: {file_path}\")\n",
        "    except Exception as e:\n",
        "        print(f\"Error occurred while deleting file {file_path}: {e}\")\n",
        "\n",
        "print(\"Finished removing all .gif files.\")\n"
      ]
    }
  ],
  "metadata": {
    "accelerator": "GPU",
    "colab": {
      "provenance": [],
      "include_colab_link": true
    },
    "kernelspec": {
      "display_name": "Python 3",
      "name": "python3"
    },
    "language_info": {
      "name": "python"
    }
  },
  "nbformat": 4,
  "nbformat_minor": 0
}