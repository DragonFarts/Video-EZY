{
  "cells": [
    {
      "cell_type": "markdown",
      "metadata": {
        "id": "view-in-github",
        "colab_type": "text"
      },
      "source": [
        "<a href=\"https://colab.research.google.com/github/DragonFarts/Video-EZY/blob/main/Alice_wonderland_of_Hotshot_XL_colab.ipynb\" target=\"_parent\"><img src=\"https://colab.research.google.com/assets/colab-badge.svg\" alt=\"Open In Colab\"/></a>"
      ]
    },
    {
      "cell_type": "code",
      "execution_count": null,
      "metadata": {
        "colab": {
          "base_uri": "https://localhost:8080/"
        },
        "id": "VjYy0F2gZIPR",
        "outputId": "4504f365-e902-4177-bd86-d4562321d1b1"
      },
      "outputs": [
        {
          "name": "stdout",
          "output_type": "stream",
          "text": [
            "/content\n",
            "Cloning into 'Hotshot-XL'...\n",
            "remote: Enumerating objects: 48, done.\u001b[K\n",
            "remote: Counting objects: 100% (19/19), done.\u001b[K\n",
            "remote: Compressing objects: 100% (12/12), done.\u001b[K\n",
            "remote: Total 48 (delta 15), reused 7 (delta 7), pack-reused 29\u001b[K\n",
            "Receiving objects: 100% (48/48), 66.13 KiB | 6.61 MiB/s, done.\n",
            "Resolving deltas: 100% (18/18), done.\n",
            "/content/Hotshot-XL\n",
            "\u001b[2K     \u001b[90m━━━━━━━━━━━━━━━━━━━━━━━━━━━━━━━━━━━━━━━━\u001b[0m \u001b[32m258.1/258.1 kB\u001b[0m \u001b[31m5.9 MB/s\u001b[0m eta \u001b[36m0:00:00\u001b[0m\n",
            "\u001b[2K     \u001b[90m━━━━━━━━━━━━━━━━━━━━━━━━━━━━━━━━━━━━━━━━\u001b[0m \u001b[32m302.0/302.0 kB\u001b[0m \u001b[31m11.1 MB/s\u001b[0m eta \u001b[36m0:00:00\u001b[0m\n",
            "\u001b[?25h  Preparing metadata (setup.py) ... \u001b[?25l\u001b[?25hdone\n",
            "\u001b[2K     \u001b[90m━━━━━━━━━━━━━━━━━━━━━━━━━━━━━━━━━━━━━━━━\u001b[0m \u001b[32m1.5/1.5 MB\u001b[0m \u001b[31m9.6 MB/s\u001b[0m eta \u001b[36m0:00:00\u001b[0m\n",
            "\u001b[2K     \u001b[90m━━━━━━━━━━━━━━━━━━━━━━━━━━━━━━━━━━━━━━━━\u001b[0m \u001b[32m7.7/7.7 MB\u001b[0m \u001b[31m48.7 MB/s\u001b[0m eta \u001b[36m0:00:00\u001b[0m\n",
            "\u001b[2K     \u001b[90m━━━━━━━━━━━━━━━━━━━━━━━━━━━━━━━━━━━━━━━━\u001b[0m \u001b[32m44.6/44.6 kB\u001b[0m \u001b[31m5.6 MB/s\u001b[0m eta \u001b[36m0:00:00\u001b[0m\n",
            "\u001b[2K     \u001b[90m━━━━━━━━━━━━━━━━━━━━━━━━━━━━━━━━━━━━━━━━\u001b[0m \u001b[32m1.3/1.3 MB\u001b[0m \u001b[31m64.2 MB/s\u001b[0m eta \u001b[36m0:00:00\u001b[0m\n",
            "\u001b[2K     \u001b[90m━━━━━━━━━━━━━━━━━━━━━━━━━━━━━━━━━━━━━━━━\u001b[0m \u001b[32m3.8/3.8 MB\u001b[0m \u001b[31m89.2 MB/s\u001b[0m eta \u001b[36m0:00:00\u001b[0m\n",
            "\u001b[2K     \u001b[90m━━━━━━━━━━━━━━━━━━━━━━━━━━━━━━━━━━━━━━━━\u001b[0m \u001b[32m295.0/295.0 kB\u001b[0m \u001b[31m34.7 MB/s\u001b[0m eta \u001b[36m0:00:00\u001b[0m\n",
            "\u001b[?25h  Building wheel for hotshot-xl (setup.py) ... \u001b[?25l\u001b[?25hdone\n"
          ]
        }
      ],
      "source": [
        "%cd /content\n",
        "!git clone -b dev https://github.com/camenduru/Hotshot-XL\n",
        "%cd /content/Hotshot-XL\n",
        "!pip install -q accelerate\n",
        "!pip install -q ."
      ]
    },
    {
      "cell_type": "code",
      "execution_count": null,
      "metadata": {
        "id": "1xI6mWjvb6ME"
      },
      "outputs": [],
      "source": [
        "!cp /content/gifme.mp4 /content/copy_gifme.mp4"
      ]
    },
    {
      "cell_type": "code",
      "execution_count": null,
      "metadata": {
        "id": "Y4euMojXcRZP"
      },
      "outputs": [],
      "source": [
        "!cp /content/copy_gifme.mp4 /content/gifme.mp4"
      ]
    },
    {
      "cell_type": "code",
      "execution_count": null,
      "metadata": {
        "colab": {
          "base_uri": "https://localhost:8080/"
        },
        "id": "YKUmdt6Sb6WN",
        "outputId": "411c641e-f729-4236-a67a-536b16cf2439"
      },
      "outputs": [
        {
          "name": "stdout",
          "output_type": "stream",
          "text": [
            "Requirement already satisfied: opencv-python in /usr/local/lib/python3.10/dist-packages (4.8.0.76)\n",
            "Requirement already satisfied: numpy>=1.21.2 in /usr/local/lib/python3.10/dist-packages (from opencv-python) (1.23.5)\n"
          ]
        }
      ],
      "source": [
        "!pip install opencv-python"
      ]
    },
    {
      "cell_type": "code",
      "execution_count": null,
      "metadata": {
        "colab": {
          "base_uri": "https://localhost:8080/"
        },
        "id": "y8P9bv6Kdk4x",
        "outputId": "664347f6-9be9-4bd7-decb-0f9c4fc62358"
      },
      "outputs": [
        {
          "name": "stdout",
          "output_type": "stream",
          "text": [
            "Requirement already satisfied: imageio in /usr/local/lib/python3.10/dist-packages (2.31.5)\n",
            "Requirement already satisfied: numpy in /usr/local/lib/python3.10/dist-packages (from imageio) (1.23.5)\n",
            "Requirement already satisfied: pillow>=8.3.2 in /usr/local/lib/python3.10/dist-packages (from imageio) (9.4.0)\n"
          ]
        }
      ],
      "source": [
        "!pip install imageio"
      ]
    },
    {
      "cell_type": "markdown",
      "metadata": {
        "id": "odfD886rkE6e"
      },
      "source": [
        "**RIP A YOUTUBE MAKE SOME GIFS**"
      ]
    },
    {
      "cell_type": "code",
      "execution_count": null,
      "metadata": {
        "colab": {
          "base_uri": "https://localhost:8080/"
        },
        "id": "ooWHDsgJg1zt",
        "outputId": "3f3f619d-1c47-4848-f129-8f28afb0a081"
      },
      "outputs": [
        {
          "name": "stdout",
          "output_type": "stream",
          "text": [
            "Collecting yt_dlp\n",
            "  Downloading yt_dlp-2023.10.13-py2.py3-none-any.whl (3.1 MB)\n",
            "\u001b[2K     \u001b[90m━━━━━━━━━━━━━━━━━━━━━━━━━━━━━━━━━━━━━━━━\u001b[0m \u001b[32m3.1/3.1 MB\u001b[0m \u001b[31m19.9 MB/s\u001b[0m eta \u001b[36m0:00:00\u001b[0m\n",
            "\u001b[?25hCollecting mutagen (from yt_dlp)\n",
            "  Downloading mutagen-1.47.0-py3-none-any.whl (194 kB)\n",
            "\u001b[2K     \u001b[90m━━━━━━━━━━━━━━━━━━━━━━━━━━━━━━━━━━━━━━━━\u001b[0m \u001b[32m194.4/194.4 kB\u001b[0m \u001b[31m21.9 MB/s\u001b[0m eta \u001b[36m0:00:00\u001b[0m\n",
            "\u001b[?25hCollecting pycryptodomex (from yt_dlp)\n",
            "  Downloading pycryptodomex-3.19.0-cp35-abi3-manylinux_2_17_x86_64.manylinux2014_x86_64.whl (2.1 MB)\n",
            "\u001b[2K     \u001b[90m━━━━━━━━━━━━━━━━━━━━━━━━━━━━━━━━━━━━━━━━\u001b[0m \u001b[32m2.1/2.1 MB\u001b[0m \u001b[31m43.4 MB/s\u001b[0m eta \u001b[36m0:00:00\u001b[0m\n",
            "\u001b[?25hCollecting websockets (from yt_dlp)\n",
            "  Downloading websockets-11.0.3-cp310-cp310-manylinux_2_5_x86_64.manylinux1_x86_64.manylinux_2_17_x86_64.manylinux2014_x86_64.whl (129 kB)\n",
            "\u001b[2K     \u001b[90m━━━━━━━━━━━━━━━━━━━━━━━━━━━━━━━━━━━━━━━━\u001b[0m \u001b[32m129.9/129.9 kB\u001b[0m \u001b[31m14.1 MB/s\u001b[0m eta \u001b[36m0:00:00\u001b[0m\n",
            "\u001b[?25hRequirement already satisfied: certifi in /usr/local/lib/python3.10/dist-packages (from yt_dlp) (2023.7.22)\n",
            "Collecting brotli (from yt_dlp)\n",
            "  Downloading Brotli-1.1.0-cp310-cp310-manylinux_2_5_x86_64.manylinux1_x86_64.manylinux_2_12_x86_64.manylinux2010_x86_64.whl (3.0 MB)\n",
            "\u001b[2K     \u001b[90m━━━━━━━━━━━━━━━━━━━━━━━━━━━━━━━━━━━━━━━━\u001b[0m \u001b[32m3.0/3.0 MB\u001b[0m \u001b[31m50.9 MB/s\u001b[0m eta \u001b[36m0:00:00\u001b[0m\n",
            "\u001b[?25hInstalling collected packages: brotli, websockets, pycryptodomex, mutagen, yt_dlp\n",
            "Successfully installed brotli-1.1.0 mutagen-1.47.0 pycryptodomex-3.19.0 websockets-11.0.3 yt_dlp-2023.10.13\n"
          ]
        }
      ],
      "source": [
        "!pip install yt_dlp"
      ]
    },
    {
      "cell_type": "code",
      "execution_count": null,
      "metadata": {
        "colab": {
          "base_uri": "https://localhost:8080/"
        },
        "id": "ifSNuCoYg1IK",
        "outputId": "c1377cae-ad32-4270-af47-1cfdfa81344b"
      },
      "outputs": [
        {
          "name": "stdout",
          "output_type": "stream",
          "text": [
            "[youtube] Extracting URL: https://www.youtube.com/watch?v=LaTGrV58wec\n",
            "[youtube] LaTGrV58wec: Downloading webpage\n",
            "[youtube] LaTGrV58wec: Downloading ios player API JSON\n",
            "[youtube] LaTGrV58wec: Downloading android player API JSON\n",
            "[youtube] LaTGrV58wec: Downloading m3u8 information\n",
            "[info] LaTGrV58wec: Downloading 1 format(s): 616+140\n",
            "[hlsnative] Downloading m3u8 manifest\n",
            "[hlsnative] Total fragments: 44\n",
            "[download] Destination: /content/gifme.f616.mp4\n",
            "[download] 100% of   74.04MiB in 00:00:05 at 13.90MiB/s                \n",
            "[download] Destination: /content/gifme.f140.m4a\n",
            "[download] 100% of    3.81MiB in 00:00:00 at 61.18MiB/s  \n",
            "[Merger] Merging formats into \"/content/gifme.mp4\"\n",
            "Deleting original file /content/gifme.f140.m4a (pass -k to keep)\n",
            "Deleting original file /content/gifme.f616.mp4 (pass -k to keep)\n"
          ]
        }
      ],
      "source": [
        "from yt_dlp import YoutubeDL\n",
        "with YoutubeDL({'overwrites':True, 'format':'bestvideo[ext=mp4]+bestaudio[ext=m4a]/mp4', 'outtmpl':'/content/gifme'}) as ydl:\n",
        "    \")\n",
        "\n",
        "\n",
        "https://youtu.be/UD8hATR4B8s?si=1tKBPLC4_khUJp5W"
      ]
    },
    {
      "cell_type": "code",
      "execution_count": null,
      "metadata": {
        "colab": {
          "base_uri": "https://localhost:8080/"
        },
        "id": "vvzN2Bnlc7lt",
        "outputId": "b69011dc-7ed1-4527-dd5f-ab8290021993"
      },
      "outputs": [
        {
          "name": "stdout",
          "output_type": "stream",
          "text": [
            "[youtube] Extracting URL: https://youtu.be/UD8hATR4B8s?si=1tKBPLC4_khUJp5W\n",
            "[youtube] UD8hATR4B8s: Downloading webpage\n",
            "[youtube] UD8hATR4B8s: Downloading ios player API JSON\n",
            "[youtube] UD8hATR4B8s: Downloading android player API JSON\n",
            "[youtube] UD8hATR4B8s: Downloading m3u8 information\n",
            "[info] UD8hATR4B8s: Downloading 1 format(s): 606+140\n",
            "[hlsnative] Downloading m3u8 manifest\n",
            "[hlsnative] Total fragments: 35\n",
            "[download] Destination: /content/gifme.f606.mp4\n",
            "[download] 100% of   12.16MiB in 00:00:02 at 5.32MiB/s                 \n",
            "[download] Destination: /content/gifme.f140.m4a\n",
            "[download] 100% of    2.87MiB in 00:00:00 at 37.06MiB/s  \n",
            "[Merger] Merging formats into \"/content/gifme.mp4\"\n",
            "Deleting original file /content/gifme.f140.m4a (pass -k to keep)\n",
            "Deleting original file /content/gifme.f606.mp4 (pass -k to keep)\n"
          ]
        }
      ],
      "source": [
        "from yt_dlp import YoutubeDL\n",
        "with YoutubeDL({'overwrites':True, 'format':'bestvideo[ext=mp4]+bestaudio[ext=m4a]/mp4', 'outtmpl':'/content/gifme'}) as ydl:\n",
        "    ydl.download(\"https://youtu.be/UD8hATR4B8s?si=1tKBPLC4_khUJp5W\")"
      ]
    },
    {
      "cell_type": "markdown",
      "metadata": {
        "id": "vALevzl8NAMM"
      },
      "source": [
        "**Double Speed (sometimes ya wanna do it)**"
      ]
    },
    {
      "cell_type": "code",
      "execution_count": null,
      "metadata": {
        "colab": {
          "base_uri": "https://localhost:8080/"
        },
        "id": "b_oofDzRb6Y_",
        "outputId": "41400ae2-f27c-4671-e2e1-2b85c4f5ec47"
      },
      "outputs": [
        {
          "name": "stdout",
          "output_type": "stream",
          "text": [
            "Writing vidspeed.py\n"
          ]
        }
      ],
      "source": [
        "%%writefile vidspeed.py\n",
        "import sys\n",
        "from moviepy.editor import *\n",
        "\n",
        "# Command-line arguments\n",
        "speed_factor = float(sys.argv[1])\n",
        "input_video_path = sys.argv[2]\n",
        "output_video_path = sys.argv[3]\n",
        "\n",
        "# Load video\n",
        "video = VideoFileClip(input_video_path)\n",
        "\n",
        "# Adjust speed\n",
        "video = video.fx(vfx.speedx, speed_factor)\n",
        "\n",
        "# Write to output file\n",
        "video.write_videofile(output_video_path, codec=\"libx264\")"
      ]
    },
    {
      "cell_type": "code",
      "execution_count": null,
      "metadata": {
        "colab": {
          "base_uri": "https://localhost:8080/"
        },
        "id": "N-j0_UzBgRa7",
        "outputId": "6f1df721-ffeb-4c6f-d7e4-9d56190f79fd"
      },
      "outputs": [
        {
          "name": "stdout",
          "output_type": "stream",
          "text": [
            "error: XDG_RUNTIME_DIR not set in the environment.\n",
            "ALSA lib confmisc.c:855:(parse_card) cannot find card '0'\n",
            "ALSA lib conf.c:5178:(_snd_config_evaluate) function snd_func_card_inum returned error: No such file or directory\n",
            "ALSA lib confmisc.c:422:(snd_func_concat) error evaluating strings\n",
            "ALSA lib conf.c:5178:(_snd_config_evaluate) function snd_func_concat returned error: No such file or directory\n",
            "ALSA lib confmisc.c:1334:(snd_func_refer) error evaluating name\n",
            "ALSA lib conf.c:5178:(_snd_config_evaluate) function snd_func_refer returned error: No such file or directory\n",
            "ALSA lib conf.c:5701:(snd_config_expand) Evaluate error: No such file or directory\n",
            "ALSA lib pcm.c:2664:(snd_pcm_open_noupdate) Unknown PCM default\n",
            "ALSA lib confmisc.c:855:(parse_card) cannot find card '0'\n",
            "ALSA lib conf.c:5178:(_snd_config_evaluate) function snd_func_card_inum returned error: No such file or directory\n",
            "ALSA lib confmisc.c:422:(snd_func_concat) error evaluating strings\n",
            "ALSA lib conf.c:5178:(_snd_config_evaluate) function snd_func_concat returned error: No such file or directory\n",
            "ALSA lib confmisc.c:1334:(snd_func_refer) error evaluating name\n",
            "ALSA lib conf.c:5178:(_snd_config_evaluate) function snd_func_refer returned error: No such file or directory\n",
            "ALSA lib conf.c:5701:(snd_config_expand) Evaluate error: No such file or directory\n",
            "ALSA lib pcm.c:2664:(snd_pcm_open_noupdate) Unknown PCM default\n",
            "Moviepy - Building video /content/temp_gifme.mp4.\n",
            "MoviePy - Writing audio in temp_gifmeTEMP_MPY_wvf_snd.mp3\n",
            "MoviePy - Done.\n",
            "Moviepy - Writing video /content/temp_gifme.mp4\n",
            "\n",
            "Moviepy - Done !\n",
            "Moviepy - video ready /content/temp_gifme.mp4\n"
          ]
        }
      ],
      "source": [
        "!python vidspeed.py 0.25 /content/gifme.mp4 /content/temp_gifme.mp4"
      ]
    },
    {
      "cell_type": "code",
      "execution_count": null,
      "metadata": {
        "id": "vgS_UaY7i2_X"
      },
      "outputs": [],
      "source": [
        "!mv /content/temp_gifme.mp4 /content/gifme.mp4"
      ]
    },
    {
      "cell_type": "markdown",
      "metadata": {
        "id": "WGYaoTFENEiB"
      },
      "source": [
        "**split 1second videos make them 8fps gifs**"
      ]
    },
    {
      "cell_type": "code",
      "execution_count": null,
      "metadata": {
        "colab": {
          "background_save": true
        },
        "id": "8pD-SIKUb6bc",
        "outputId": "72cd8add-b1fb-4b94-991b-96a3fd40e0bd"
      },
      "outputs": [
        {
          "name": "stdout",
          "output_type": "stream",
          "text": [
            "Generated 776 video clips and 776 GIFs.\n"
          ]
        }
      ],
      "source": [
        "import cv2\n",
        "import imageio\n",
        "import os\n",
        "\n",
        "# Input video path\n",
        "input_path = \"/content/gifme.mp4\"\n",
        "\n",
        "# Initialize VideoCapture object\n",
        "cap = cv2.VideoCapture(input_path)\n",
        "\n",
        "# Check if video opened successfully\n",
        "if not cap.isOpened():\n",
        "    print(\"Could not open video file.\")\n",
        "    exit()\n",
        "\n",
        "# Video properties\n",
        "original_fps = int(cap.get(cv2.CAP_PROP_FPS))\n",
        "width = int(cap.get(cv2.CAP_PROP_FRAME_WIDTH))\n",
        "height = int(cap.get(cv2.CAP_PROP_FRAME_HEIGHT))\n",
        "frames_per_segment = original_fps  # 1 second at original FPS\n",
        "\n",
        "# Create output directory if not exists\n",
        "output_dir = \"/content/clips\"\n",
        "if not os.path.exists(output_dir):\n",
        "    os.makedirs(output_dir)\n",
        "\n",
        "# Initialize clip and GIF counter\n",
        "clip_counter = 1\n",
        "gif_counter = 1\n",
        "\n",
        "while True:\n",
        "    # Initialize frames buffer for each 1-second video clip\n",
        "    frames_buffer = []\n",
        "\n",
        "    for i in range(frames_per_segment):\n",
        "        ret, frame = cap.read()\n",
        "        if not ret:\n",
        "            break\n",
        "        frames_buffer.append(frame)\n",
        "\n",
        "    # Break if there are no more frames\n",
        "    if not frames_buffer:\n",
        "        break\n",
        "\n",
        "    # Create 1-second video clip\n",
        "    clip_path = os.path.join(output_dir, f\"clip{clip_counter}.mp4\")\n",
        "    fourcc = cv2.VideoWriter_fourcc(*'mp4v')\n",
        "    out = cv2.VideoWriter(clip_path, fourcc, original_fps, (width, height))\n",
        "\n",
        "    for frame in frames_buffer:\n",
        "        out.write(frame)\n",
        "\n",
        "    out.release()\n",
        "\n",
        "    # Create 8 FPS GIF from the 1-second video clip\n",
        "    gif_frames = frames_buffer[::int(original_fps / 8)]\n",
        "    gif_path = os.path.join(output_dir, f\"gif{gif_counter}.gif\")\n",
        "    imageio.mimsave(gif_path, [cv2.cvtColor(f, cv2.COLOR_BGR2RGB) for f in gif_frames], fps=8)\n",
        "\n",
        "    # Increment counters\n",
        "    clip_counter += 1\n",
        "    gif_counter += 1\n",
        "\n",
        "# Release resources\n",
        "cap.release()\n",
        "\n",
        "print(f\"Generated {clip_counter - 1} video clips and {gif_counter - 1} GIFs.\")"
      ]
    },
    {
      "cell_type": "markdown",
      "metadata": {
        "id": "SfI4p0SikLTy"
      },
      "source": [
        "**download my wipe me down gifs**"
      ]
    },
    {
      "cell_type": "code",
      "execution_count": null,
      "metadata": {
        "colab": {
          "base_uri": "https://localhost:8080/"
        },
        "id": "4RoPNbDKke3I",
        "outputId": "a6d33b0f-4824-42ea-e836-7555d2004c63"
      },
      "outputs": [
        {
          "name": "stdout",
          "output_type": "stream",
          "text": [
            "--2023-10-16 19:20:17--  https://github.com/DragonFarts/Video-EZY/blob/main/car.zip?raw=true\n",
            "Resolving github.com (github.com)... 20.205.243.166\n",
            "Connecting to github.com (github.com)|20.205.243.166|:443... connected.\n",
            "HTTP request sent, awaiting response... 302 Found\n",
            "Location: https://github.com/DragonFarts/Video-EZY/raw/main/car.zip [following]\n",
            "--2023-10-16 19:20:17--  https://github.com/DragonFarts/Video-EZY/raw/main/car.zip\n",
            "Reusing existing connection to github.com:443.\n",
            "HTTP request sent, awaiting response... 302 Found\n",
            "Location: https://raw.githubusercontent.com/DragonFarts/Video-EZY/main/car.zip [following]\n",
            "--2023-10-16 19:20:17--  https://raw.githubusercontent.com/DragonFarts/Video-EZY/main/car.zip\n",
            "Resolving raw.githubusercontent.com (raw.githubusercontent.com)... 185.199.108.133, 185.199.109.133, 185.199.110.133, ...\n",
            "Connecting to raw.githubusercontent.com (raw.githubusercontent.com)|185.199.108.133|:443... connected.\n",
            "HTTP request sent, awaiting response... 200 OK\n",
            "Length: 13869841 (13M) [application/zip]\n",
            "Saving to: ‘/content/car.zip’\n",
            "\n",
            "/content/car.zip    100%[===================>]  13.23M  --.-KB/s    in 0.04s   \n",
            "\n",
            "2023-10-16 19:20:19 (331 MB/s) - ‘/content/car.zip’ saved [13869841/13869841]\n",
            "\n",
            "Archive:  /content/car.zip\n",
            "  inflating: /content/car/gif1.gif   \n",
            "  inflating: /content/car/gif2.gif   \n",
            "  inflating: /content/car/gif3.gif   \n"
          ]
        }
      ],
      "source": [
        "!mkdir -p /content/car  # Create the directory if it doesn't exist\n",
        "!wget -O /content/car.zip https://github.com/DragonFarts/Video-EZY/blob/main/car.zip?raw=true  # Download ZIP\n",
        "!unzip /content/car.zip -d /content/car/  # Unzip into /content/car/\n"
      ]
    },
    {
      "cell_type": "code",
      "execution_count": null,
      "metadata": {
        "colab": {
          "base_uri": "https://localhost:8080/"
        },
        "id": "hD1SgX5HkfUF",
        "outputId": "ddaa32e0-ecb2-424d-d3f7-87bce242c5cd"
      },
      "outputs": [
        {
          "name": "stdout",
          "output_type": "stream",
          "text": [
            "--2023-10-16 19:20:19--  https://github.com/DragonFarts/Video-EZY/blob/main/dancing.zip?raw=true\n",
            "Resolving github.com (github.com)... 20.205.243.166\n",
            "Connecting to github.com (github.com)|20.205.243.166|:443... connected.\n",
            "HTTP request sent, awaiting response... 302 Found\n",
            "Location: https://github.com/DragonFarts/Video-EZY/raw/main/dancing.zip [following]\n",
            "--2023-10-16 19:20:20--  https://github.com/DragonFarts/Video-EZY/raw/main/dancing.zip\n",
            "Reusing existing connection to github.com:443.\n",
            "HTTP request sent, awaiting response... 302 Found\n",
            "Location: https://raw.githubusercontent.com/DragonFarts/Video-EZY/main/dancing.zip [following]\n",
            "--2023-10-16 19:20:20--  https://raw.githubusercontent.com/DragonFarts/Video-EZY/main/dancing.zip\n",
            "Resolving raw.githubusercontent.com (raw.githubusercontent.com)... 185.199.108.133, 185.199.109.133, 185.199.110.133, ...\n",
            "Connecting to raw.githubusercontent.com (raw.githubusercontent.com)|185.199.108.133|:443... connected.\n",
            "HTTP request sent, awaiting response... 200 OK\n",
            "Length: 22877933 (22M) [application/zip]\n",
            "Saving to: ‘/content/dancing.zip’\n",
            "\n",
            "/content/dancing.zi 100%[===================>]  21.82M  --.-KB/s    in 0.05s   \n",
            "\n",
            "2023-10-16 19:20:22 (423 MB/s) - ‘/content/dancing.zip’ saved [22877933/22877933]\n",
            "\n",
            "Archive:  /content/dancing.zip\n",
            "  inflating: /content/clips/gif4.gif  \n",
            "  inflating: /content/clips/gif5.gif  \n",
            "  inflating: /content/clips/gif6.gif  \n",
            "  inflating: /content/clips/gif7.gif  \n",
            "  inflating: /content/clips/gif8.gif  \n"
          ]
        }
      ],
      "source": [
        "!mkdir -p /content/lips  # Create the directory if it doesn't exist\n",
        "!wget -O /content/dancing.zip https://github.com/DragonFarts/Video-EZY/blob/main/dancing.zip?raw=true  # Download ZIP\n",
        "!unzip /content/dancing.zip -d /content/clips/  # Unzip into /content/car/\n"
      ]
    },
    {
      "cell_type": "code",
      "execution_count": null,
      "metadata": {
        "colab": {
          "background_save": true
        },
        "id": "CQ3RboI3ewWW",
        "outputId": "7fae4a80-ae12-4068-a581-112a6243aca9"
      },
      "outputs": [
        {
          "name": "stdout",
          "output_type": "stream",
          "text": [
            "/content/Hotshot-XL\n"
          ]
        }
      ],
      "source": [
        "%cd /content/Hotshot-XL"
      ]
    },
    {
      "cell_type": "code",
      "execution_count": null,
      "metadata": {
        "colab": {
          "base_uri": "https://localhost:8080/"
        },
        "id": "iPeNSOAJbKgF",
        "outputId": "19887e6a-5ba8-4824-b517-0674effa14c8"
      },
      "outputs": [
        {
          "name": "stdout",
          "output_type": "stream",
          "text": [
            "Loading pipeline components...:  29% 2/7 [00:02<00:05,  1.07s/it]2023-10-16 22:44:35.541557: W tensorflow/compiler/tf2tensorrt/utils/py_utils.cc:38] TF-TRT Warning: Could not find TensorRT\n",
            "Loading pipeline components...: 100% 7/7 [01:19<00:00, 11.38s/it]\n",
            "100% 30/30 [05:03<00:00, 10.13s/it]\n",
            "100% 8/8 [00:02<00:00,  3.09it/s]\n"
          ]
        }
      ],
      "source": [
        "!python inference.py \\\n",
        "  --prompt=\"tom cruise driving a car, hd, high quality\" \\\n",
        "  --output=\"gif6.gif\" \\\n",
        "  --control_type=\"depth\" \\\n",
        "  --width=384 \\\n",
        "  --height=672 \\\n",
        "  --gif=\"/content/clips/gif6.gif\""
      ]
    },
    {
      "cell_type": "code",
      "execution_count": null,
      "metadata": {
        "colab": {
          "background_save": true
        },
        "id": "RgFGh6gXdWu8",
        "outputId": "0f10d7ac-3380-4d45-8cb5-9718fda174b1"
      },
      "outputs": [
        {
          "name": "stdout",
          "output_type": "stream",
          "text": [
            "File downloaded successfully.\n"
          ]
        }
      ],
      "source": [
        "import requests\n",
        "import shutil\n",
        "\n",
        "# Send a GET request and allow redirects\n",
        "response = requests.get('https://civitai.com/api/download/models/178047', stream=True, allow_redirects=True)\n",
        "\n",
        "# Check if the request was successful\n",
        "if response.status_code == 200:\n",
        "    # Open a local file for writing the downloaded data\n",
        "    with open('downloaded_file.safetensors', 'wb') as out_file:\n",
        "        # Copy the downloaded data to the local file\n",
        "        shutil.copyfileobj(response.raw, out_file)\n",
        "    print(\"File downloaded successfully.\")\n",
        "else:\n",
        "    print(f\"Failed to retrieve the file. HTTP Status Code: {response.status_code}\")"
      ]
    },
    {
      "cell_type": "code",
      "execution_count": null,
      "metadata": {
        "colab": {
          "background_save": true,
          "base_uri": "https://localhost:8080/"
        },
        "id": "veEIuKKzgZvh",
        "outputId": "4d499501-6554-4529-bc25-48dc9f7fc1d1"
      },
      "outputs": [
        {
          "metadata": {
            "tags": null
          },
          "name": "stdout",
          "output_type": "stream",
          "text": [
            "Inference done for gif1.gif\n",
            "Inference done for gif2.gif\n",
            "Inference done for gif3.gif\n",
            "Inference done for gif4.gif\n",
            "Inference done for gif5.gif\n",
            "Inference done for gif6.gif\n",
            "Inference done for gif7.gif\n",
            "Inference done for gif8.gif\n",
            "Inference done for gif9.gif\n",
            "Inference done for gif10.gif\n",
            "Inference done for gif11.gif\n",
            "Inference done for gif12.gif\n",
            "Inference done for gif13.gif\n",
            "Inference done for gif14.gif\n",
            "Inference done for gif15.gif\n",
            "Inference done for gif16.gif\n",
            "Inference done for gif17.gif\n",
            "Inference done for gif18.gif\n",
            "Inference done for gif19.gif\n"
          ]
        }
      ],
      "source": [
        "import os\n",
        "import cv2\n",
        "import random\n",
        "import string\n",
        "import imageio\n",
        "import subprocess\n",
        "\n",
        "# Function to generate a random string of fixed length\n",
        "def random_string(length=4):\n",
        "    letters = string.ascii_letters + string.digits\n",
        "    return ''.join(random.choice(letters) for i in range(length))\n",
        "\n",
        "# Initialize an empty list to store the paths of generated GIFs\n",
        "generated_gifs = []\n",
        "\n",
        "# Loop through the GIF files to run inference\n",
        "for i in range(1, 777):\n",
        "    gif_name = f\"gif{i}.gif\"\n",
        "    gif_path = f\"/content/clips/{gif_name}\"\n",
        "\n",
        "    # Construct the command string for inference\n",
        "    cmd_str = f\"\"\"python inference.py \\\n",
        "    --prompt='In a World of My Own, Alice in Wonderland, Disney Animation, hd, high quality.' \\\n",
        "    --output='{gif_name}' \\\n",
        "    --control_type='depth' \\\n",
        "    --width=672 \\\n",
        "    --height=384 \\\n",
        "    --lora=\"/content/Hotshot-XL/downloaded_file.safetensors\" \\\n",
        "    --gif='{gif_path}'\"\"\"\n",
        "\n",
        "    # Run the command for inference\n",
        "    subprocess.run(cmd_str, shell=True)\n",
        "    print(f\"Inference done for {gif_name}\")\n",
        "\n",
        "    # Confirm that the inference was successful before adding to list\n",
        "    inferred_gif_path = f\"/content/Hotshot-XL/{gif_name}\"\n",
        "    if os.path.exists(inferred_gif_path):\n",
        "        generated_gifs.append(inferred_gif_path)"
      ]
    },
    {
      "cell_type": "code",
      "execution_count": null,
      "metadata": {
        "id": "ZCmLyEP3lnuD"
      },
      "outputs": [],
      "source": [
        "!pip install moviepy"
      ]
    },
    {
      "cell_type": "code",
      "execution_count": null,
      "metadata": {
        "id": "l0t-kAYZlpo2"
      },
      "outputs": [],
      "source": [
        "import os\n",
        "import re\n",
        "from moviepy.editor import VideoFileClip, concatenate_videoclips\n",
        "\n",
        "# Function to extract the number from the filename\n",
        "def extract_number(filename):\n",
        "    match = re.search(r'\\d+', filename)\n",
        "    return int(match.group()) if match else 0\n",
        "\n",
        "# Define the source directory and output file\n",
        "source_directory = \"/content/Hotshot-XL\"\n",
        "output_file = \"/content/movie.mp4\"\n",
        "\n",
        "# Initialize an empty list to store VideoFileClip objects\n",
        "clips = []\n",
        "\n",
        "# Traverse the directory to find all GIF files\n",
        "gif_files = [f for f in os.listdir(source_directory) if f.endswith('.gif')]\n",
        "\n",
        "# Sort the GIF files based on the extracted number\n",
        "sorted_gif_files = sorted(gif_files, key=extract_number)\n",
        "\n",
        "# Process the sorted GIF files\n",
        "for filename in sorted_gif_files:\n",
        "    filepath = os.path.join(source_directory, filename)\n",
        "\n",
        "    # Load the GIF file as a VideoFileClip object\n",
        "    clip = VideoFileClip(filepath)\n",
        "\n",
        "    # Append the clip to the list\n",
        "    clips.append(clip)\n",
        "\n",
        "# Concatenate all the clips into one video\n",
        "final_clip = concatenate_videoclips(clips, method=\"compose\")\n",
        "\n",
        "# Write the result to a file\n",
        "final_clip.write_videofile(output_file, fps=24)\n",
        "\n",
        "# Close all clips\n",
        "for clip in clips:\n",
        "    clip.close()\n",
        "final_clip.close()"
      ]
    },
    {
      "cell_type": "code",
      "execution_count": null,
      "metadata": {
        "id": "x2rQlZ-ookVw"
      },
      "outputs": [],
      "source": [
        "%%writefile /content/extaud.py\n",
        "import sys\n",
        "from moviepy.editor import VideoFileClip\n",
        "\n",
        "def add_audio_to_video(source_video_path, target_video_path):\n",
        "    # Load the source video and extract its audio\n",
        "    source_video = VideoFileClip(source_video_path)\n",
        "    source_audio = source_video.audio\n",
        "\n",
        "    # Load the target video\n",
        "    target_video = VideoFileClip(target_video_path)\n",
        "\n",
        "    # Set the audio of the target video to be the source audio\n",
        "    final_video = target_video.set_audio(source_audio)\n",
        "\n",
        "    # Write the final video to a file\n",
        "    final_video.write_videofile(f\"final_{target_video_path.split('/')[-1]}\", codec=\"libx264\")\n",
        "\n",
        "    # Close the video and audio clips\n",
        "    source_video.close()\n",
        "    target_video.close()\n",
        "    source_audio.close()\n",
        "    final_video.close()\n",
        "\n",
        "if __name__ == \"__main__\":\n",
        "    if len(sys.argv) != 3:\n",
        "        print(\"Usage: !python extaud.py <source_video> <target_video>\")\n",
        "        sys.exit(1)\n",
        "\n",
        "    source_video_path = sys.argv[1]\n",
        "    target_video_path = sys.argv[2]\n",
        "\n",
        "    add_audio_to_video(source_video_path, target_video_path)"
      ]
    },
    {
      "cell_type": "code",
      "execution_count": null,
      "metadata": {
        "id": "bEk1LuaAc974"
      },
      "outputs": [],
      "source": [
        "!python vidspeed.py 4 /content/movie.mp4 /content/movie2.mp4"
      ]
    },
    {
      "cell_type": "code",
      "execution_count": null,
      "metadata": {
        "id": "WBRS2l0ei5NO"
      },
      "outputs": [],
      "source": [
        "!python vidspeed.py 4 /content/gifme.mp4 /content/gifme2.mp4"
      ]
    },
    {
      "cell_type": "code",
      "execution_count": null,
      "metadata": {
        "id": "B6MvBqb9pzxp"
      },
      "outputs": [],
      "source": [
        "!python /content/extaud.py \"/content/gifme2.mp4\" \"/content/movie2.mp4\""
      ]
    },
    {
      "cell_type": "code",
      "execution_count": null,
      "metadata": {
        "id": "EZkKUH24grJW"
      },
      "outputs": [],
      "source": []
    },
    {
      "cell_type": "markdown",
      "metadata": {
        "id": "mxmZV4dSehcm"
      },
      "source": [
        "**Delete Crappy Gifs**"
      ]
    },
    {
      "cell_type": "code",
      "execution_count": null,
      "metadata": {
        "colab": {
          "base_uri": "https://localhost:8080/"
        },
        "id": "b9v8UrFdeJNS",
        "outputId": "0aeca0c5-1a62-4c46-e767-2551c485b049"
      },
      "outputs": [
        {
          "name": "stdout",
          "output_type": "stream",
          "text": [
            "Removed: /content/Hotshot-XL/gif34.gif\n",
            "Removed: /content/Hotshot-XL/gif2.gif\n",
            "Removed: /content/Hotshot-XL/gif14.gif\n",
            "Removed: /content/Hotshot-XL/gif5.gif\n",
            "Removed: /content/Hotshot-XL/gif7.gif\n",
            "Removed: /content/Hotshot-XL/gif20.gif\n",
            "Removed: /content/Hotshot-XL/gif11.gif\n",
            "Removed: /content/Hotshot-XL/gif16.gif\n",
            "Removed: /content/Hotshot-XL/gif35.gif\n",
            "Removed: /content/Hotshot-XL/gif21.gif\n",
            "Removed: /content/Hotshot-XL/gif12.gif\n",
            "Removed: /content/Hotshot-XL/gif4.gif\n",
            "Removed: /content/Hotshot-XL/gif30.gif\n",
            "Removed: /content/Hotshot-XL/gif28.gif\n",
            "Removed: /content/Hotshot-XL/gif23.gif\n",
            "Removed: /content/Hotshot-XL/gif15.gif\n",
            "Removed: /content/Hotshot-XL/gif6.gif\n",
            "Removed: /content/Hotshot-XL/gif26.gif\n",
            "Removed: /content/Hotshot-XL/gif33.gif\n",
            "Removed: /content/Hotshot-XL/gif27.gif\n",
            "Removed: /content/Hotshot-XL/gif22.gif\n",
            "Removed: /content/Hotshot-XL/gif29.gif\n",
            "Removed: /content/Hotshot-XL/gif25.gif\n",
            "Removed: /content/Hotshot-XL/gif24.gif\n",
            "Removed: /content/Hotshot-XL/gif3.gif\n",
            "Removed: /content/Hotshot-XL/gif8.gif\n",
            "Removed: /content/Hotshot-XL/gif32.gif\n",
            "Removed: /content/Hotshot-XL/gif1.gif\n",
            "Removed: /content/Hotshot-XL/gif36.gif\n",
            "Removed: /content/Hotshot-XL/gif9.gif\n",
            "Removed: /content/Hotshot-XL/gif18.gif\n",
            "Removed: /content/Hotshot-XL/gif17.gif\n",
            "Removed: /content/Hotshot-XL/gif19.gif\n",
            "Removed: /content/Hotshot-XL/gif31.gif\n",
            "Removed: /content/Hotshot-XL/gif10.gif\n",
            "Removed: /content/Hotshot-XL/gif13.gif\n",
            "Finished removing all .gif files.\n"
          ]
        }
      ],
      "source": [
        "import os\n",
        "import glob\n",
        "\n",
        "# Define the directory and file extension\n",
        "directory = '/content/Hotshot-XL/'\n",
        "extension = '*.gif'\n",
        "\n",
        "# Create the full path with the extension\n",
        "full_path = os.path.join(directory, extension)\n",
        "\n",
        "# Loop through the files and remove them\n",
        "for file_path in glob.glob(full_path):\n",
        "    try:\n",
        "        os.remove(file_path)\n",
        "        print(f\"Removed: {file_path}\")\n",
        "    except Exception as e:\n",
        "        print(f\"Error occurred while deleting file {file_path}: {e}\")\n",
        "\n",
        "print(\"Finished removing all .gif files.\")\n"
      ]
    }
  ],
  "metadata": {
    "accelerator": "GPU",
    "colab": {
      "provenance": [],
      "include_colab_link": true
    },
    "kernelspec": {
      "display_name": "Python 3",
      "name": "python3"
    },
    "language_info": {
      "name": "python"
    }
  },
  "nbformat": 4,
  "nbformat_minor": 0
}