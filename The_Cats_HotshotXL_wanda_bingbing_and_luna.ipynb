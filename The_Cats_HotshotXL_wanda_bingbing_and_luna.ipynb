{
  "cells": [
    {
      "cell_type": "markdown",
      "metadata": {
        "id": "view-in-github",
        "colab_type": "text"
      },
      "source": [
        "<a href=\"https://colab.research.google.com/github/DragonFarts/Video-EZY/blob/main/The_Cats_HotshotXL_wanda_bingbing_and_luna.ipynb\" target=\"_parent\"><img src=\"https://colab.research.google.com/assets/colab-badge.svg\" alt=\"Open In Colab\"/></a>"
      ]
    },
    {
      "cell_type": "markdown",
      "metadata": {
        "id": "UaVl0UJL6p67"
      },
      "source": [
        "# **HotshotXL colab by DragonFarts / GitHub**"
      ]
    },
    {
      "cell_type": "markdown",
      "metadata": {
        "id": "Dlnz4TgN6yOJ"
      },
      "source": [
        "https://github.com/DragonFarts/Video-EZY/blob/main/The_Cats_HotshotXL_wanda_bingbing_and_luna.ipynb\n",
        "https://github.com/DragonFarts/Video-EZY"
      ]
    },
    {
      "cell_type": "markdown",
      "metadata": {
        "id": "aU6LfPuM8Cqa"
      },
      "source": [
        "# - , . , - ~ - , . , - ~ - , . , - ~ - , . , - ~"
      ]
    },
    {
      "cell_type": "markdown",
      "metadata": {
        "id": "sPlewy0E6Gr-"
      },
      "source": [
        "# **Display/Download last 4 GIFs in Hotshot-XL you can change the 4**"
      ]
    },
    {
      "cell_type": "code",
      "execution_count": null,
      "metadata": {
        "colab": {
          "background_save": true
        },
        "id": "OnjfvKXY6Fj2"
      },
      "outputs": [],
      "source": [
        "import os\n",
        "from IPython.display import display, Image\n",
        "\n",
        "# Directory path\n",
        "directory = \"/content/Hotshot-XL\"\n",
        "\n",
        "# Get all gif files in the directory with their modification time\n",
        "all_files = [(file, os.path.getmtime(os.path.join(directory, file))) for file in os.listdir(directory) if file.endswith('.gif')]\n",
        "\n",
        "# Sort files by modification time in descending order and get the first 4\n",
        "recent_gif_files = sorted(all_files, key=lambda x: x[1], reverse=True)[:4]\n",
        "\n",
        "# Display each recent gif\n",
        "for gif, _ in recent_gif_files:\n",
        "    path_to_gif = os.path.join(directory, gif)\n",
        "    display(Image(filename=path_to_gif))\n"
      ]
    },
    {
      "cell_type": "markdown",
      "metadata": {
        "id": "Yj3OBCKG6XzA"
      },
      "source": [
        "# **Display/Download all GiF in Hotshot-XL**"
      ]
    },
    {
      "cell_type": "code",
      "execution_count": null,
      "metadata": {
        "id": "WLW3MCNU6XzI"
      },
      "outputs": [],
      "source": [
        "import os\n",
        "from IPython.display import display, Image\n",
        "\n",
        "# Directory path\n",
        "directory = \"/content/Hotshot-XL\"\n",
        "\n",
        "# List all files in the directory\n",
        "all_files = os.listdir(directory)\n",
        "\n",
        "# Filter for gif files\n",
        "gif_files = [file for file in all_files if file.endswith('.gif')]\n",
        "\n",
        "# Display each gif\n",
        "for gif in gif_files:\n",
        "    path_to_gif = os.path.join(directory, gif)\n",
        "    display(Image(filename=path_to_gif))\n"
      ]
    },
    {
      "cell_type": "markdown",
      "metadata": {
        "id": "y7JDlfso6Z_x"
      },
      "source": [
        "# - , . , - ~ - , . , - ~ - , . , - ~ - , . , - ~"
      ]
    },
    {
      "cell_type": "markdown",
      "metadata": {
        "id": "U9nzKATT476x"
      },
      "source": [
        "## **INSTALL**"
      ]
    },
    {
      "cell_type": "code",
      "execution_count": null,
      "metadata": {
        "colab": {
          "base_uri": "https://localhost:8080/"
        },
        "id": "aGRfJm5x5Bem",
        "outputId": "bbf2b466-edbf-4398-c73b-7372cba062a2"
      },
      "outputs": [
        {
          "name": "stdout",
          "output_type": "stream",
          "text": [
            "/content\n",
            "Cloning into 'Hotshot-XL'...\n",
            "remote: Enumerating objects: 48, done.\u001b[K\n",
            "remote: Counting objects: 100% (19/19), done.\u001b[K\n",
            "remote: Compressing objects: 100% (12/12), done.\u001b[K\n",
            "remote: Total 48 (delta 15), reused 7 (delta 7), pack-reused 29\u001b[K\n",
            "Receiving objects: 100% (48/48), 66.13 KiB | 720.00 KiB/s, done.\n",
            "Resolving deltas: 100% (18/18), done.\n",
            "/content/Hotshot-XL\n",
            "\u001b[2K     \u001b[90m━━━━━━━━━━━━━━━━━━━━━━━━━━━━━━━━━━━━━━━━\u001b[0m \u001b[32m258.1/258.1 kB\u001b[0m \u001b[31m4.8 MB/s\u001b[0m eta \u001b[36m0:00:00\u001b[0m\n",
            "\u001b[2K     \u001b[90m━━━━━━━━━━━━━━━━━━━━━━━━━━━━━━━━━━━━━━━━\u001b[0m \u001b[32m302.0/302.0 kB\u001b[0m \u001b[31m18.0 MB/s\u001b[0m eta \u001b[36m0:00:00\u001b[0m\n",
            "\u001b[?25h  Preparing metadata (setup.py) ... \u001b[?25l\u001b[?25hdone\n",
            "\u001b[2K     \u001b[90m━━━━━━━━━━━━━━━━━━━━━━━━━━━━━━━━━━━━━━━━\u001b[0m \u001b[32m1.5/1.5 MB\u001b[0m \u001b[31m16.7 MB/s\u001b[0m eta \u001b[36m0:00:00\u001b[0m\n",
            "\u001b[2K     \u001b[90m━━━━━━━━━━━━━━━━━━━━━━━━━━━━━━━━━━━━━━━━\u001b[0m \u001b[32m7.7/7.7 MB\u001b[0m \u001b[31m105.1 MB/s\u001b[0m eta \u001b[36m0:00:00\u001b[0m\n",
            "\u001b[2K     \u001b[90m━━━━━━━━━━━━━━━━━━━━━━━━━━━━━━━━━━━━━━━━\u001b[0m \u001b[32m44.6/44.6 kB\u001b[0m \u001b[31m5.0 MB/s\u001b[0m eta \u001b[36m0:00:00\u001b[0m\n",
            "\u001b[2K     \u001b[90m━━━━━━━━━━━━━━━━━━━━━━━━━━━━━━━━━━━━━━━━\u001b[0m \u001b[32m1.3/1.3 MB\u001b[0m \u001b[31m84.9 MB/s\u001b[0m eta \u001b[36m0:00:00\u001b[0m\n",
            "\u001b[2K     \u001b[90m━━━━━━━━━━━━━━━━━━━━━━━━━━━━━━━━━━━━━━━━\u001b[0m \u001b[32m3.8/3.8 MB\u001b[0m \u001b[31m112.5 MB/s\u001b[0m eta \u001b[36m0:00:00\u001b[0m\n",
            "\u001b[2K     \u001b[90m━━━━━━━━━━━━━━━━━━━━━━━━━━━━━━━━━━━━━━━━\u001b[0m \u001b[32m295.0/295.0 kB\u001b[0m \u001b[31m32.3 MB/s\u001b[0m eta \u001b[36m0:00:00\u001b[0m\n",
            "\u001b[?25h  Building wheel for hotshot-xl (setup.py) ... \u001b[?25l\u001b[?25hdone\n"
          ]
        }
      ],
      "source": [
        "%cd /content\n",
        "!git clone -b dev https://github.com/camenduru/Hotshot-XL\n",
        "%cd /content/Hotshot-XL\n",
        "!pip install -q accelerate\n",
        "!pip install -q ."
      ]
    },
    {
      "cell_type": "code",
      "execution_count": null,
      "metadata": {
        "colab": {
          "base_uri": "https://localhost:8080/"
        },
        "id": "O0aVz6m9UkeF",
        "outputId": "f7df2dfe-92b7-48d4-b839-a060e4791c5f"
      },
      "outputs": [
        {
          "name": "stdout",
          "output_type": "stream",
          "text": [
            "Requirement already satisfied: moviepy in /usr/local/lib/python3.10/dist-packages (1.0.3)\n",
            "Requirement already satisfied: decorator<5.0,>=4.0.2 in /usr/local/lib/python3.10/dist-packages (from moviepy) (4.4.2)\n",
            "Requirement already satisfied: tqdm<5.0,>=4.11.2 in /usr/local/lib/python3.10/dist-packages (from moviepy) (4.66.1)\n",
            "Requirement already satisfied: requests<3.0,>=2.8.1 in /usr/local/lib/python3.10/dist-packages (from moviepy) (2.31.0)\n",
            "Requirement already satisfied: proglog<=1.0.0 in /usr/local/lib/python3.10/dist-packages (from moviepy) (0.1.10)\n",
            "Requirement already satisfied: numpy>=1.17.3 in /usr/local/lib/python3.10/dist-packages (from moviepy) (1.23.5)\n",
            "Requirement already satisfied: imageio<3.0,>=2.5 in /usr/local/lib/python3.10/dist-packages (from moviepy) (2.31.5)\n",
            "Requirement already satisfied: imageio-ffmpeg>=0.2.0 in /usr/local/lib/python3.10/dist-packages (from moviepy) (0.4.9)\n",
            "Requirement already satisfied: pillow>=8.3.2 in /usr/local/lib/python3.10/dist-packages (from imageio<3.0,>=2.5->moviepy) (9.4.0)\n",
            "Requirement already satisfied: setuptools in /usr/local/lib/python3.10/dist-packages (from imageio-ffmpeg>=0.2.0->moviepy) (67.7.2)\n",
            "Requirement already satisfied: charset-normalizer<4,>=2 in /usr/local/lib/python3.10/dist-packages (from requests<3.0,>=2.8.1->moviepy) (3.3.0)\n",
            "Requirement already satisfied: idna<4,>=2.5 in /usr/local/lib/python3.10/dist-packages (from requests<3.0,>=2.8.1->moviepy) (3.4)\n",
            "Requirement already satisfied: urllib3<3,>=1.21.1 in /usr/local/lib/python3.10/dist-packages (from requests<3.0,>=2.8.1->moviepy) (2.0.7)\n",
            "Requirement already satisfied: certifi>=2017.4.17 in /usr/local/lib/python3.10/dist-packages (from requests<3.0,>=2.8.1->moviepy) (2023.7.22)\n"
          ]
        }
      ],
      "source": [
        "!pip install moviepy"
      ]
    },
    {
      "cell_type": "markdown",
      "metadata": {
        "id": "EiMAmg8g2Kcn"
      },
      "source": [
        "**INSTALL WANDA THE CAT LoRa**"
      ]
    },
    {
      "cell_type": "code",
      "execution_count": null,
      "metadata": {
        "colab": {
          "base_uri": "https://localhost:8080/"
        },
        "id": "-qmAqMhF5NeR",
        "outputId": "5f231dc7-b846-4caf-ea3c-0a5266075e1d"
      },
      "outputs": [
        {
          "name": "stdout",
          "output_type": "stream",
          "text": [
            "File downloaded successfully.\n"
          ]
        }
      ],
      "source": [
        "import requests\n",
        "import shutil\n",
        "\n",
        "# Send a GET request and allow redirects\n",
        "response = requests.get('https://orchestration.civitai.com/v1/consumer/jobs/403f01d0-c87b-44a3-b408-3e923a776f9f/assets/wandathecat.safetensors', stream=True, allow_redirects=True)\n",
        "\n",
        "# Check if the request was successful\n",
        "if response.status_code == 200:\n",
        "    # Open a local file for writing the downloaded data\n",
        "    with open('wandathecat.safetensors', 'wb') as out_file:\n",
        "        # Copy the downloaded data to the local file\n",
        "        shutil.copyfileobj(response.raw, out_file)\n",
        "    print(\"File downloaded successfully.\")\n",
        "else:\n",
        "    print(f\"Failed to retrieve the file. HTTP Status Code: {response.status_code}\")"
      ]
    },
    {
      "cell_type": "markdown",
      "metadata": {
        "id": "7uaNqBdD2OU2"
      },
      "source": [
        "**INSTALL LUNA THE CAT LoRa**"
      ]
    },
    {
      "cell_type": "code",
      "execution_count": null,
      "metadata": {
        "colab": {
          "base_uri": "https://localhost:8080/"
        },
        "id": "DnhSwDh45V0f",
        "outputId": "e6dac539-f544-4310-ea4b-136a4261d52b"
      },
      "outputs": [
        {
          "name": "stdout",
          "output_type": "stream",
          "text": [
            "File downloaded successfully.\n"
          ]
        }
      ],
      "source": [
        "import requests\n",
        "import shutil\n",
        "\n",
        "# Send a GET request and allow redirects\n",
        "response = requests.get('https://orchestration.civitai.com/v1/consumer/jobs/b0584f67-1c7b-4938-bd9e-326fdf4c4b33/assets/blacklunacat.safetensors', stream=True, allow_redirects=True)\n",
        "\n",
        "# Check if the request was successful\n",
        "if response.status_code == 200:\n",
        "    # Open a local file for writing the downloaded data\n",
        "    with open('lunathecat.safetensors', 'wb') as out_file:\n",
        "        # Copy the downloaded data to the local file\n",
        "        shutil.copyfileobj(response.raw, out_file)\n",
        "    print(\"File downloaded successfully.\")\n",
        "else:\n",
        "    print(f\"Failed to retrieve the file. HTTP Status Code: {response.status_code}\")"
      ]
    },
    {
      "cell_type": "markdown",
      "metadata": {
        "id": "W1FDpiul2Q1f"
      },
      "source": [
        "**INSTALL BINGBING LoRa**"
      ]
    },
    {
      "cell_type": "code",
      "execution_count": null,
      "metadata": {
        "colab": {
          "base_uri": "https://localhost:8080/"
        },
        "id": "AJVgWUid5b3d",
        "outputId": "0b980d53-8fed-49c7-e3a3-1e06e9f23f77"
      },
      "outputs": [
        {
          "name": "stdout",
          "output_type": "stream",
          "text": [
            "File downloaded successfully.\n"
          ]
        }
      ],
      "source": [
        "import requests\n",
        "import shutil\n",
        "\n",
        "# Send a GET request and allow redirects\n",
        "response = requests.get('https://orchestration.civitai.com/v1/consumer/jobs/9e6a1134-ad55-45eb-a5ab-2e2a4d3487f1/assets/Flame_Point_Ragdoll_Cats.safetensors', stream=True, allow_redirects=True)\n",
        "\n",
        "# Check if the request was successful\n",
        "if response.status_code == 200:\n",
        "    # Open a local file for writing the downloaded data\n",
        "    with open('bingbing.safetensors', 'wb') as out_file:\n",
        "        # Copy the downloaded data to the local file\n",
        "        shutil.copyfileobj(response.raw, out_file)\n",
        "    print(\"File downloaded successfully.\")\n",
        "else:\n",
        "    print(f\"Failed to retrieve the file. HTTP Status Code: {response.status_code}\")"
      ]
    },
    {
      "cell_type": "markdown",
      "metadata": {
        "id": "SmBHVBgn2Tig"
      },
      "source": [
        "**INSTALL Bhairavidevi_Character LoRa**"
      ]
    },
    {
      "cell_type": "code",
      "execution_count": null,
      "metadata": {
        "colab": {
          "base_uri": "https://localhost:8080/"
        },
        "id": "tDWeUONJNdYW",
        "outputId": "a0183b38-fa36-4a64-ddf9-5f2dffd7ff47"
      },
      "outputs": [
        {
          "name": "stdout",
          "output_type": "stream",
          "text": [
            "File downloaded successfully.\n"
          ]
        }
      ],
      "source": [
        "import requests\n",
        "import shutil\n",
        "\n",
        "# Send a GET request and allow redirects\n",
        "response = requests.get('https://orchestration.civitai.com/v1/consumer/jobs/9ff7a520-37f5-494d-9f3c-215861df98cf/assets/bhairavidevi2.safetensors', stream=True, allow_redirects=True)\n",
        "\n",
        "# Check if the request was successful\n",
        "if response.status_code == 200:\n",
        "    # Open a local file for writing the downloaded data\n",
        "    with open('bhairavidevi_char.safetensors', 'wb') as out_file:\n",
        "        # Copy the downloaded data to the local file\n",
        "        shutil.copyfileobj(response.raw, out_file)\n",
        "    print(\"File downloaded successfully.\")\n",
        "else:\n",
        "    print(f\"Failed to retrieve the file. HTTP Status Code: {response.status_code}\")"
      ]
    },
    {
      "cell_type": "markdown",
      "metadata": {
        "id": "MKmW76i52YHp"
      },
      "source": [
        "**INSTALL Bhairavidevi_Style LoRa**"
      ]
    },
    {
      "cell_type": "code",
      "execution_count": null,
      "metadata": {
        "colab": {
          "base_uri": "https://localhost:8080/"
        },
        "id": "isZ1dOiCsanX",
        "outputId": "c35f932c-4345-4da0-f4a4-88a7a77029bf"
      },
      "outputs": [
        {
          "name": "stdout",
          "output_type": "stream",
          "text": [
            "File downloaded successfully.\n"
          ]
        }
      ],
      "source": [
        "import requests\n",
        "import shutil\n",
        "\n",
        "# Send a GET request and allow redirects\n",
        "response = requests.get('https://orchestration.civitai.com/v1/consumer/jobs/e818f13e-f0ff-4006-981f-10427f095df0/assets/bhairavidevistyle.safetensors', stream=True, allow_redirects=True)\n",
        "\n",
        "# Check if the request was successful\n",
        "if response.status_code == 200:\n",
        "    # Open a local file for writing the downloaded data\n",
        "    with open('bhairavidevi_style.safetensors', 'wb') as out_file:\n",
        "        # Copy the downloaded data to the local file\n",
        "        shutil.copyfileobj(response.raw, out_file)\n",
        "    print(\"File downloaded successfully.\")\n",
        "else:\n",
        "    print(f\"Failed to retrieve the file. HTTP Status Code: {response.status_code}\")"
      ]
    },
    {
      "cell_type": "markdown",
      "metadata": {
        "id": "ZPY_hwsx2a_9"
      },
      "source": [
        "**INSTALL Bhairavidevi_Concept LoRa**"
      ]
    },
    {
      "cell_type": "code",
      "execution_count": null,
      "metadata": {
        "colab": {
          "base_uri": "https://localhost:8080/"
        },
        "id": "JIHCm7ItsgqW",
        "outputId": "e9a94d28-2616-4966-c692-fde6f522d84c"
      },
      "outputs": [
        {
          "name": "stdout",
          "output_type": "stream",
          "text": [
            "File downloaded successfully.\n"
          ]
        }
      ],
      "source": [
        "import requests\n",
        "import shutil\n",
        "\n",
        "# Send a GET request and allow redirects\n",
        "response = requests.get('https://orchestration.civitai.com/v1/consumer/jobs/42f8dcc9-0d0e-49ac-8383-a73be201f24a/assets/bhairavideviconcept.safetensors', stream=True, allow_redirects=True)\n",
        "\n",
        "# Check if the request was successful\n",
        "if response.status_code == 200:\n",
        "    # Open a local file for writing the downloaded data\n",
        "    with open('bhairavidevi_concept.safetensors', 'wb') as out_file:\n",
        "        # Copy the downloaded data to the local file\n",
        "        shutil.copyfileobj(response.raw, out_file)\n",
        "    print(\"File downloaded successfully.\")\n",
        "else:\n",
        "    print(f\"Failed to retrieve the file. HTTP Status Code: {response.status_code}\")"
      ]
    },
    {
      "cell_type": "markdown",
      "metadata": {
        "id": "0OZCAg4g2d1H"
      },
      "source": [
        "**INSTALL Dance_Art LoRa**"
      ]
    },
    {
      "cell_type": "code",
      "execution_count": null,
      "metadata": {
        "colab": {
          "base_uri": "https://localhost:8080/"
        },
        "id": "n0T-v1_6viKQ",
        "outputId": "025c5e13-2bde-41b8-bfb5-a0a06f9467e9"
      },
      "outputs": [
        {
          "name": "stdout",
          "output_type": "stream",
          "text": [
            "File downloaded successfully.\n"
          ]
        }
      ],
      "source": [
        "import requests\n",
        "import shutil\n",
        "\n",
        "# Send a GET request and allow redirects\n",
        "response = requests.get('https://civitai.com/api/download/models/155798', stream=True, allow_redirects=True)\n",
        "\n",
        "# Check if the request was successful\n",
        "if response.status_code == 200:\n",
        "    # Open a local file for writing the downloaded data\n",
        "    with open('dance.safetensors', 'wb') as out_file:\n",
        "        # Copy the downloaded data to the local file\n",
        "        shutil.copyfileobj(response.raw, out_file)\n",
        "    print(\"File downloaded successfully.\")\n",
        "else:\n",
        "    print(f\"Failed to retrieve the file. HTTP Status Code: {response.status_code}\")"
      ]
    },
    {
      "cell_type": "code",
      "execution_count": null,
      "metadata": {
        "id": "BSvml288vhq4"
      },
      "outputs": [],
      "source": []
    },
    {
      "cell_type": "markdown",
      "metadata": {
        "id": "moISIdw_5gfY"
      },
      "source": [
        "# **Generate Single Images**"
      ]
    },
    {
      "cell_type": "markdown",
      "metadata": {
        "id": "KmIitLln17xr"
      },
      "source": [
        "**no LoRa**"
      ]
    },
    {
      "cell_type": "code",
      "execution_count": null,
      "metadata": {
        "id": "calsqzVY0DvT"
      },
      "outputs": [],
      "source": [
        "import os\n",
        "import random\n",
        "# Generate 4 random numbers for the second prompt\n",
        "random_numbers2 = \"\".join([str(random.randint(0, 9)) for _ in range(4)])\n",
        "\n",
        "# Create the output GIF name for the second prompt\n",
        "output_name2 = f\"lunathecat_{random_numbers2}.gif\"\n",
        "\n",
        "# Run the inference script for the second prompt with the generated output name\n",
        "os.system(f\"\"\"python /content/Hotshot-XL/inference.py \\\n",
        "  --prompt='chris dyer inspired blacklunacat, Photo-realistic image of a short-haired, pitch-black cat with deep green eyes in full body. The cat has majestic wings spread wide, and it is soaring away from Earth, capturing a breathtaking moment of celestial escape.' \\\n",
        "  --output=\"{output_name2}\" \\\n",
        "  --width=672 \\\n",
        "  --height=384 \\\n",
        "  --video_length=1 \"\"\")\n",
        "\n",
        "print(f\"Generated GIF with name: {output_name2}\")\n"
      ]
    },
    {
      "cell_type": "markdown",
      "metadata": {
        "id": "0fUJrv501-11"
      },
      "source": [
        "**LUNATHECAT**"
      ]
    },
    {
      "cell_type": "code",
      "execution_count": null,
      "metadata": {
        "colab": {
          "base_uri": "https://localhost:8080/"
        },
        "id": "7TDthiF750Fu",
        "outputId": "347ee7e5-4792-4c34-fbf4-11aabcf25765"
      },
      "outputs": [
        {
          "name": "stdout",
          "output_type": "stream",
          "text": [
            "Generated GIF with name: lunathecat_2613.gif\n"
          ]
        }
      ],
      "source": [
        "import os\n",
        "import random\n",
        "# Generate 4 random numbers for the second prompt\n",
        "random_numbers2 = \"\".join([str(random.randint(0, 9)) for _ in range(4)])\n",
        "\n",
        "# Create the output GIF name for the second prompt\n",
        "output_name2 = f\"lunathecat_{random_numbers2}.gif\"\n",
        "\n",
        "# Run the inference script for the second prompt with the generated output name\n",
        "os.system(f\"\"\"python /content/Hotshot-XL/inference.py \\\n",
        "  --prompt='chris dyer inspired blacklunacat, Photo-realistic image of a short-haired, pitch-black cat with deep green eyes in full body. The cat has majestic wings spread wide, and it is soaring away from Earth, capturing a breathtaking moment of celestial escape.' \\\n",
        "  --output=\"{output_name2}\" \\\n",
        "  --width=672 \\\n",
        "  --height=384 \\\n",
        "  --video_length=1 \\\n",
        "  --lora=\"/content/Hotshot-XL/lunathecat.safetensors\" \"\"\")\n",
        "\n",
        "print(f\"Generated GIF with name: {output_name2}\")\n"
      ]
    },
    {
      "cell_type": "markdown",
      "metadata": {
        "id": "OZfdMC2N2Eb9"
      },
      "source": [
        "**BINGBING**"
      ]
    },
    {
      "cell_type": "code",
      "execution_count": null,
      "metadata": {
        "colab": {
          "base_uri": "https://localhost:8080/"
        },
        "id": "E9wdEjb561hq",
        "outputId": "a9bc9428-ea38-4563-8579-acc96dab26fd"
      },
      "outputs": [
        {
          "name": "stdout",
          "output_type": "stream",
          "text": [
            "Generated GIF with name: bingbing_1138.gif\n"
          ]
        }
      ],
      "source": [
        "import random\n",
        "import os\n",
        "\n",
        "# Generate 4 random numbers\n",
        "random_numbers = \"\".join([str(random.randint(0, 9)) for _ in range(4)])\n",
        "\n",
        "# Create the output GIF name\n",
        "output_name = f\"bingbing_{random_numbers}.gif\"\n",
        "\n",
        "# Run the inference script with the generated output name\n",
        "os.system(f\"\"\"python inference.py \\\n",
        "  --prompt='bingbing, flamepoint ragdoll cat, A fluffy white and orange cat gracefully parachutes...' \\\n",
        "  --output=\"{output_name}\" \\\n",
        "  --width=672 \\\n",
        "  --height=384 \\\n",
        "  --video_length=1 \\\n",
        "  --lora=\"/content/Hotshot-XL/bingbing.safetensors\" \"\"\")\n",
        "\n",
        "print(f\"Generated GIF with name: {output_name}\")\n"
      ]
    },
    {
      "cell_type": "markdown",
      "source": [
        "**WANDATHECAT**"
      ],
      "metadata": {
        "id": "uSV30Ek4Gpci"
      }
    },
    {
      "cell_type": "code",
      "execution_count": null,
      "metadata": {
        "colab": {
          "base_uri": "https://localhost:8080/"
        },
        "outputId": "a9bc9428-ea38-4563-8579-acc96dab26fd",
        "id": "zoVnKg-fGvUo"
      },
      "outputs": [
        {
          "name": "stdout",
          "output_type": "stream",
          "text": [
            "Generated GIF with name: bingbing_1138.gif\n"
          ]
        }
      ],
      "source": [
        "import random\n",
        "import os\n",
        "\n",
        "# Generate 4 random numbers\n",
        "random_numbers = \"\".join([str(random.randint(0, 9)) for _ in range(4)])\n",
        "\n",
        "# Create the output GIF name\n",
        "output_name = f\"bingbing_{random_numbers}.gif\"\n",
        "\n",
        "# Run the inference script with the generated output name\n",
        "os.system(f\"\"\"python inference.py \\\n",
        "  --prompt='wandathecat, an african tabby cat black white and brown fur dressed as a gangsta Shooting a AK47' \\\n",
        "  --output=\"{output_name}\" \\\n",
        "  --width=672 \\\n",
        "  --height=384 \\\n",
        "  --video_length=1 \\\n",
        "  --lora=\"/content/Hotshot-XL/wandathecat.safetensors\" \"\"\")\n",
        "\n",
        "print(f\"Generated GIF with name: {output_name}\")\n"
      ]
    },
    {
      "cell_type": "markdown",
      "metadata": {
        "id": "2PULnluk8JOX"
      },
      "source": [
        "# - , . , - ~ - , . , - ~ - , . , - ~ - , . , - ~"
      ]
    },
    {
      "cell_type": "markdown",
      "metadata": {
        "id": "960UWCzv8JOY"
      },
      "source": [
        "# **Generate 1 second videos**"
      ]
    },
    {
      "cell_type": "markdown",
      "metadata": {
        "id": "FNsBF7x81rCQ"
      },
      "source": [
        "**NO LORA**"
      ]
    },
    {
      "cell_type": "code",
      "execution_count": null,
      "metadata": {
        "id": "nnmvQ2AK0WSH"
      },
      "outputs": [],
      "source": [
        "import os\n",
        "import random\n",
        "# Generate 4 random numbers for the second prompt\n",
        "random_numbers2 = \"\".join([str(random.randint(0, 9)) for _ in range(4)])\n",
        "\n",
        "# Create the output GIF name for the second prompt\n",
        "output_name2 = f\"lunathecat_{random_numbers2}.gif\"\n",
        "\n",
        "# Run the inference script for the second prompt with the generated output name\n",
        "os.system(f\"\"\"python /content/Hotshot-XL/inference.py \\\n",
        "  --prompt='chris dyer inspired blacklunacat, Photo-realistic image of a short-haired, pitch-black cat with deep green eyes in full body. The cat has majestic wings spread wide, and it is soaring away from Earth, capturing a breathtaking moment of celestial escape.' \\\n",
        "  --output=\"{output_name2}\" \\\n",
        "  --width=672 \\\n",
        "  --height=384 \"\"\")\n",
        "\n",
        "print(f\"Generated GIF with name: {output_name2}\")\n"
      ]
    },
    {
      "cell_type": "markdown",
      "metadata": {
        "id": "EocFO9gK1tR-"
      },
      "source": [
        "**LUNATHECAT**"
      ]
    },
    {
      "cell_type": "code",
      "execution_count": null,
      "metadata": {
        "colab": {
          "base_uri": "https://localhost:8080/"
        },
        "id": "ukVYYE7i_jU_",
        "outputId": "e9628387-7730-4d71-ab35-75e3c700e6c6"
      },
      "outputs": [
        {
          "name": "stdout",
          "output_type": "stream",
          "text": [
            "Generated GIF with name: lunathecat_7685.gif\n"
          ]
        }
      ],
      "source": [
        "import os\n",
        "import random\n",
        "# Generate 4 random numbers for the second prompt\n",
        "random_numbers2 = \"\".join([str(random.randint(0, 9)) for _ in range(4)])\n",
        "\n",
        "# Create the output GIF name for the second prompt\n",
        "output_name2 = f\"lunathecat_{random_numbers2}.gif\"\n",
        "\n",
        "# Run the inference script for the second prompt with the generated output name\n",
        "os.system(f\"\"\"python inference.py \\\n",
        "  --prompt='chris dyer inspired blacklunacat, Photo-realistic image of a short-haired, pitch-black cat with deep green eyes in full body. The cat has majestic wings spread wide, and it is soaring away from Earth, capturing a breathtaking moment of celestial escape.' \\\n",
        "  --output=\"{output_name2}\" \\\n",
        "  --width=672 \\\n",
        "  --height=384 \\\n",
        "  --lora=\"/content/Hotshot-XL/lunathecat.safetensors\" \"\"\")\n",
        "\n",
        "print(f\"Generated GIF with name: {output_name2}\")\n"
      ]
    },
    {
      "cell_type": "markdown",
      "metadata": {
        "id": "816k2IED1ySd"
      },
      "source": [
        "**BINGBING**"
      ]
    },
    {
      "cell_type": "code",
      "execution_count": null,
      "metadata": {
        "colab": {
          "base_uri": "https://localhost:8080/"
        },
        "id": "yDkhRmqW_jVa",
        "outputId": "d740da19-cba2-47d0-9c6b-d41471c40e1c"
      },
      "outputs": [
        {
          "name": "stdout",
          "output_type": "stream",
          "text": [
            "Generated GIF with name: bingbing_1378.gif\n"
          ]
        }
      ],
      "source": [
        "import random\n",
        "import os\n",
        "\n",
        "# Generate 4 random numbers\n",
        "random_numbers = \"\".join([str(random.randint(0, 9)) for _ in range(4)])\n",
        "\n",
        "# Create the output GIF name\n",
        "output_name = f\"bingbing_{random_numbers}.gif\"\n",
        "\n",
        "# Run the inference script with the generated output name\n",
        "os.system(f\"\"\"python inference.py \\\n",
        "  --prompt='bingbing, flamepoint ragdoll cat, A fluffy white and orange cat gracefully parachutes...' \\\n",
        "  --output=\"{output_name}\" \\\n",
        "  --width=672 \\\n",
        "  --height=384 \\\n",
        "  --lora=\"/content/Hotshot-XL/bingbing.safetensors\" \"\"\")\n",
        "\n",
        "print(f\"Generated GIF with name: {output_name}\")\n"
      ]
    },
    {
      "cell_type": "markdown",
      "metadata": {
        "id": "_lUSld_E11KG"
      },
      "source": [
        "**WANDATHECAT**"
      ]
    },
    {
      "cell_type": "code",
      "execution_count": null,
      "metadata": {
        "colab": {
          "base_uri": "https://localhost:8080/"
        },
        "id": "5kD2wmd9_jWG",
        "outputId": "75b517e4-5702-406b-b638-07c5cc1d86fc"
      },
      "outputs": [
        {
          "name": "stdout",
          "output_type": "stream",
          "text": [
            "Generated GIF with name: wandathecat_9087.gif\n"
          ]
        }
      ],
      "source": [
        "import os\n",
        "import random\n",
        "# Generate 4 random numbers for the third prompt\n",
        "random_numbers3 = \"\".join([str(random.randint(0, 9)) for _ in range(4)])\n",
        "\n",
        "# Create the output GIF name for the third prompt\n",
        "output_name3 = f\"wandathecat_{random_numbers3}.gif\"\n",
        "\n",
        "# Run the inference script for the third prompt with the generated output name\n",
        "os.system(f\"\"\"python inference.py \\\n",
        "  --prompt='wandathecat, at KFC tabby cat dressed up as a mix between gangsta and chef shooting a ak47 at dogs.' \\\n",
        "  --output=\"{output_name3}\" \\\n",
        "  --width=672 \\\n",
        "  --height=384 \\\n",
        "  --lora=\"/content/Hotshot-XL/wandathecat.safetensors\" \"\"\")\n",
        "\n",
        "print(f\"Generated GIF with name: {output_name3}\")\n"
      ]
    },
    {
      "cell_type": "markdown",
      "metadata": {
        "id": "5A1LItbz1pct"
      },
      "source": [
        "# - , . , - ~ - , . , - ~ - , . , - ~ - , . , - ~"
      ]
    },
    {
      "cell_type": "markdown",
      "metadata": {
        "id": "Q4axGP-vNmxP"
      },
      "source": [
        "# BHAIRAVI DEVI"
      ]
    },
    {
      "cell_type": "code",
      "execution_count": null,
      "metadata": {
        "colab": {
          "base_uri": "https://localhost:8080/"
        },
        "id": "EqlDvW8XNpzr",
        "outputId": "337252d1-abe6-41a0-960b-8f0c095d56a7"
      },
      "outputs": [
        {
          "name": "stdout",
          "output_type": "stream",
          "text": [
            "Generated GIF with name: bhairavidevi_0403.gif and seed: 734\n"
          ]
        }
      ],
      "source": [
        "import os\n",
        "import random\n",
        "\n",
        "# Generate a random number for both the output name and seed\n",
        "random_number = random.randint(0, 10000)  # You can set the range as per your requirement\n",
        "\n",
        "# Create the output GIF name\n",
        "output_name3 = f\"bhairavidevi_{random_number}.gif\"\n",
        "\n",
        "# Run the inference script with the generated output name and seed\n",
        "os.system(f\"\"\"python inference.py \\\n",
        "  --prompt='bhairavidevi, ecstatic, bhairavi devi dancing, pencil drawing.' \\\n",
        "  --output=\"{output_name3}\" \\\n",
        "  --width=672 \\\n",
        "  --seed={random_number} \\\n",
        "  --height=384 \\\n",
        "  --lora=\"/content/Hotshot-XL/bhairavidevi.safetensors\" \"\"\")\n",
        "\n",
        "print(f\"Generated GIF with name: {output_name3} and seed: {random_number}\")\n"
      ]
    },
    {
      "cell_type": "markdown",
      "metadata": {
        "id": "5iY9kpaQUfJL"
      },
      "source": [
        "# NOW THE COOL SHIT"
      ]
    },
    {
      "cell_type": "code",
      "execution_count": null,
      "metadata": {
        "colab": {
          "base_uri": "https://localhost:8080/"
        },
        "id": "mObGZtg9UhvS",
        "outputId": "03f913fd-ca5f-4557-83a0-3f4bfc246606"
      },
      "outputs": [
        {
          "name": "stdout",
          "output_type": "stream",
          "text": [
            "Overwriting /content/coolshit.py\n"
          ]
        }
      ],
      "source": [
        "%%writefile /content/coolshit.py\n",
        "import random\n",
        "import os\n",
        "from moviepy.editor import VideoFileClip, concatenate_videoclips\n",
        "from moviepy.video.fx.time_mirror import time_mirror\n",
        "\n",
        "# Define lists of buzz words or key elements for each category.\n",
        "# Each list should be expanded to contain 54 elements for maximum variability.\n",
        "# Define lists of buzz words or key elements for each category.\n",
        "\n",
        "# Emotions or states\n",
        "emotions = ['passionate', 'intense', 'terrifying', 'serene', 'ecstatic', 'otherworldly', 'mystical', 'fiery', 'compassionate', 'euphoric', 'wrathful', 'celestial', 'meditative', 'enraged', 'joyful', 'curious', 'pondering', 'vigilant', 'triumphant', 'insightful', 'brooding', 'sorrowful', 'anxious', 'calm', 'stoic', 'affectionate', 'humorous', 'devoted', 'contemplative', 'doubtful', 'forgiving', 'resentful', 'honorable', 'disgusted', 'optimistic', 'pessimistic', 'gloomy', 'relieved', 'impressed', 'grateful', 'frustrated', 'hopeful', 'desperate', 'awe-struck', 'disappointed', 'graceful', 'lively', 'playful', 'energetic', 'lazy', 'awake', 'dreamy']\n",
        "\n",
        "# Settings or locations\n",
        "settings = ['ancient temple', 'floating island', 'edge of universe', 'tranquil pond', 'dark clouds', 'haunting graveyard', 'mystical forest', 'cosmic sky', 'timeless desert', 'ruined temple', 'serene Himalayan backdrop', 'dense jungle', 'ethereal realm', 'subterranean cave', 'vast ocean', 'icy tundra', 'flowing river', 'meadow', 'cosmic abyss', 'cityscape', 'alien planet', 'rural village', 'palace', 'bazaar', 'war zone', 'cloud city', 'medieval castle', 'futuristic metropolis', 'underwater city', 'wild west', 'space station', 'volcano', 'sacred grove', 'dojo', 'hospital', 'school', 'laboratory', 'abandoned factory', 'train station', 'airport', 'museum', 'library', 'amusement park', 'zoo', 'farm', 'vineyard', 'battlefield', 'arena', 'concert hall']\n",
        "\n",
        "# Physical details or attributes\n",
        "details = ['radiant skin', 'almond eyes', 'holding trident', 'yogis in trance', 'deer grazing', 'ghostly apparitions', 'ancient ruins', 'soaring mythical creatures', 'worshiping yogis', 'intricate carvings', 'sages meditating', 'ethereal creatures', 'divine aura', 'golden adornments', 'sacred geometry', 'crystal formations', 'rainbow spectrum', 'shadowy figures', 'multiple arms', 'long flowing hair', 'flickering candles', 'sacred scrolls', 'vivid tattoos', 'burning incense', 'serpent coiling', 'moon phases', 'solar flares', 'thunder clouds', 'fiery halo', 'wings of light', 'dark vortex', 'sparkling jewels', 'warrior armor', 'angelic choir', 'demonic figures', 'animal spirits', 'floral designs', 'mystic runes', 'magic circles', 'celestial bodies', 'martial weapons', 'sacred texts', 'ancient artifacts', 'divine tools', 'intricate mandalas', 'chakra points', 'elemental forces', 'musical instruments', 'cosmic spheres']\n",
        "\n",
        "# Visual effects or styles\n",
        "visual_effects = ['soft hues', 'dramatic shadows', 'vibrant colors', 'ethereal glow', 'neon accents', 'deep contrasts', 'surreal dimensions', 'psychedelic patterns', 'crystalline structures', 'geometric shapes', 'muted tones', 'sepia filter', 'fish-eye lens', 'time-lapse', 'slow-motion', 'pixelated', 'oil-paint texture', 'watercolor splashes', 'charcoal outlines', 'chalky finish', 'metallic sheen', 'glassy surface', 'furry texture', 'sandpaper grit', 'mirror reflection', 'kaleidoscope view', 'double exposure', 'negative space', 'blurred edges', 'sharp focus', 'grainy film', 'vintage look', 'futuristic interface', 'comic book style', 'steampunk gears', 'cybernetic implants', 'floral embroidery', 'oriental motifs', 'African patterns', 'tribal markings', 'Celtic knots', 'Greek frescoes', 'Egyptian hieroglyphs', 'Mayan carvings', 'Indian paisleys', 'Arabic calligraphy']\n",
        "\n",
        "# Actions or activities\n",
        "actions = ['dancing', 'meditating', 'transforming', 'levitating', 'singing', 'chanting', 'gazing', 'fighting', 'praying', 'exploring', 'painting', 'writing', 'reading', 'cooking', 'gardening', 'swimming', 'flying', 'running', 'climbing', 'jumping', 'diving', 'sparring', 'studying', 'lecturing', 'healing', 'building', 'destroying', 'conjuring', 'channeling', 'teleporting', 'time-traveling', 'shape-shifting', 'mind-reading', 'astral-projecting', 'dream-walking', 'soul-searching', 'fortune-telling', 'potion-making', 'sword-fighting', 'archery', 'horse-riding', 'fishing', 'hunting', 'sailing', 'cycling', 'driving', 'piloting', 'hiking', 'camping']\n",
        "\n",
        "# Symbols or iconic elements\n",
        "symbols = ['lotus', 'trident', 'om', 'mandala', 'chakras', 'yin-yang', 'pentacle', 'ankh', 'cross', 'star of David', 'crescent moon', 'sacred heart', 'swastika', 'khanda', 'wheel of dharma', 'infinity loop', 'peace sign', 'dragon', 'phoenix', 'unicorn', 'raven', 'wolf', 'bear', 'tiger', 'elephant', 'hawk', 'snake', 'turtle', 'fish', 'butterfly', 'bee', 'spider', 'scorpion', 'bat', 'owl', 'lizard', 'falcon', 'eagle', 'crow', 'squirrel', 'rabbit', 'deer', 'fox', 'coyote', 'buffalo', 'whale', 'dolphin', 'shark', 'octopus', 'seahorse']\n",
        "\n",
        "# Themes or overarching concepts\n",
        "themes = ['rebirth', 'transcendence', 'wisdom', 'justice', 'freedom', 'love', 'fate', 'destiny', 'chaos', 'order', 'creation', 'destruction', 'life', 'death', 'time', 'eternity', 'truth', 'illusion', 'consciousness', 'unconscious', 'reality', 'fantasy', 'innocence', 'experience', 'peace', 'war', 'pleasure', 'pain', 'light', 'darkness', 'earth', 'water', 'fire', 'air', 'spirit', 'mind', 'body', 'soul', 'past', 'present', 'future', 'youth', 'adulthood', 'old age', 'poverty', 'wealth', 'fame', 'obscurity', 'good', 'evil']\n",
        "\n",
        "# Initialize log file\n",
        "with open(\"log.txt\", \"w\") as log_file:\n",
        "    log_file.write(\"Log of generated GIFs:\\n\")\n",
        "\n",
        "# Number of loops (feel free to change this number)\n",
        "loops = 49\n",
        "\n",
        "for i in range(loops):\n",
        "    # Generate a random number for both the output name and seed\n",
        "    random_number = random.randint(0, 10000)\n",
        "\n",
        "    # Create the output GIF name\n",
        "    output_name3 = f\"bhairavidevi_{random_number}.gif\"\n",
        "\n",
        "    # Randomly pick one element from each category to form a prompt.\n",
        "    selected_emotion = random.choice(emotions)\n",
        "    selected_setting = random.choice(settings)\n",
        "    selected_detail = random.choice(details)\n",
        "    selected_visual_effect = random.choice(visual_effects)\n",
        "    selected_action = random.choice(actions)\n",
        "    selected_symbol = random.choice(symbols)\n",
        "    selected_theme = random.choice(themes)\n",
        "\n",
        "    # Generate a prompt using the randomly selected elements.\n",
        "    selected_prompt = f\"bhairavidevi, Theme: {selected_theme}, Emotion: {selected_emotion}, Setting: {selected_setting}, Detail: {selected_detail}, Visual Effect: {selected_visual_effect}, Action: {selected_action}, Symbol: {selected_symbol}\"\n",
        "\n",
        "    # Run the inference script with the generated output name, selected prompt, and seed\n",
        "    os.system(f\"\"\"python inference.py \\\n",
        "      --prompt=\"{selected_prompt}\" \\\n",
        "      --output=\"{output_name3}\" \\\n",
        "      --width=672 \\\n",
        "      --seed={random_number} \\\n",
        "      --height=384 \\\n",
        "      --lora=\"/content/Hotshot-XL/bhairavidevi.safetensors\" \"\"\")\n",
        "\n",
        "    print(f\"Iteration {i+1}: Generated GIF with name: {output_name3} and seed: {random_number}\")\n",
        "\n",
        "    # Write to log file\n",
        "    with open(\"log.txt\", \"a\") as log_file:\n",
        "        log_file.write(f\"Iteration {i+1}: Generated GIF with name: {output_name3}, seed: {random_number}, prompt: {selected_prompt}\\n\")\n",
        "\n",
        "    # Reverse the generated GIF and append it to the original using moviepy\n",
        "    clip = VideoFileClip(output_name3)\n",
        "    reversed_clip = clip.fx(time_mirror)\n",
        "    final_clip = concatenate_videoclips([clip, reversed_clip])\n",
        "\n",
        "    # Save the final, concatenated GIF, effectively replacing the original\n",
        "    final_clip.write_gif(output_name3)\n"
      ]
    },
    {
      "cell_type": "code",
      "execution_count": null,
      "metadata": {
        "id": "UCuZDlX0UzJk"
      },
      "outputs": [],
      "source": [
        "!python /content/coolshit.py"
      ]
    },
    {
      "cell_type": "markdown",
      "metadata": {
        "id": "uYcQ0STqr1_1"
      },
      "source": [
        "# Recycler Demo"
      ]
    },
    {
      "cell_type": "code",
      "execution_count": null,
      "metadata": {
        "colab": {
          "base_uri": "https://localhost:8080/"
        },
        "id": "BwC5Zqx2r8YM",
        "outputId": "b625837e-add5-4958-dacd-a07256260304"
      },
      "outputs": [
        {
          "name": "stdout",
          "output_type": "stream",
          "text": [
            "Overwriting /content/recycler.py\n"
          ]
        }
      ],
      "source": [
        "%%writefile /content/recycler.py\n",
        "import subprocess\n",
        "import os\n",
        "\n",
        "# Editable prompts and LoRAs\n",
        "initial_prompt = 'A woman dancing beautifully in slow motion, hd, highquality.'\n",
        "\n",
        "initial_prompt = 'A passionate and graceful woman, embodying the essence of dance, moves with fluidity and elegance, her every gesture telling a story against the backdrop of an ancient temple.'\n",
        "initial_lora = '/content/Hotshot-XL/dance.safetensors'\n",
        "\n",
        "recycle_prompts_loras = [\n",
        "    {'prompt': 'bhairavidevi, dancing, In a serene Himalayan backdrop, otherworldly and intense, dances with radiant skin and long flowing hair. Golden adornments shimmer against her skin, while worshiping yogis and ethereal creatures are captivated by her performance. The setting is lit with the ethereal glow of soft hues and flickering candles.', 'lora': '/content/Hotshot-XL/bhairavidevi_char.safetensors'},\n",
        "    {'prompt': 'bhairavidevi, dancing, set against a timeless desert with ancient ruins and soaring mythical creatures. Her ecstatic dance, with a trident in hand and a fiery halo, sends ripples of colorful energy, intertwining with the rhythms of the universe. The visual style showcases vibrant colors with watercolor splashes.', 'lora': '/content/Hotshot-XL/bhairavidevi_concept.safetensors'},\n",
        "    {'prompt': 'bhairavidevi, dancing, Captured in a meditative state, floats above a tranquil pond in an ethereal realm. Her almond eyes reflect deep wisdom, while intricate mandalas and chakra points radiate around her. Sacred scrolls and burning incense enhance the mystical atmosphere, and the visual style has a vintage look with dramatic shadows.', 'lora': '/content/Hotshot-XL/bhairavidevi_style.safetensors'}\n",
        "]\n",
        "\n",
        "# Add more dictionaries here for additional combinations\n",
        "\n",
        "\n",
        "def inferprompt(prompt, lora, last_gif_path=None):\n",
        "    # Generate a unique name for the output GIF\n",
        "    gif_name = f\"{prompt[:10].replace(' ', '_')}_{os.urandom(4).hex()}.gif\"\n",
        "\n",
        "    # Construct the command string for inference\n",
        "    cmd_str = f\"\"\"python inference.py \\\n",
        "    --prompt='{prompt}' \\\n",
        "    --output='/content/Hotshot-XL/{gif_name}' \\\n",
        "    --lora='{lora}' \\\n",
        "    --width=672 \\\n",
        "    --height=384\"\"\"\n",
        "\n",
        "    if last_gif_path:  # If a previous GIF exists, use it as input\n",
        "        cmd_str += f\" --gif='{last_gif_path}'\"\n",
        "\n",
        "    # Run the command for inference\n",
        "    subprocess.run(cmd_str, shell=True)\n",
        "    print(f\"Inference done for {gif_name} with prompt: {prompt} and lora: {lora}\")\n",
        "\n",
        "    return f\"/content/Hotshot-XL/{gif_name}\"\n",
        "\n",
        "# Initialize variables\n",
        "last_gif_path = None\n",
        "\n",
        "# Run initial inference\n",
        "last_gif_path = inferprompt(initial_prompt, initial_lora)\n",
        "\n",
        "# Loop through each prompt and lora combination for recycling\n",
        "for pl_dict in recycle_prompts_loras:\n",
        "    last_gif_path = inferprompt(pl_dict['prompt'], pl_dict['lora'], last_gif_path)\n"
      ]
    },
    {
      "cell_type": "code",
      "execution_count": null,
      "metadata": {
        "colab": {
          "base_uri": "https://localhost:8080/"
        },
        "id": "r98HunITuP6A",
        "outputId": "2694807e-d516-4d17-ed4e-22d55c33fbfd"
      },
      "outputs": [
        {
          "name": "stdout",
          "output_type": "stream",
          "text": [
            "Loading pipeline components...:  29% 2/7 [00:00<00:00,  8.22it/s]2023-10-22 05:38:23.630232: W tensorflow/compiler/tf2tensorrt/utils/py_utils.cc:38] TF-TRT Warning: Could not find TensorRT\n",
            "Loading pipeline components...: 100% 7/7 [00:05<00:00,  1.25it/s]\n",
            "Warning - setting num_images_per_prompt = 1 because video_length = 8\n",
            "100% 30/30 [04:24<00:00,  8.81s/it]\n",
            "100% 8/8 [00:02<00:00,  3.59it/s]\n",
            "Inference done for A_passiona_a385c6ca.gif with prompt: A passionate and graceful woman, embodying the essence of dance, moves with fluidity and elegance, her every gesture telling a story against the backdrop of an ancient temple. and lora: /content/Hotshot-XL/dance.safetensors\n",
            "warning: gif was specified but no control type was specified. gif will be ignored.\n",
            "Loading pipeline components...:  29% 2/7 [00:02<00:04,  1.04it/s]2023-10-22 05:43:09.658678: W tensorflow/compiler/tf2tensorrt/utils/py_utils.cc:38] TF-TRT Warning: Could not find TensorRT\n",
            "Loading pipeline components...: 100% 7/7 [00:05<00:00,  1.18it/s]\n",
            "Warning - setting num_images_per_prompt = 1 because video_length = 8\n",
            "100% 30/30 [04:33<00:00,  9.12s/it]\n",
            "100% 8/8 [00:02<00:00,  3.56it/s]\n",
            "Inference done for bhairavide_abba51d9.gif with prompt: bhairavidevi, dancing, In a serene Himalayan backdrop, otherworldly and intense, dances with radiant skin and long flowing hair. Golden adornments shimmer against her skin, while worshiping yogis and ethereal creatures are captivated by her performance. The setting is lit with the ethereal glow of soft hues and flickering candles. and lora: /content/Hotshot-XL/bhairavidevi_char.safetensors\n",
            "warning: gif was specified but no control type was specified. gif will be ignored.\n",
            "Loading pipeline components...:  29% 2/7 [00:02<00:06,  1.24s/it]2023-10-22 05:48:03.929462: W tensorflow/compiler/tf2tensorrt/utils/py_utils.cc:38] TF-TRT Warning: Could not find TensorRT\n",
            "Loading pipeline components...: 100% 7/7 [00:05<00:00,  1.23it/s]\n",
            "Warning - setting num_images_per_prompt = 1 because video_length = 8\n",
            "100% 30/30 [04:33<00:00,  9.13s/it]\n",
            "100% 8/8 [00:02<00:00,  3.55it/s]\n",
            "Inference done for bhairavide_2f0cb44f.gif with prompt: bhairavidevi, dancing, set against a timeless desert with ancient ruins and soaring mythical creatures. Her ecstatic dance, with a trident in hand and a fiery halo, sends ripples of colorful energy, intertwining with the rhythms of the universe. The visual style showcases vibrant colors with watercolor splashes. and lora: /content/Hotshot-XL/bhairavidevi_concept.safetensors\n",
            "warning: gif was specified but no control type was specified. gif will be ignored.\n",
            "Loading pipeline components...:  29% 2/7 [00:02<00:06,  1.38s/it]2023-10-22 05:52:58.795813: W tensorflow/compiler/tf2tensorrt/utils/py_utils.cc:38] TF-TRT Warning: Could not find TensorRT\n",
            "Loading pipeline components...: 100% 7/7 [00:05<00:00,  1.21it/s]\n",
            "Warning - setting num_images_per_prompt = 1 because video_length = 8\n",
            "100% 30/30 [04:34<00:00,  9.15s/it]\n",
            "100% 8/8 [00:02<00:00,  3.55it/s]\n",
            "Inference done for bhairavide_9f048734.gif with prompt: bhairavidevi, dancing, Captured in a meditative state, floats above a tranquil pond in an ethereal realm. Her almond eyes reflect deep wisdom, while intricate mandalas and chakra points radiate around her. Sacred scrolls and burning incense enhance the mystical atmosphere, and the visual style has a vintage look with dramatic shadows. and lora: /content/Hotshot-XL/bhairavidevi_style.safetensors\n"
          ]
        }
      ],
      "source": [
        "!python /content/recycler.py"
      ]
    },
    {
      "cell_type": "markdown",
      "metadata": {
        "id": "kGmPpa8FyHm2"
      },
      "source": [
        "# YouTube Washing Machine"
      ]
    },
    {
      "cell_type": "code",
      "execution_count": null,
      "metadata": {
        "colab": {
          "base_uri": "https://localhost:8080/"
        },
        "id": "ooWHDsgJg1zt",
        "outputId": "a79dee43-9eb8-4785-d574-fac0a534784e"
      },
      "outputs": [
        {
          "output_type": "stream",
          "name": "stdout",
          "text": [
            "Collecting yt_dlp\n",
            "  Downloading yt_dlp-2023.10.13-py2.py3-none-any.whl (3.1 MB)\n",
            "\u001b[2K     \u001b[90m━━━━━━━━━━━━━━━━━━━━━━━━━━━━━━━━━━━━━━━━\u001b[0m \u001b[32m3.1/3.1 MB\u001b[0m \u001b[31m27.3 MB/s\u001b[0m eta \u001b[36m0:00:00\u001b[0m\n",
            "\u001b[?25hCollecting mutagen (from yt_dlp)\n",
            "  Downloading mutagen-1.47.0-py3-none-any.whl (194 kB)\n",
            "\u001b[2K     \u001b[90m━━━━━━━━━━━━━━━━━━━━━━━━━━━━━━━━━━━━━━━━\u001b[0m \u001b[32m194.4/194.4 kB\u001b[0m \u001b[31m24.4 MB/s\u001b[0m eta \u001b[36m0:00:00\u001b[0m\n",
            "\u001b[?25hCollecting pycryptodomex (from yt_dlp)\n",
            "  Downloading pycryptodomex-3.19.0-cp35-abi3-manylinux_2_17_x86_64.manylinux2014_x86_64.whl (2.1 MB)\n",
            "\u001b[2K     \u001b[90m━━━━━━━━━━━━━━━━━━━━━━━━━━━━━━━━━━━━━━━━\u001b[0m \u001b[32m2.1/2.1 MB\u001b[0m \u001b[31m90.7 MB/s\u001b[0m eta \u001b[36m0:00:00\u001b[0m\n",
            "\u001b[?25hCollecting websockets (from yt_dlp)\n",
            "  Downloading websockets-12.0-cp310-cp310-manylinux_2_5_x86_64.manylinux1_x86_64.manylinux_2_17_x86_64.manylinux2014_x86_64.whl (130 kB)\n",
            "\u001b[2K     \u001b[90m━━━━━━━━━━━━━━━━━━━━━━━━━━━━━━━━━━━━━━━━\u001b[0m \u001b[32m130.2/130.2 kB\u001b[0m \u001b[31m16.7 MB/s\u001b[0m eta \u001b[36m0:00:00\u001b[0m\n",
            "\u001b[?25hRequirement already satisfied: certifi in /usr/local/lib/python3.10/dist-packages (from yt_dlp) (2023.7.22)\n",
            "Collecting brotli (from yt_dlp)\n",
            "  Downloading Brotli-1.1.0-cp310-cp310-manylinux_2_5_x86_64.manylinux1_x86_64.manylinux_2_12_x86_64.manylinux2010_x86_64.whl (3.0 MB)\n",
            "\u001b[2K     \u001b[90m━━━━━━━━━━━━━━━━━━━━━━━━━━━━━━━━━━━━━━━━\u001b[0m \u001b[32m3.0/3.0 MB\u001b[0m \u001b[31m103.8 MB/s\u001b[0m eta \u001b[36m0:00:00\u001b[0m\n",
            "\u001b[?25hInstalling collected packages: brotli, websockets, pycryptodomex, mutagen, yt_dlp\n",
            "Successfully installed brotli-1.1.0 mutagen-1.47.0 pycryptodomex-3.19.0 websockets-12.0 yt_dlp-2023.10.13\n"
          ]
        }
      ],
      "source": [
        "!pip install yt_dlp"
      ]
    },
    {
      "cell_type": "code",
      "execution_count": null,
      "metadata": {
        "id": "ifSNuCoYg1IK",
        "colab": {
          "base_uri": "https://localhost:8080/"
        },
        "outputId": "aaeb2d96-140e-447b-d070-57d021e169a6"
      },
      "outputs": [
        {
          "output_type": "stream",
          "name": "stdout",
          "text": [
            "[youtube] Extracting URL: https://www.youtube.com/watch?v=pHEkIiQpwI8\n",
            "[youtube] pHEkIiQpwI8: Downloading webpage\n",
            "[youtube] pHEkIiQpwI8: Downloading ios player API JSON\n",
            "[youtube] pHEkIiQpwI8: Downloading tv embedded player API JSON\n",
            "[youtube] pHEkIiQpwI8: Downloading android player API JSON\n",
            "[youtube] pHEkIiQpwI8: Downloading android embedded player API JSON\n",
            "[youtube] pHEkIiQpwI8: Downloading web embedded client config\n",
            "[youtube] pHEkIiQpwI8: Downloading player dd34ec3d\n",
            "[youtube] pHEkIiQpwI8: Downloading web embedded player API JSON\n",
            "[info] pHEkIiQpwI8: Downloading 1 format(s): 134+140\n",
            "[download] Destination: /content/gifme.f134.mp4\n",
            "[download] 100% of   11.09MiB in 00:00:01 at 9.96MiB/s   \n",
            "[download] Destination: /content/gifme.f140.m4a\n",
            "[download] 100% of    3.34MiB in 00:00:00 at 25.80MiB/s  \n",
            "[Merger] Merging formats into \"/content/gifme.mp4\"\n",
            "Deleting original file /content/gifme.f140.m4a (pass -k to keep)\n",
            "Deleting original file /content/gifme.f134.mp4 (pass -k to keep)\n"
          ]
        }
      ],
      "source": [
        "from yt_dlp import YoutubeDL\n",
        "\n",
        "options = {\n",
        "    'format': 'bestvideo[height<=405][ext=mp4]+bestaudio[ext=m4a]/mp4',  # Selects the best video format where height is less than or equal to 405 pixels\n",
        "    'outtmpl': '/content/gifme.mp4',  # Output template for downloaded video\n",
        "    'noplaylist': True,  # Only download single video and not playlists\n",
        "}\n",
        "\n",
        "with YoutubeDL(options) as ydl:\n",
        "    ydl.download(['https://www.youtube.com/watch?v=pHEkIiQpwI8'])\n"
      ]
    },
    {
      "cell_type": "markdown",
      "metadata": {
        "id": "vALevzl8NAMM"
      },
      "source": [
        "**Change the Speed - 0.25 is 32fps 0.5 is 16fps and default is 8fps**"
      ]
    },
    {
      "cell_type": "code",
      "execution_count": null,
      "metadata": {
        "colab": {
          "base_uri": "https://localhost:8080/"
        },
        "id": "b_oofDzRb6Y_",
        "outputId": "b8bc1402-493b-4c2e-d28a-b5392751139f"
      },
      "outputs": [
        {
          "output_type": "stream",
          "name": "stdout",
          "text": [
            "Writing vidspeed.py\n"
          ]
        }
      ],
      "source": [
        "%%writefile vidspeed.py\n",
        "import sys\n",
        "from moviepy.editor import *\n",
        "\n",
        "# Command-line arguments\n",
        "speed_factor = float(sys.argv[1])\n",
        "input_video_path = sys.argv[2]\n",
        "output_video_path = sys.argv[3]\n",
        "\n",
        "# Load video\n",
        "video = VideoFileClip(input_video_path)\n",
        "\n",
        "# Adjust speed\n",
        "video = video.fx(vfx.speedx, speed_factor)\n",
        "\n",
        "# Write to output file\n",
        "video.write_videofile(output_video_path, codec=\"libx264\")\n"
      ]
    },
    {
      "cell_type": "code",
      "execution_count": null,
      "metadata": {
        "colab": {
          "base_uri": "https://localhost:8080/"
        },
        "id": "N-j0_UzBgRa7",
        "outputId": "511ca14d-1d4a-4c39-b0f8-297bab7e7923"
      },
      "outputs": [
        {
          "name": "stdout",
          "output_type": "stream",
          "text": [
            "error: XDG_RUNTIME_DIR not set in the environment.\n",
            "ALSA lib confmisc.c:855:(parse_card) cannot find card '0'\n",
            "ALSA lib conf.c:5178:(_snd_config_evaluate) function snd_func_card_inum returned error: No such file or directory\n",
            "ALSA lib confmisc.c:422:(snd_func_concat) error evaluating strings\n",
            "ALSA lib conf.c:5178:(_snd_config_evaluate) function snd_func_concat returned error: No such file or directory\n",
            "ALSA lib confmisc.c:1334:(snd_func_refer) error evaluating name\n",
            "ALSA lib conf.c:5178:(_snd_config_evaluate) function snd_func_refer returned error: No such file or directory\n",
            "ALSA lib conf.c:5701:(snd_config_expand) Evaluate error: No such file or directory\n",
            "ALSA lib pcm.c:2664:(snd_pcm_open_noupdate) Unknown PCM default\n",
            "ALSA lib confmisc.c:855:(parse_card) cannot find card '0'\n",
            "ALSA lib conf.c:5178:(_snd_config_evaluate) function snd_func_card_inum returned error: No such file or directory\n",
            "ALSA lib confmisc.c:422:(snd_func_concat) error evaluating strings\n",
            "ALSA lib conf.c:5178:(_snd_config_evaluate) function snd_func_concat returned error: No such file or directory\n",
            "ALSA lib confmisc.c:1334:(snd_func_refer) error evaluating name\n",
            "ALSA lib conf.c:5178:(_snd_config_evaluate) function snd_func_refer returned error: No such file or directory\n",
            "ALSA lib conf.c:5701:(snd_config_expand) Evaluate error: No such file or directory\n",
            "ALSA lib pcm.c:2664:(snd_pcm_open_noupdate) Unknown PCM default\n",
            "Moviepy - Building video /content/temp_gifme.mp4.\n",
            "MoviePy - Writing audio in temp_gifmeTEMP_MPY_wvf_snd.mp3\n",
            "MoviePy - Done.\n",
            "Moviepy - Writing video /content/temp_gifme.mp4\n",
            "\n",
            "Moviepy - Done !\n",
            "Moviepy - video ready /content/temp_gifme.mp4\n"
          ]
        }
      ],
      "source": [
        "#!python vidspeed.py 0.25 /content/gifme.mp4 /content/temp_gifme.mp4"
      ]
    },
    {
      "cell_type": "code",
      "execution_count": null,
      "metadata": {
        "id": "vgS_UaY7i2_X"
      },
      "outputs": [],
      "source": [
        "#!mv /content/temp_gifme.mp4 /content/gifme.mp4"
      ]
    },
    {
      "cell_type": "markdown",
      "metadata": {
        "id": "WGYaoTFENEiB"
      },
      "source": [
        "**split 1second videos make them 8fps gifs**"
      ]
    },
    {
      "cell_type": "code",
      "execution_count": null,
      "metadata": {
        "colab": {
          "base_uri": "https://localhost:8080/"
        },
        "id": "8pD-SIKUb6bc",
        "outputId": "60a3ba75-f6c7-4998-d184-74cd76ca52d3"
      },
      "outputs": [
        {
          "output_type": "stream",
          "name": "stdout",
          "text": [
            "Generated 228 video clips and 228 GIFs.\n"
          ]
        }
      ],
      "source": [
        "import cv2\n",
        "import imageio\n",
        "import os\n",
        "\n",
        "# Input video path\n",
        "input_path = \"/content/gifme.mp4\"\n",
        "\n",
        "# Initialize VideoCapture object\n",
        "cap = cv2.VideoCapture(input_path)\n",
        "\n",
        "# Check if video opened successfully\n",
        "if not cap.isOpened():\n",
        "    print(\"Could not open video file.\")\n",
        "    exit()\n",
        "\n",
        "# Video properties\n",
        "original_fps = int(cap.get(cv2.CAP_PROP_FPS))\n",
        "width = int(cap.get(cv2.CAP_PROP_FRAME_WIDTH))\n",
        "height = int(cap.get(cv2.CAP_PROP_FRAME_HEIGHT))\n",
        "frames_per_segment = original_fps  # 1 second at original FPS\n",
        "\n",
        "# Create output directory if not exists\n",
        "output_dir = \"/content/clips\"\n",
        "if not os.path.exists(output_dir):\n",
        "    os.makedirs(output_dir)\n",
        "\n",
        "# Initialize clip and GIF counter\n",
        "clip_counter = 1\n",
        "gif_counter = 1\n",
        "\n",
        "while True:\n",
        "    # Initialize frames buffer for each 1-second video clip\n",
        "    frames_buffer = []\n",
        "\n",
        "    for i in range(frames_per_segment):\n",
        "        ret, frame = cap.read()\n",
        "        if not ret:\n",
        "            break\n",
        "        frames_buffer.append(frame)\n",
        "\n",
        "    # Break if there are no more frames\n",
        "    if not frames_buffer:\n",
        "        break\n",
        "\n",
        "    # Create 1-second video clip\n",
        "    clip_path = os.path.join(output_dir, f\"clip{clip_counter}.mp4\")\n",
        "    fourcc = cv2.VideoWriter_fourcc(*'mp4v')\n",
        "    out = cv2.VideoWriter(clip_path, fourcc, original_fps, (width, height))\n",
        "\n",
        "    for frame in frames_buffer:\n",
        "        out.write(frame)\n",
        "\n",
        "    out.release()\n",
        "\n",
        "    # Create 8 FPS GIF from the 1-second video clip\n",
        "    gif_frames = frames_buffer[::int(original_fps / 8)]\n",
        "    gif_path = os.path.join(output_dir, f\"gif{gif_counter}.gif\")\n",
        "    imageio.mimsave(gif_path, [cv2.cvtColor(f, cv2.COLOR_BGR2RGB) for f in gif_frames], fps=8)\n",
        "\n",
        "    # Increment counters\n",
        "    clip_counter += 1\n",
        "    gif_counter += 1\n",
        "\n",
        "# Release resources\n",
        "cap.release()\n",
        "\n",
        "print(f\"Generated {clip_counter - 1} video clips and {gif_counter - 1} GIFs.\")\n"
      ]
    },
    {
      "cell_type": "code",
      "execution_count": null,
      "metadata": {
        "colab": {
          "base_uri": "https://localhost:8080/"
        },
        "id": "CQ3RboI3ewWW",
        "outputId": "8854832b-39d9-417c-c23d-142f061fd177"
      },
      "outputs": [
        {
          "output_type": "stream",
          "name": "stdout",
          "text": [
            "/content/Hotshot-XL\n"
          ]
        }
      ],
      "source": [
        "%cd /content/Hotshot-XL"
      ]
    },
    {
      "cell_type": "markdown",
      "metadata": {
        "id": "x0pKYwqizGw1"
      },
      "source": [
        "**Cycle through all the GIF's of the Youtube video with a prompt**"
      ]
    },
    {
      "cell_type": "code",
      "execution_count": null,
      "metadata": {
        "colab": {
          "base_uri": "https://localhost:8080/"
        },
        "id": "veEIuKKzgZvh",
        "outputId": "2934684e-4509-4500-fa81-40bbe54b4a40"
      },
      "outputs": [
        {
          "output_type": "stream",
          "name": "stdout",
          "text": [
            "Inference done for gif1.gif\n"
          ]
        }
      ],
      "source": [
        "import os\n",
        "import cv2\n",
        "import random\n",
        "import string\n",
        "import imageio\n",
        "import subprocess\n",
        "\n",
        "# Function to generate a random string of fixed length\n",
        "def random_string(length=4):\n",
        "    letters = string.ascii_letters + string.digits\n",
        "    return ''.join(random.choice(letters) for i in range(length))\n",
        "\n",
        "# Initialize an empty list to store the paths of generated GIFs\n",
        "generated_gifs = []\n",
        "\n",
        "# Loop through the GIF files to run inference\n",
        "for i in range(1, 220):\n",
        "    gif_name = f\"gif{i}.gif\"\n",
        "    gif_path = f\"/content/clips/{gif_name}\"\n",
        "\n",
        "    # Construct the command string for inference\n",
        "    cmd_str = f\"\"\"python inference.py \\\n",
        "    --prompt='bhairavidevi, Major Lazer - Pon De Floor (Official Music Video), Bhairavi Devi radiant red skin glowing softly in the dimly lit club, her graceful dance movements synchronized with the hypnotic beats of the music. As she moves, her presence transforms the entire dance floor, filling it with an otherworldly aura of passion and intensity. Capture the essence of her dance, the vibrant energy, and the magnetic pull she exudes, creating a mesmerizing visual spectacle that transcends the ordinary.' \\\n",
        "    --output='{gif_name}' \\\n",
        "    --control_type='depth' \\\n",
        "    --lora=\"/content/Hotshot-XL/bhairavidevi_style.safetensors\" \\\n",
        "    --width=672 \\\n",
        "    --height=384 \\\n",
        "    --gif='{gif_path}'\"\"\"\n",
        "\n",
        "    # Run the command for inference\n",
        "    subprocess.run(cmd_str, shell=True)\n",
        "    print(f\"Inference done for {gif_name}\")\n",
        "\n",
        "    # Confirm that the inference was successful before adding to list\n",
        "    inferred_gif_path = f\"/content/Hotshot-XL/{gif_name}\"\n",
        "    if os.path.exists(inferred_gif_path):\n",
        "        generated_gifs.append(inferred_gif_path)\n",
        "\n"
      ]
    },
    {
      "cell_type": "markdown",
      "metadata": {
        "id": "ys8Po7razkbc"
      },
      "source": [
        "**Combine the GIF into a Movie**"
      ]
    },
    {
      "cell_type": "code",
      "execution_count": null,
      "metadata": {
        "colab": {
          "base_uri": "https://localhost:8080/"
        },
        "id": "l0t-kAYZlpo2",
        "outputId": "0d7415e9-c62f-47ca-9674-c6f8037fb13a"
      },
      "outputs": [
        {
          "name": "stdout",
          "output_type": "stream",
          "text": [
            "Moviepy - Building video /content/movie.mp4.\n",
            "Moviepy - Writing video /content/movie.mp4\n",
            "\n"
          ]
        },
        {
          "name": "stderr",
          "output_type": "stream",
          "text": []
        },
        {
          "name": "stdout",
          "output_type": "stream",
          "text": [
            "Moviepy - Done !\n",
            "Moviepy - video ready /content/movie.mp4\n"
          ]
        }
      ],
      "source": [
        "import os\n",
        "import re\n",
        "from moviepy.editor import VideoFileClip, concatenate_videoclips\n",
        "\n",
        "# Function to extract the number from the filename\n",
        "def extract_number(filename):\n",
        "    match = re.search(r'\\d+', filename)\n",
        "    return int(match.group()) if match else 0\n",
        "\n",
        "# Define the source directory and output file\n",
        "source_directory = \"/content/Hotshot-XL\"\n",
        "output_file = \"/content/movie.mp4\"\n",
        "\n",
        "# Initialize an empty list to store VideoFileClip objects\n",
        "clips = []\n",
        "\n",
        "# Traverse the directory to find all GIF files\n",
        "gif_files = [f for f in os.listdir(source_directory) if f.endswith('.gif')]\n",
        "\n",
        "# Sort the GIF files based on the extracted number\n",
        "sorted_gif_files = sorted(gif_files, key=extract_number)\n",
        "\n",
        "# Process the sorted GIF files\n",
        "for filename in sorted_gif_files:\n",
        "    filepath = os.path.join(source_directory, filename)\n",
        "\n",
        "    # Load the GIF file as a VideoFileClip object\n",
        "    clip = VideoFileClip(filepath)\n",
        "\n",
        "    # Append the clip to the list\n",
        "    clips.append(clip)\n",
        "\n",
        "# Concatenate all the clips into one video\n",
        "final_clip = concatenate_videoclips(clips, method=\"compose\")\n",
        "\n",
        "# Write the result to a file\n",
        "final_clip.write_videofile(output_file, fps=24)\n",
        "\n",
        "# Close all clips\n",
        "for clip in clips:\n",
        "    clip.close()\n",
        "final_clip.close()\n"
      ]
    },
    {
      "cell_type": "markdown",
      "metadata": {
        "id": "8uChaFFozqm5"
      },
      "source": [
        "**Place Original Audio Back**"
      ]
    },
    {
      "cell_type": "code",
      "execution_count": null,
      "metadata": {
        "colab": {
          "base_uri": "https://localhost:8080/"
        },
        "id": "x2rQlZ-ookVw",
        "outputId": "066421d9-3dce-4fad-af04-51a808f68f41"
      },
      "outputs": [
        {
          "name": "stdout",
          "output_type": "stream",
          "text": [
            "Writing /content/extaud.py\n"
          ]
        }
      ],
      "source": [
        "%%writefile /content/extaud.py\n",
        "import sys\n",
        "from moviepy.editor import VideoFileClip\n",
        "\n",
        "def add_audio_to_video(source_video_path, target_video_path):\n",
        "    # Load the source video and extract its audio\n",
        "    source_video = VideoFileClip(source_video_path)\n",
        "    source_audio = source_video.audio\n",
        "\n",
        "    # Load the target video\n",
        "    target_video = VideoFileClip(target_video_path)\n",
        "\n",
        "    # Set the audio of the target video to be the source audio\n",
        "    final_video = target_video.set_audio(source_audio)\n",
        "\n",
        "    # Write the final video to a file\n",
        "    final_video.write_videofile(f\"final_{target_video_path.split('/')[-1]}\", codec=\"libx264\")\n",
        "\n",
        "    # Close the video and audio clips\n",
        "    source_video.close()\n",
        "    target_video.close()\n",
        "    source_audio.close()\n",
        "    final_video.close()\n",
        "\n",
        "if __name__ == \"__main__\":\n",
        "    if len(sys.argv) != 3:\n",
        "        print(\"Usage: !python extaud.py <source_video> <target_video>\")\n",
        "        sys.exit(1)\n",
        "\n",
        "    source_video_path = sys.argv[1]\n",
        "    target_video_path = sys.argv[2]\n",
        "\n",
        "    add_audio_to_video(source_video_path, target_video_path)\n"
      ]
    },
    {
      "cell_type": "code",
      "execution_count": null,
      "metadata": {
        "colab": {
          "base_uri": "https://localhost:8080/"
        },
        "id": "B6MvBqb9pzxp",
        "outputId": "2281dc47-77ba-4817-96b7-a724557d21c9"
      },
      "outputs": [
        {
          "name": "stdout",
          "output_type": "stream",
          "text": [
            "error: XDG_RUNTIME_DIR not set in the environment.\n",
            "ALSA lib confmisc.c:855:(parse_card) cannot find card '0'\n",
            "ALSA lib conf.c:5178:(_snd_config_evaluate) function snd_func_card_inum returned error: No such file or directory\n",
            "ALSA lib confmisc.c:422:(snd_func_concat) error evaluating strings\n",
            "ALSA lib conf.c:5178:(_snd_config_evaluate) function snd_func_concat returned error: No such file or directory\n",
            "ALSA lib confmisc.c:1334:(snd_func_refer) error evaluating name\n",
            "ALSA lib conf.c:5178:(_snd_config_evaluate) function snd_func_refer returned error: No such file or directory\n",
            "ALSA lib conf.c:5701:(snd_config_expand) Evaluate error: No such file or directory\n",
            "ALSA lib pcm.c:2664:(snd_pcm_open_noupdate) Unknown PCM default\n",
            "ALSA lib confmisc.c:855:(parse_card) cannot find card '0'\n",
            "ALSA lib conf.c:5178:(_snd_config_evaluate) function snd_func_card_inum returned error: No such file or directory\n",
            "ALSA lib confmisc.c:422:(snd_func_concat) error evaluating strings\n",
            "ALSA lib conf.c:5178:(_snd_config_evaluate) function snd_func_concat returned error: No such file or directory\n",
            "ALSA lib confmisc.c:1334:(snd_func_refer) error evaluating name\n",
            "ALSA lib conf.c:5178:(_snd_config_evaluate) function snd_func_refer returned error: No such file or directory\n",
            "ALSA lib conf.c:5701:(snd_config_expand) Evaluate error: No such file or directory\n",
            "ALSA lib pcm.c:2664:(snd_pcm_open_noupdate) Unknown PCM default\n",
            "Moviepy - Building video final_movie2.mp4.\n",
            "MoviePy - Writing audio in final_movie2TEMP_MPY_wvf_snd.mp3\n",
            "MoviePy - Done.\n",
            "Moviepy - Writing video final_movie2.mp4\n",
            "\n",
            "Moviepy - Done !\n",
            "Moviepy - video ready final_movie2.mp4\n",
            "error: XDG_RUNTIME_DIR not set in the environment.\n",
            "ALSA lib confmisc.c:855:(parse_card) cannot find card '0'\n",
            "ALSA lib conf.c:5178:(_snd_config_evaluate) function snd_func_card_inum returned error: No such file or directory\n",
            "ALSA lib confmisc.c:422:(snd_func_concat) error evaluating strings\n",
            "ALSA lib conf.c:5178:(_snd_config_evaluate) function snd_func_concat returned error: No such file or directory\n",
            "ALSA lib confmisc.c:1334:(snd_func_refer) error evaluating name\n",
            "ALSA lib conf.c:5178:(_snd_config_evaluate) function snd_func_refer returned error: No such file or directory\n",
            "ALSA lib conf.c:5701:(snd_config_expand) Evaluate error: No such file or directory\n",
            "ALSA lib pcm.c:2664:(snd_pcm_open_noupdate) Unknown PCM default\n",
            "ALSA lib confmisc.c:855:(parse_card) cannot find card '0'\n",
            "ALSA lib conf.c:5178:(_snd_config_evaluate) function snd_func_card_inum returned error: No such file or directory\n",
            "ALSA lib confmisc.c:422:(snd_func_concat) error evaluating strings\n",
            "ALSA lib conf.c:5178:(_snd_config_evaluate) function snd_func_concat returned error: No such file or directory\n",
            "ALSA lib confmisc.c:1334:(snd_func_refer) error evaluating name\n",
            "ALSA lib conf.c:5178:(_snd_config_evaluate) function snd_func_refer returned error: No such file or directory\n",
            "ALSA lib conf.c:5701:(snd_config_expand) Evaluate error: No such file or directory\n",
            "ALSA lib pcm.c:2664:(snd_pcm_open_noupdate) Unknown PCM default\n",
            "Moviepy - Building video final_movie.mp4.\n",
            "MoviePy - Writing audio in final_movieTEMP_MPY_wvf_snd.mp3\n",
            "MoviePy - Done.\n",
            "Moviepy - Writing video final_movie.mp4\n",
            "\n",
            "Moviepy - Done !\n",
            "Moviepy - video ready final_movie.mp4\n"
          ]
        }
      ],
      "source": [
        "!python /content/extaud.py \"/content/gifme2.mp4\" \"/content/movie2.mp4\"\n",
        "!python /content/extaud.py \"/content/gifme.mp4\" \"/content/movie.mp4\""
      ]
    }
  ],
  "metadata": {
    "accelerator": "GPU",
    "colab": {
      "collapsed_sections": [
        "UaVl0UJL6p67",
        "sPlewy0E6Gr-",
        "Yj3OBCKG6XzA",
        "U9nzKATT476x",
        "moISIdw_5gfY",
        "960UWCzv8JOY",
        "Q4axGP-vNmxP",
        "5iY9kpaQUfJL",
        "uYcQ0STqr1_1"
      ],
      "provenance": [],
      "gpuType": "T4",
      "authorship_tag": "ABX9TyOrlqq7Ugvn2NhQyCoZreOT",
      "include_colab_link": true
    },
    "kernelspec": {
      "display_name": "Python 3",
      "name": "python3"
    },
    "language_info": {
      "name": "python"
    }
  },
  "nbformat": 4,
  "nbformat_minor": 0
}