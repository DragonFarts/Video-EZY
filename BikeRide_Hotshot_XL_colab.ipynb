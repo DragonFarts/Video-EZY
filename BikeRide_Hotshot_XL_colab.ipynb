{
  "cells": [
    {
      "cell_type": "markdown",
      "metadata": {
        "id": "view-in-github",
        "colab_type": "text"
      },
      "source": [
        "<a href=\"https://colab.research.google.com/github/DragonFarts/Video-EZY/blob/main/BikeRide_Hotshot_XL_colab.ipynb\" target=\"_parent\"><img src=\"https://colab.research.google.com/assets/colab-badge.svg\" alt=\"Open In Colab\"/></a>"
      ]
    },
    {
      "cell_type": "code",
      "execution_count": 1,
      "metadata": {
        "id": "VjYy0F2gZIPR",
        "colab": {
          "base_uri": "https://localhost:8080/"
        },
        "outputId": "44da12dd-5a74-4d5b-d519-dc0c8e7124f1"
      },
      "outputs": [
        {
          "output_type": "stream",
          "name": "stdout",
          "text": [
            "/content\n",
            "Cloning into 'Hotshot-XL'...\n",
            "remote: Enumerating objects: 48, done.\u001b[K\n",
            "remote: Counting objects: 100% (19/19), done.\u001b[K\n",
            "remote: Compressing objects: 100% (12/12), done.\u001b[K\n",
            "remote: Total 48 (delta 15), reused 7 (delta 7), pack-reused 29\u001b[K\n",
            "Receiving objects: 100% (48/48), 66.13 KiB | 2.75 MiB/s, done.\n",
            "Resolving deltas: 100% (18/18), done.\n",
            "/content/Hotshot-XL\n",
            "\u001b[2K     \u001b[90m━━━━━━━━━━━━━━━━━━━━━━━━━━━━━━━━━━━━━━━━\u001b[0m \u001b[32m258.1/258.1 kB\u001b[0m \u001b[31m4.3 MB/s\u001b[0m eta \u001b[36m0:00:00\u001b[0m\n",
            "\u001b[2K     \u001b[90m━━━━━━━━━━━━━━━━━━━━━━━━━━━━━━━━━━━━━━━━\u001b[0m \u001b[32m302.0/302.0 kB\u001b[0m \u001b[31m17.4 MB/s\u001b[0m eta \u001b[36m0:00:00\u001b[0m\n",
            "\u001b[?25h  Preparing metadata (setup.py) ... \u001b[?25l\u001b[?25hdone\n",
            "\u001b[2K     \u001b[90m━━━━━━━━━━━━━━━━━━━━━━━━━━━━━━━━━━━━━━━━\u001b[0m \u001b[32m1.5/1.5 MB\u001b[0m \u001b[31m16.6 MB/s\u001b[0m eta \u001b[36m0:00:00\u001b[0m\n",
            "\u001b[2K     \u001b[90m━━━━━━━━━━━━━━━━━━━━━━━━━━━━━━━━━━━━━━━━\u001b[0m \u001b[32m7.7/7.7 MB\u001b[0m \u001b[31m96.5 MB/s\u001b[0m eta \u001b[36m0:00:00\u001b[0m\n",
            "\u001b[2K     \u001b[90m━━━━━━━━━━━━━━━━━━━━━━━━━━━━━━━━━━━━━━━━\u001b[0m \u001b[32m44.6/44.6 kB\u001b[0m \u001b[31m5.4 MB/s\u001b[0m eta \u001b[36m0:00:00\u001b[0m\n",
            "\u001b[2K     \u001b[90m━━━━━━━━━━━━━━━━━━━━━━━━━━━━━━━━━━━━━━━━\u001b[0m \u001b[32m1.3/1.3 MB\u001b[0m \u001b[31m70.4 MB/s\u001b[0m eta \u001b[36m0:00:00\u001b[0m\n",
            "\u001b[2K     \u001b[90m━━━━━━━━━━━━━━━━━━━━━━━━━━━━━━━━━━━━━━━━\u001b[0m \u001b[32m3.8/3.8 MB\u001b[0m \u001b[31m103.6 MB/s\u001b[0m eta \u001b[36m0:00:00\u001b[0m\n",
            "\u001b[2K     \u001b[90m━━━━━━━━━━━━━━━━━━━━━━━━━━━━━━━━━━━━━━━━\u001b[0m \u001b[32m295.0/295.0 kB\u001b[0m \u001b[31m32.7 MB/s\u001b[0m eta \u001b[36m0:00:00\u001b[0m\n",
            "\u001b[?25h  Building wheel for hotshot-xl (setup.py) ... \u001b[?25l\u001b[?25hdone\n"
          ]
        }
      ],
      "source": [
        "%cd /content\n",
        "!git clone -b dev https://github.com/camenduru/Hotshot-XL\n",
        "%cd /content/Hotshot-XL\n",
        "!pip install -q accelerate\n",
        "!pip install -q ."
      ]
    },
    {
      "cell_type": "code",
      "source": [
        "!cp /content/gifme.mp4 /content/copy_gifme.mp4"
      ],
      "metadata": {
        "id": "1xI6mWjvb6ME"
      },
      "execution_count": null,
      "outputs": []
    },
    {
      "cell_type": "code",
      "source": [
        "!cp /content/copy_gifme.mp4 /content/gifme.mp4"
      ],
      "metadata": {
        "id": "Y4euMojXcRZP"
      },
      "execution_count": null,
      "outputs": []
    },
    {
      "cell_type": "code",
      "source": [
        "!pip install opencv-python"
      ],
      "metadata": {
        "colab": {
          "base_uri": "https://localhost:8080/"
        },
        "id": "YKUmdt6Sb6WN",
        "outputId": "9ab4f5c1-bf89-4641-9947-b04928ac0f61"
      },
      "execution_count": null,
      "outputs": [
        {
          "output_type": "stream",
          "name": "stdout",
          "text": [
            "Requirement already satisfied: opencv-python in /usr/local/lib/python3.10/dist-packages (4.8.0.76)\n",
            "Requirement already satisfied: numpy>=1.21.2 in /usr/local/lib/python3.10/dist-packages (from opencv-python) (1.23.5)\n"
          ]
        }
      ]
    },
    {
      "cell_type": "code",
      "source": [
        "!pip install imageio"
      ],
      "metadata": {
        "colab": {
          "base_uri": "https://localhost:8080/"
        },
        "id": "y8P9bv6Kdk4x",
        "outputId": "2a163b9b-f297-43fd-9181-61096f097715"
      },
      "execution_count": null,
      "outputs": [
        {
          "output_type": "stream",
          "name": "stdout",
          "text": [
            "Requirement already satisfied: imageio in /usr/local/lib/python3.10/dist-packages (2.31.5)\n",
            "Requirement already satisfied: numpy in /usr/local/lib/python3.10/dist-packages (from imageio) (1.23.5)\n",
            "Requirement already satisfied: pillow>=8.3.2 in /usr/local/lib/python3.10/dist-packages (from imageio) (9.4.0)\n"
          ]
        }
      ]
    },
    {
      "cell_type": "markdown",
      "source": [
        "**RIP A YOUTUBE MAKE SOME GIFS**"
      ],
      "metadata": {
        "id": "odfD886rkE6e"
      }
    },
    {
      "cell_type": "code",
      "source": [
        "!pip install yt_dlp"
      ],
      "metadata": {
        "id": "ooWHDsgJg1zt",
        "colab": {
          "base_uri": "https://localhost:8080/"
        },
        "outputId": "58ff8ff7-06a2-42bd-9a45-d885045c4bd8"
      },
      "execution_count": 2,
      "outputs": [
        {
          "output_type": "stream",
          "name": "stdout",
          "text": [
            "Collecting yt_dlp\n",
            "  Downloading yt_dlp-2023.10.13-py2.py3-none-any.whl (3.1 MB)\n",
            "\u001b[2K     \u001b[90m━━━━━━━━━━━━━━━━━━━━━━━━━━━━━━━━━━━━━━━━\u001b[0m \u001b[32m3.1/3.1 MB\u001b[0m \u001b[31m27.0 MB/s\u001b[0m eta \u001b[36m0:00:00\u001b[0m\n",
            "\u001b[?25hCollecting mutagen (from yt_dlp)\n",
            "  Downloading mutagen-1.47.0-py3-none-any.whl (194 kB)\n",
            "\u001b[2K     \u001b[90m━━━━━━━━━━━━━━━━━━━━━━━━━━━━━━━━━━━━━━━━\u001b[0m \u001b[32m194.4/194.4 kB\u001b[0m \u001b[31m24.0 MB/s\u001b[0m eta \u001b[36m0:00:00\u001b[0m\n",
            "\u001b[?25hCollecting pycryptodomex (from yt_dlp)\n",
            "  Downloading pycryptodomex-3.19.0-cp35-abi3-manylinux_2_17_x86_64.manylinux2014_x86_64.whl (2.1 MB)\n",
            "\u001b[2K     \u001b[90m━━━━━━━━━━━━━━━━━━━━━━━━━━━━━━━━━━━━━━━━\u001b[0m \u001b[32m2.1/2.1 MB\u001b[0m \u001b[31m84.9 MB/s\u001b[0m eta \u001b[36m0:00:00\u001b[0m\n",
            "\u001b[?25hCollecting websockets (from yt_dlp)\n",
            "  Downloading websockets-11.0.3-cp310-cp310-manylinux_2_5_x86_64.manylinux1_x86_64.manylinux_2_17_x86_64.manylinux2014_x86_64.whl (129 kB)\n",
            "\u001b[2K     \u001b[90m━━━━━━━━━━━━━━━━━━━━━━━━━━━━━━━━━━━━━━━━\u001b[0m \u001b[32m129.9/129.9 kB\u001b[0m \u001b[31m16.7 MB/s\u001b[0m eta \u001b[36m0:00:00\u001b[0m\n",
            "\u001b[?25hRequirement already satisfied: certifi in /usr/local/lib/python3.10/dist-packages (from yt_dlp) (2023.7.22)\n",
            "Collecting brotli (from yt_dlp)\n",
            "  Downloading Brotli-1.1.0-cp310-cp310-manylinux_2_5_x86_64.manylinux1_x86_64.manylinux_2_12_x86_64.manylinux2010_x86_64.whl (3.0 MB)\n",
            "\u001b[2K     \u001b[90m━━━━━━━━━━━━━━━━━━━━━━━━━━━━━━━━━━━━━━━━\u001b[0m \u001b[32m3.0/3.0 MB\u001b[0m \u001b[31m101.8 MB/s\u001b[0m eta \u001b[36m0:00:00\u001b[0m\n",
            "\u001b[?25hInstalling collected packages: brotli, websockets, pycryptodomex, mutagen, yt_dlp\n",
            "Successfully installed brotli-1.1.0 mutagen-1.47.0 pycryptodomex-3.19.0 websockets-11.0.3 yt_dlp-2023.10.13\n"
          ]
        }
      ]
    },
    {
      "cell_type": "code",
      "source": [
        "from yt_dlp import YoutubeDL\n",
        "with YoutubeDL({'overwrites':True, 'format':'bestvideo[ext=mp4]+bestaudio[ext=m4a]/mp4', 'outtmpl':'/content/gifme'}) as ydl:\n",
        "    ydl.download(\"https://www.youtube.com/watch?v=QPezS2-43hk\")"
      ],
      "metadata": {
        "id": "ifSNuCoYg1IK",
        "colab": {
          "base_uri": "https://localhost:8080/"
        },
        "outputId": "c9b15aa6-330a-4465-fe63-41f1bff17db1"
      },
      "execution_count": 3,
      "outputs": [
        {
          "output_type": "stream",
          "name": "stdout",
          "text": [
            "[youtube] Extracting URL: https://www.youtube.com/watch?v=QPezS2-43hk\n",
            "[youtube] QPezS2-43hk: Downloading webpage\n",
            "[youtube] QPezS2-43hk: Downloading ios player API JSON\n",
            "[youtube] QPezS2-43hk: Downloading android player API JSON\n",
            "[youtube] QPezS2-43hk: Downloading m3u8 information\n",
            "[info] QPezS2-43hk: Downloading 1 format(s): 133+140\n",
            "[download] Destination: /content/gifme.f133.mp4\n",
            "[download] 100% of   62.82KiB in 00:00:00 at 107.96KiB/s \n",
            "[download] Destination: /content/gifme.f140.m4a\n",
            "[download] 100% of   44.77KiB in 00:00:00 at 121.70KiB/s \n",
            "[Merger] Merging formats into \"/content/gifme.mp4\"\n",
            "Deleting original file /content/gifme.f133.mp4 (pass -k to keep)\n",
            "Deleting original file /content/gifme.f140.m4a (pass -k to keep)\n"
          ]
        }
      ]
    },
    {
      "cell_type": "markdown",
      "source": [
        "**Double Speed (sometimes ya wanna do it)**"
      ],
      "metadata": {
        "id": "vALevzl8NAMM"
      }
    },
    {
      "cell_type": "code",
      "source": [
        "import cv2\n",
        "\n",
        "# Input video path\n",
        "input_path = \"/content/gifme.mp4\"\n",
        "\n",
        "# Initialize VideoCapture object\n",
        "cap = cv2.VideoCapture(input_path)\n",
        "\n",
        "# Check if video opened successfully\n",
        "if not cap.isOpened():\n",
        "    print(\"Could not open video file.\")\n",
        "    exit()\n",
        "\n",
        "# Get video properties\n",
        "width = int(cap.get(cv2.CAP_PROP_FRAME_WIDTH))\n",
        "height = int(cap.get(cv2.CAP_PROP_FRAME_HEIGHT))\n",
        "fps = cap.get(cv2.CAP_PROP_FPS)\n",
        "\n",
        "# Create VideoWriter object to save the output\n",
        "fourcc = cv2.VideoWriter_fourcc(*'mp4v')\n",
        "out = cv2.VideoWriter(\"/content/temp.mp4\", fourcc, fps, (width, height))\n",
        "\n",
        "# Read and write each frame, skipping every other frame\n",
        "while True:\n",
        "    ret, frame = cap.read()\n",
        "    if not ret:\n",
        "        break\n",
        "    out.write(frame)\n",
        "\n",
        "    # Skip a frame to double the speed\n",
        "    ret = cap.grab()\n",
        "    if not ret:\n",
        "        break\n",
        "\n",
        "# Release resources\n",
        "cap.release()\n",
        "out.release()\n",
        "\n",
        "# Replace original video with sped-up video\n",
        "import shutil\n",
        "shutil.move(\"/content/temp.mp4\", \"/content/gifme.mp4\")\n"
      ],
      "metadata": {
        "colab": {
          "base_uri": "https://localhost:8080/",
          "height": 36
        },
        "id": "b_oofDzRb6Y_",
        "outputId": "009eb839-0715-499c-e4d0-41d66ee10dc1"
      },
      "execution_count": null,
      "outputs": [
        {
          "output_type": "execute_result",
          "data": {
            "text/plain": [
              "'/content/gifme.mp4'"
            ],
            "application/vnd.google.colaboratory.intrinsic+json": {
              "type": "string"
            }
          },
          "metadata": {},
          "execution_count": 10
        }
      ]
    },
    {
      "cell_type": "markdown",
      "source": [
        "**split 1second videos make them 8fps gifs**"
      ],
      "metadata": {
        "id": "WGYaoTFENEiB"
      }
    },
    {
      "cell_type": "code",
      "source": [
        "import cv2\n",
        "import imageio\n",
        "import os\n",
        "\n",
        "# Input video path\n",
        "input_path = \"/content/gifme.mp4\"\n",
        "\n",
        "# Initialize VideoCapture object\n",
        "cap = cv2.VideoCapture(input_path)\n",
        "\n",
        "# Check if video opened successfully\n",
        "if not cap.isOpened():\n",
        "    print(\"Could not open video file.\")\n",
        "    exit()\n",
        "\n",
        "# Video properties\n",
        "original_fps = int(cap.get(cv2.CAP_PROP_FPS))\n",
        "new_fps = original_fps // 4  # Halve the original FPS to slow down by 2x\n",
        "width = int(cap.get(cv2.CAP_PROP_FRAME_WIDTH))\n",
        "height = int(cap.get(cv2.CAP_PROP_FRAME_HEIGHT))\n",
        "frames_per_segment = original_fps  # 1 second at original FPS to make 1 second at new FPS\n",
        "\n",
        "# Create output directory if not exists\n",
        "output_dir = \"/content/clips\"\n",
        "if not os.path.exists(output_dir):\n",
        "    os.makedirs(output_dir)\n",
        "\n",
        "# Initialize clip and GIF counter\n",
        "clip_counter = 1\n",
        "gif_counter = 1\n",
        "\n",
        "while True:\n",
        "    # Initialize frames buffer for each 1-second video clip (2 seconds at original FPS)\n",
        "    frames_buffer = []\n",
        "\n",
        "    for i in range(frames_per_segment):\n",
        "        ret, frame = cap.read()\n",
        "        if not ret:\n",
        "            break\n",
        "        frames_buffer.append(frame)\n",
        "\n",
        "    # Break if there are no more frames\n",
        "    if not frames_buffer:\n",
        "        break\n",
        "\n",
        "    # Create 1-second video clip (slowed down by 2x)\n",
        "    clip_path = os.path.join(output_dir, f\"clip{clip_counter}.mp4\")\n",
        "    fourcc = cv2.VideoWriter_fourcc(*'mp4v')\n",
        "    out = cv2.VideoWriter(clip_path, fourcc, new_fps, (width, height))\n",
        "\n",
        "    for frame in frames_buffer[::2]:  # Take every 2nd frame to slow down by 2x\n",
        "        out.write(frame)\n",
        "\n",
        "    out.release()\n",
        "\n",
        "    # Create 8 FPS GIF from the 1-second video clip (slowed down by 2x)\n",
        "    gif_frames = frames_buffer[::int(frames_per_segment / 8)]\n",
        "    gif_path = os.path.join(output_dir, f\"gif{gif_counter}.gif\")\n",
        "    imageio.mimsave(gif_path, [cv2.cvtColor(f, cv2.COLOR_BGR2RGB) for f in gif_frames], fps=8)\n",
        "\n",
        "    # Increment counters\n",
        "    clip_counter += 1\n",
        "    gif_counter += 1\n",
        "\n",
        "# Release resources\n",
        "cap.release()\n",
        "\n",
        "print(f\"Generated {clip_counter - 1} video clips and {gif_counter - 1} GIFs.\")\n"
      ],
      "metadata": {
        "colab": {
          "base_uri": "https://localhost:8080/"
        },
        "id": "8pD-SIKUb6bc",
        "outputId": "8bbf2d06-d248-4353-9399-06242d121aa5"
      },
      "execution_count": 45,
      "outputs": [
        {
          "output_type": "stream",
          "name": "stdout",
          "text": [
            "Generated 3 video clips and 3 GIFs.\n"
          ]
        }
      ]
    },
    {
      "cell_type": "markdown",
      "source": [
        "**download my wipe me down gifs**"
      ],
      "metadata": {
        "id": "SfI4p0SikLTy"
      }
    },
    {
      "cell_type": "code",
      "source": [
        "!mkdir -p /content/car  # Create the directory if it doesn't exist\n",
        "!wget -O /content/car.zip https://github.com/DragonFarts/Video-EZY/blob/main/car.zip?raw=true  # Download ZIP\n",
        "!unzip /content/car.zip -d /content/car/  # Unzip into /content/car/\n"
      ],
      "metadata": {
        "id": "4RoPNbDKke3I",
        "colab": {
          "base_uri": "https://localhost:8080/"
        },
        "outputId": "a6d33b0f-4824-42ea-e836-7555d2004c63"
      },
      "execution_count": null,
      "outputs": [
        {
          "output_type": "stream",
          "name": "stdout",
          "text": [
            "--2023-10-16 19:20:17--  https://github.com/DragonFarts/Video-EZY/blob/main/car.zip?raw=true\n",
            "Resolving github.com (github.com)... 20.205.243.166\n",
            "Connecting to github.com (github.com)|20.205.243.166|:443... connected.\n",
            "HTTP request sent, awaiting response... 302 Found\n",
            "Location: https://github.com/DragonFarts/Video-EZY/raw/main/car.zip [following]\n",
            "--2023-10-16 19:20:17--  https://github.com/DragonFarts/Video-EZY/raw/main/car.zip\n",
            "Reusing existing connection to github.com:443.\n",
            "HTTP request sent, awaiting response... 302 Found\n",
            "Location: https://raw.githubusercontent.com/DragonFarts/Video-EZY/main/car.zip [following]\n",
            "--2023-10-16 19:20:17--  https://raw.githubusercontent.com/DragonFarts/Video-EZY/main/car.zip\n",
            "Resolving raw.githubusercontent.com (raw.githubusercontent.com)... 185.199.108.133, 185.199.109.133, 185.199.110.133, ...\n",
            "Connecting to raw.githubusercontent.com (raw.githubusercontent.com)|185.199.108.133|:443... connected.\n",
            "HTTP request sent, awaiting response... 200 OK\n",
            "Length: 13869841 (13M) [application/zip]\n",
            "Saving to: ‘/content/car.zip’\n",
            "\n",
            "/content/car.zip    100%[===================>]  13.23M  --.-KB/s    in 0.04s   \n",
            "\n",
            "2023-10-16 19:20:19 (331 MB/s) - ‘/content/car.zip’ saved [13869841/13869841]\n",
            "\n",
            "Archive:  /content/car.zip\n",
            "  inflating: /content/car/gif1.gif   \n",
            "  inflating: /content/car/gif2.gif   \n",
            "  inflating: /content/car/gif3.gif   \n"
          ]
        }
      ]
    },
    {
      "cell_type": "code",
      "source": [
        "!mkdir -p /content/lips  # Create the directory if it doesn't exist\n",
        "!wget -O /content/dancing.zip https://github.com/DragonFarts/Video-EZY/blob/main/dancing.zip?raw=true  # Download ZIP\n",
        "!unzip /content/dancing.zip -d /content/clips/  # Unzip into /content/car/\n"
      ],
      "metadata": {
        "id": "hD1SgX5HkfUF",
        "colab": {
          "base_uri": "https://localhost:8080/"
        },
        "outputId": "ddaa32e0-ecb2-424d-d3f7-87bce242c5cd"
      },
      "execution_count": null,
      "outputs": [
        {
          "output_type": "stream",
          "name": "stdout",
          "text": [
            "--2023-10-16 19:20:19--  https://github.com/DragonFarts/Video-EZY/blob/main/dancing.zip?raw=true\n",
            "Resolving github.com (github.com)... 20.205.243.166\n",
            "Connecting to github.com (github.com)|20.205.243.166|:443... connected.\n",
            "HTTP request sent, awaiting response... 302 Found\n",
            "Location: https://github.com/DragonFarts/Video-EZY/raw/main/dancing.zip [following]\n",
            "--2023-10-16 19:20:20--  https://github.com/DragonFarts/Video-EZY/raw/main/dancing.zip\n",
            "Reusing existing connection to github.com:443.\n",
            "HTTP request sent, awaiting response... 302 Found\n",
            "Location: https://raw.githubusercontent.com/DragonFarts/Video-EZY/main/dancing.zip [following]\n",
            "--2023-10-16 19:20:20--  https://raw.githubusercontent.com/DragonFarts/Video-EZY/main/dancing.zip\n",
            "Resolving raw.githubusercontent.com (raw.githubusercontent.com)... 185.199.108.133, 185.199.109.133, 185.199.110.133, ...\n",
            "Connecting to raw.githubusercontent.com (raw.githubusercontent.com)|185.199.108.133|:443... connected.\n",
            "HTTP request sent, awaiting response... 200 OK\n",
            "Length: 22877933 (22M) [application/zip]\n",
            "Saving to: ‘/content/dancing.zip’\n",
            "\n",
            "/content/dancing.zi 100%[===================>]  21.82M  --.-KB/s    in 0.05s   \n",
            "\n",
            "2023-10-16 19:20:22 (423 MB/s) - ‘/content/dancing.zip’ saved [22877933/22877933]\n",
            "\n",
            "Archive:  /content/dancing.zip\n",
            "  inflating: /content/clips/gif4.gif  \n",
            "  inflating: /content/clips/gif5.gif  \n",
            "  inflating: /content/clips/gif6.gif  \n",
            "  inflating: /content/clips/gif7.gif  \n",
            "  inflating: /content/clips/gif8.gif  \n"
          ]
        }
      ]
    },
    {
      "cell_type": "code",
      "source": [
        "%cd /content/Hotshot-XL"
      ],
      "metadata": {
        "colab": {
          "base_uri": "https://localhost:8080/"
        },
        "id": "CQ3RboI3ewWW",
        "outputId": "40cd787f-67a5-475d-9640-05c01677790d"
      },
      "execution_count": 5,
      "outputs": [
        {
          "output_type": "stream",
          "name": "stdout",
          "text": [
            "/content/Hotshot-XL\n"
          ]
        }
      ]
    },
    {
      "cell_type": "code",
      "execution_count": null,
      "metadata": {
        "colab": {
          "base_uri": "https://localhost:8080/"
        },
        "id": "iPeNSOAJbKgF",
        "outputId": "19887e6a-5ba8-4824-b517-0674effa14c8"
      },
      "outputs": [
        {
          "output_type": "stream",
          "name": "stdout",
          "text": [
            "Loading pipeline components...:  29% 2/7 [00:02<00:05,  1.07s/it]2023-10-16 22:44:35.541557: W tensorflow/compiler/tf2tensorrt/utils/py_utils.cc:38] TF-TRT Warning: Could not find TensorRT\n",
            "Loading pipeline components...: 100% 7/7 [01:19<00:00, 11.38s/it]\n",
            "100% 30/30 [05:03<00:00, 10.13s/it]\n",
            "100% 8/8 [00:02<00:00,  3.09it/s]\n"
          ]
        }
      ],
      "source": [
        "!python inference.py \\\n",
        "  --prompt=\"tom cruise driving a car, hd, high quality\" \\\n",
        "  --output=\"gif6.gif\" \\\n",
        "  --control_type=\"depth\" \\\n",
        "  --width=384 \\\n",
        "  --height=672 \\\n",
        "  --gif=\"/content/clips/gif6.gif\""
      ]
    },
    {
      "cell_type": "code",
      "source": [
        "!python /content/genvid.py"
      ],
      "metadata": {
        "colab": {
          "base_uri": "https://localhost:8080/"
        },
        "id": "X3W0oz7WJGvd",
        "outputId": "629fc395-66f5-4b01-bbd9-004fa99af1b4"
      },
      "execution_count": null,
      "outputs": [
        {
          "output_type": "stream",
          "name": "stdout",
          "text": [
            "Loading pipeline components...:  14% 1/7 [00:02<00:16,  2.67s/it]2023-10-17 01:40:50.345596: W tensorflow/compiler/tf2tensorrt/utils/py_utils.cc:38] TF-TRT Warning: Could not find TensorRT\n",
            "Loading pipeline components...: 100% 7/7 [00:07<00:00,  1.01s/it]\n",
            "  0% 0/30 [00:00<?, ?it/s]"
          ]
        }
      ]
    },
    {
      "cell_type": "code",
      "source": [
        "%%writefile /content/genvid.py\n",
        "import os\n",
        "import cv2\n",
        "import random\n",
        "import string\n",
        "import imageio\n",
        "import subprocess\n",
        "\n",
        "# Function to generate a random string of fixed length\n",
        "def random_string(length=4):\n",
        "    letters = string.ascii_letters + string.digits\n",
        "    return ''.join(random.choice(letters) for i in range(length))\n",
        "\n",
        "# Initialize an empty list to store the paths of generated GIFs\n",
        "generated_gifs = []\n",
        "\n",
        "# Loop through the GIF files to run inference\n",
        "for i in range(1, 4):\n",
        "    gif_name = f\"gif{i}.gif\"\n",
        "    gif_path = f\"/content/clips/{gif_name}\"\n",
        "\n",
        "    # Construct the command string for inference\n",
        "    cmd_str = f\"\"\"python inference.py \\\n",
        "    --prompt='Bill Clinton riding a motorbike, hd, high quality' \\\n",
        "    --output='{gif_name}' \\\n",
        "    --control_type='depth' \\\n",
        "    --width=672 \\\n",
        "    --height=384 \\\n",
        "    --gif='{gif_path}'\"\"\"\n",
        "\n",
        "    # Run the command for inference\n",
        "    subprocess.run(cmd_str, shell=True)\n",
        "    print(f\"Inference done for {gif_name}\")\n",
        "\n",
        "    # Confirm that the inference was successful before adding to list\n",
        "    inferred_gif_path = f\"/content/Hotshot-XL/{gif_name}\"\n",
        "    if os.path.exists(inferred_gif_path):\n",
        "        generated_gifs.append(inferred_gif_path)\n",
        "\n"
      ],
      "metadata": {
        "id": "veEIuKKzgZvh",
        "colab": {
          "base_uri": "https://localhost:8080/"
        },
        "outputId": "23d33090-8cd2-497a-9833-2ffbf4e86094"
      },
      "execution_count": 54,
      "outputs": [
        {
          "output_type": "stream",
          "name": "stdout",
          "text": [
            "Overwriting /content/genvid.py\n"
          ]
        }
      ]
    },
    {
      "cell_type": "code",
      "source": [
        "!pip install moviepy"
      ],
      "metadata": {
        "id": "ZCmLyEP3lnuD"
      },
      "execution_count": null,
      "outputs": []
    },
    {
      "cell_type": "code",
      "source": [
        "import os\n",
        "import re\n",
        "from moviepy.editor import VideoFileClip, concatenate_videoclips\n",
        "\n",
        "# Function to extract the number from the filename\n",
        "def extract_number(filename):\n",
        "    match = re.search(r'\\d+', filename)\n",
        "    return int(match.group()) if match else 0\n",
        "\n",
        "# Define the source directory and output file\n",
        "source_directory = \"/content/Hotshot-XL\"\n",
        "output_file = \"/content/movie.mp4\"\n",
        "\n",
        "# Initialize an empty list to store VideoFileClip objects\n",
        "clips = []\n",
        "\n",
        "# Traverse the directory to find all GIF files\n",
        "gif_files = [f for f in os.listdir(source_directory) if f.endswith('.gif')]\n",
        "\n",
        "# Sort the GIF files based on the extracted number\n",
        "sorted_gif_files = sorted(gif_files, key=extract_number)\n",
        "\n",
        "# Process the sorted GIF files\n",
        "for filename in sorted_gif_files:\n",
        "    filepath = os.path.join(source_directory, filename)\n",
        "\n",
        "    # Load the GIF file as a VideoFileClip object\n",
        "    clip = VideoFileClip(filepath)\n",
        "\n",
        "    # Append the clip to the list\n",
        "    clips.append(clip)\n",
        "\n",
        "# Concatenate all the clips into one video\n",
        "final_clip = concatenate_videoclips(clips, method=\"compose\")\n",
        "\n",
        "# Write the result to a file\n",
        "final_clip.write_videofile(output_file, fps=24)\n",
        "\n",
        "# Close all clips\n",
        "for clip in clips:\n",
        "    clip.close()\n",
        "final_clip.close()\n"
      ],
      "metadata": {
        "id": "l0t-kAYZlpo2",
        "colab": {
          "base_uri": "https://localhost:8080/"
        },
        "outputId": "15e85b5a-5b24-4a90-d65a-093a72695b31"
      },
      "execution_count": 51,
      "outputs": [
        {
          "output_type": "stream",
          "name": "stdout",
          "text": [
            "Moviepy - Building video /content/movie.mp4.\n",
            "Moviepy - Writing video /content/movie.mp4\n",
            "\n"
          ]
        },
        {
          "output_type": "stream",
          "name": "stderr",
          "text": []
        },
        {
          "output_type": "stream",
          "name": "stdout",
          "text": [
            "Moviepy - Done !\n",
            "Moviepy - video ready /content/movie.mp4\n"
          ]
        }
      ]
    },
    {
      "cell_type": "code",
      "source": [
        "%%writefile /content/extaud.py\n",
        "import sys\n",
        "from moviepy.editor import VideoFileClip\n",
        "\n",
        "def add_audio_to_video(source_video_path, target_video_path):\n",
        "    # Load the source video and extract its audio\n",
        "    source_video = VideoFileClip(source_video_path)\n",
        "    source_audio = source_video.audio\n",
        "\n",
        "    # Load the target video\n",
        "    target_video = VideoFileClip(target_video_path)\n",
        "\n",
        "    # Set the audio of the target video to be the source audio\n",
        "    final_video = target_video.set_audio(source_audio)\n",
        "\n",
        "    # Write the final video to a file\n",
        "    final_video.write_videofile(f\"final_{target_video_path.split('/')[-1]}\", codec=\"libx264\")\n",
        "\n",
        "    # Close the video and audio clips\n",
        "    source_video.close()\n",
        "    target_video.close()\n",
        "    source_audio.close()\n",
        "    final_video.close()\n",
        "\n",
        "if __name__ == \"__main__\":\n",
        "    if len(sys.argv) != 3:\n",
        "        print(\"Usage: !python extaud.py <source_video> <target_video>\")\n",
        "        sys.exit(1)\n",
        "\n",
        "    source_video_path = sys.argv[1]\n",
        "    target_video_path = sys.argv[2]\n",
        "\n",
        "    add_audio_to_video(source_video_path, target_video_path)\n"
      ],
      "metadata": {
        "id": "x2rQlZ-ookVw",
        "colab": {
          "base_uri": "https://localhost:8080/"
        },
        "outputId": "d94b7a7d-2b89-4eae-e260-6db437f727e4"
      },
      "execution_count": 9,
      "outputs": [
        {
          "output_type": "stream",
          "name": "stdout",
          "text": [
            "Writing /content/extaud.py\n"
          ]
        }
      ]
    },
    {
      "cell_type": "code",
      "source": [
        "!python /content/extaud.py \"/content/gifme.mp4\" \"/content/movie.mp4\""
      ],
      "metadata": {
        "id": "B6MvBqb9pzxp",
        "colab": {
          "base_uri": "https://localhost:8080/"
        },
        "outputId": "9b4359ff-a7b8-4265-d0f2-b60a4fc262f6"
      },
      "execution_count": 52,
      "outputs": [
        {
          "output_type": "stream",
          "name": "stdout",
          "text": [
            "error: XDG_RUNTIME_DIR not set in the environment.\n",
            "ALSA lib confmisc.c:855:(parse_card) cannot find card '0'\n",
            "ALSA lib conf.c:5178:(_snd_config_evaluate) function snd_func_card_inum returned error: No such file or directory\n",
            "ALSA lib confmisc.c:422:(snd_func_concat) error evaluating strings\n",
            "ALSA lib conf.c:5178:(_snd_config_evaluate) function snd_func_concat returned error: No such file or directory\n",
            "ALSA lib confmisc.c:1334:(snd_func_refer) error evaluating name\n",
            "ALSA lib conf.c:5178:(_snd_config_evaluate) function snd_func_refer returned error: No such file or directory\n",
            "ALSA lib conf.c:5701:(snd_config_expand) Evaluate error: No such file or directory\n",
            "ALSA lib pcm.c:2664:(snd_pcm_open_noupdate) Unknown PCM default\n",
            "ALSA lib confmisc.c:855:(parse_card) cannot find card '0'\n",
            "ALSA lib conf.c:5178:(_snd_config_evaluate) function snd_func_card_inum returned error: No such file or directory\n",
            "ALSA lib confmisc.c:422:(snd_func_concat) error evaluating strings\n",
            "ALSA lib conf.c:5178:(_snd_config_evaluate) function snd_func_concat returned error: No such file or directory\n",
            "ALSA lib confmisc.c:1334:(snd_func_refer) error evaluating name\n",
            "ALSA lib conf.c:5178:(_snd_config_evaluate) function snd_func_refer returned error: No such file or directory\n",
            "ALSA lib conf.c:5701:(snd_config_expand) Evaluate error: No such file or directory\n",
            "ALSA lib pcm.c:2664:(snd_pcm_open_noupdate) Unknown PCM default\n",
            "Moviepy - Building video final_movie.mp4.\n",
            "MoviePy - Writing audio in final_movieTEMP_MPY_wvf_snd.mp3\n",
            "MoviePy - Done.\n",
            "Moviepy - Writing video final_movie.mp4\n",
            "\n",
            "Moviepy - Done !\n",
            "Moviepy - video ready final_movie.mp4\n"
          ]
        }
      ]
    },
    {
      "cell_type": "markdown",
      "source": [
        "**Delete Crappy Gifs**"
      ],
      "metadata": {
        "id": "mxmZV4dSehcm"
      }
    },
    {
      "cell_type": "code",
      "source": [
        "import os\n",
        "import glob\n",
        "\n",
        "# Define the directory and file extension\n",
        "directory = '/content/Hotshot-XL/'\n",
        "extension = '*.gif'\n",
        "\n",
        "# Create the full path with the extension\n",
        "full_path = os.path.join(directory, extension)\n",
        "\n",
        "# Loop through the files and remove them\n",
        "for file_path in glob.glob(full_path):\n",
        "    try:\n",
        "        os.remove(file_path)\n",
        "        print(f\"Removed: {file_path}\")\n",
        "    except Exception as e:\n",
        "        print(f\"Error occurred while deleting file {file_path}: {e}\")\n",
        "\n",
        "print(\"Finished removing all .gif files.\")\n"
      ],
      "metadata": {
        "colab": {
          "base_uri": "https://localhost:8080/"
        },
        "id": "b9v8UrFdeJNS",
        "outputId": "2e657bd4-6ba4-4694-8822-5ebf77c4bdc4"
      },
      "execution_count": 53,
      "outputs": [
        {
          "output_type": "stream",
          "name": "stdout",
          "text": [
            "Removed: /content/Hotshot-XL/gif1.gif\n",
            "Removed: /content/Hotshot-XL/gif2.gif\n",
            "Finished removing all .gif files.\n"
          ]
        }
      ]
    }
  ],
  "metadata": {
    "accelerator": "GPU",
    "colab": {
      "gpuType": "T4",
      "provenance": [],
      "machine_shape": "hm",
      "include_colab_link": true
    },
    "kernelspec": {
      "display_name": "Python 3",
      "name": "python3"
    },
    "language_info": {
      "name": "python"
    }
  },
  "nbformat": 4,
  "nbformat_minor": 0
}