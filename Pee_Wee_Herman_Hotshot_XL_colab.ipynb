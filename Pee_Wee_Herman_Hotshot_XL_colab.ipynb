{
  "cells": [
    {
      "cell_type": "markdown",
      "metadata": {
        "id": "view-in-github",
        "colab_type": "text"
      },
      "source": [
        "<a href=\"https://colab.research.google.com/github/DragonFarts/Video-EZY/blob/main/Pee_Wee_Herman_Hotshot_XL_colab.ipynb\" target=\"_parent\"><img src=\"https://colab.research.google.com/assets/colab-badge.svg\" alt=\"Open In Colab\"/></a>"
      ]
    },
    {
      "cell_type": "code",
      "execution_count": 1,
      "metadata": {
        "colab": {
          "base_uri": "https://localhost:8080/"
        },
        "id": "VjYy0F2gZIPR",
        "outputId": "05fd1b1b-b1bc-4035-cafc-6caf394219de"
      },
      "outputs": [
        {
          "output_type": "stream",
          "name": "stdout",
          "text": [
            "/content\n",
            "Cloning into 'Hotshot-XL'...\n",
            "remote: Enumerating objects: 48, done.\u001b[K\n",
            "remote: Counting objects: 100% (19/19), done.\u001b[K\n",
            "remote: Compressing objects: 100% (12/12), done.\u001b[K\n",
            "remote: Total 48 (delta 15), reused 7 (delta 7), pack-reused 29\u001b[K\n",
            "Receiving objects: 100% (48/48), 66.13 KiB | 6.61 MiB/s, done.\n",
            "Resolving deltas: 100% (18/18), done.\n",
            "/content/Hotshot-XL\n",
            "\u001b[2K     \u001b[90m━━━━━━━━━━━━━━━━━━━━━━━━━━━━━━━━━━━━━━━━\u001b[0m \u001b[32m258.1/258.1 kB\u001b[0m \u001b[31m4.7 MB/s\u001b[0m eta \u001b[36m0:00:00\u001b[0m\n",
            "\u001b[2K     \u001b[90m━━━━━━━━━━━━━━━━━━━━━━━━━━━━━━━━━━━━━━━━\u001b[0m \u001b[32m302.0/302.0 kB\u001b[0m \u001b[31m10.9 MB/s\u001b[0m eta \u001b[36m0:00:00\u001b[0m\n",
            "\u001b[?25h  Preparing metadata (setup.py) ... \u001b[?25l\u001b[?25hdone\n",
            "\u001b[2K     \u001b[90m━━━━━━━━━━━━━━━━━━━━━━━━━━━━━━━━━━━━━━━━\u001b[0m \u001b[32m1.5/1.5 MB\u001b[0m \u001b[31m7.7 MB/s\u001b[0m eta \u001b[36m0:00:00\u001b[0m\n",
            "\u001b[2K     \u001b[90m━━━━━━━━━━━━━━━━━━━━━━━━━━━━━━━━━━━━━━━━\u001b[0m \u001b[32m7.7/7.7 MB\u001b[0m \u001b[31m24.9 MB/s\u001b[0m eta \u001b[36m0:00:00\u001b[0m\n",
            "\u001b[2K     \u001b[90m━━━━━━━━━━━━━━━━━━━━━━━━━━━━━━━━━━━━━━━━\u001b[0m \u001b[32m44.6/44.6 kB\u001b[0m \u001b[31m5.0 MB/s\u001b[0m eta \u001b[36m0:00:00\u001b[0m\n",
            "\u001b[2K     \u001b[90m━━━━━━━━━━━━━━━━━━━━━━━━━━━━━━━━━━━━━━━━\u001b[0m \u001b[32m1.3/1.3 MB\u001b[0m \u001b[31m43.0 MB/s\u001b[0m eta \u001b[36m0:00:00\u001b[0m\n",
            "\u001b[2K     \u001b[90m━━━━━━━━━━━━━━━━━━━━━━━━━━━━━━━━━━━━━━━━\u001b[0m \u001b[32m3.8/3.8 MB\u001b[0m \u001b[31m41.6 MB/s\u001b[0m eta \u001b[36m0:00:00\u001b[0m\n",
            "\u001b[2K     \u001b[90m━━━━━━━━━━━━━━━━━━━━━━━━━━━━━━━━━━━━━━━━\u001b[0m \u001b[32m295.0/295.0 kB\u001b[0m \u001b[31m29.7 MB/s\u001b[0m eta \u001b[36m0:00:00\u001b[0m\n",
            "\u001b[?25h  Building wheel for hotshot-xl (setup.py) ... \u001b[?25l\u001b[?25hdone\n"
          ]
        }
      ],
      "source": [
        "%cd /content\n",
        "!git clone -b dev https://github.com/camenduru/Hotshot-XL\n",
        "%cd /content/Hotshot-XL\n",
        "!pip install -q accelerate\n",
        "!pip install -q ."
      ]
    },
    {
      "cell_type": "code",
      "execution_count": null,
      "metadata": {
        "id": "1xI6mWjvb6ME"
      },
      "outputs": [],
      "source": [
        "!cp /content/gifme.mp4 /content/copy_gifme.mp4"
      ]
    },
    {
      "cell_type": "code",
      "execution_count": null,
      "metadata": {
        "id": "Y4euMojXcRZP"
      },
      "outputs": [],
      "source": [
        "!cp /content/copy_gifme.mp4 /content/gifme.mp4"
      ]
    },
    {
      "cell_type": "code",
      "execution_count": 2,
      "metadata": {
        "colab": {
          "base_uri": "https://localhost:8080/"
        },
        "id": "YKUmdt6Sb6WN",
        "outputId": "097eebb2-d5da-4e38-a803-62902d67b4a6"
      },
      "outputs": [
        {
          "output_type": "stream",
          "name": "stdout",
          "text": [
            "Requirement already satisfied: opencv-python in /usr/local/lib/python3.10/dist-packages (4.8.0.76)\n",
            "Requirement already satisfied: numpy>=1.21.2 in /usr/local/lib/python3.10/dist-packages (from opencv-python) (1.23.5)\n"
          ]
        }
      ],
      "source": [
        "!pip install opencv-python"
      ]
    },
    {
      "cell_type": "code",
      "execution_count": 3,
      "metadata": {
        "colab": {
          "base_uri": "https://localhost:8080/"
        },
        "id": "y8P9bv6Kdk4x",
        "outputId": "8a704034-0c39-40e1-efbe-3ea36dcb58d7"
      },
      "outputs": [
        {
          "output_type": "stream",
          "name": "stdout",
          "text": [
            "Requirement already satisfied: imageio in /usr/local/lib/python3.10/dist-packages (2.31.5)\n",
            "Requirement already satisfied: numpy in /usr/local/lib/python3.10/dist-packages (from imageio) (1.23.5)\n",
            "Requirement already satisfied: pillow>=8.3.2 in /usr/local/lib/python3.10/dist-packages (from imageio) (9.4.0)\n"
          ]
        }
      ],
      "source": [
        "!pip install imageio"
      ]
    },
    {
      "cell_type": "markdown",
      "metadata": {
        "id": "odfD886rkE6e"
      },
      "source": [
        "**RIP A YOUTUBE MAKE SOME GIFS**"
      ]
    },
    {
      "cell_type": "code",
      "execution_count": 4,
      "metadata": {
        "colab": {
          "base_uri": "https://localhost:8080/"
        },
        "id": "ooWHDsgJg1zt",
        "outputId": "11dfdf31-9f73-4975-9b96-18fd8a2743e1"
      },
      "outputs": [
        {
          "output_type": "stream",
          "name": "stdout",
          "text": [
            "Collecting yt_dlp\n",
            "  Downloading yt_dlp-2023.10.13-py2.py3-none-any.whl (3.1 MB)\n",
            "\u001b[2K     \u001b[90m━━━━━━━━━━━━━━━━━━━━━━━━━━━━━━━━━━━━━━━━\u001b[0m \u001b[32m3.1/3.1 MB\u001b[0m \u001b[31m12.8 MB/s\u001b[0m eta \u001b[36m0:00:00\u001b[0m\n",
            "\u001b[?25hCollecting mutagen (from yt_dlp)\n",
            "  Downloading mutagen-1.47.0-py3-none-any.whl (194 kB)\n",
            "\u001b[2K     \u001b[90m━━━━━━━━━━━━━━━━━━━━━━━━━━━━━━━━━━━━━━━━\u001b[0m \u001b[32m194.4/194.4 kB\u001b[0m \u001b[31m23.0 MB/s\u001b[0m eta \u001b[36m0:00:00\u001b[0m\n",
            "\u001b[?25hCollecting pycryptodomex (from yt_dlp)\n",
            "  Downloading pycryptodomex-3.19.0-cp35-abi3-manylinux_2_17_x86_64.manylinux2014_x86_64.whl (2.1 MB)\n",
            "\u001b[2K     \u001b[90m━━━━━━━━━━━━━━━━━━━━━━━━━━━━━━━━━━━━━━━━\u001b[0m \u001b[32m2.1/2.1 MB\u001b[0m \u001b[31m28.3 MB/s\u001b[0m eta \u001b[36m0:00:00\u001b[0m\n",
            "\u001b[?25hCollecting websockets (from yt_dlp)\n",
            "  Downloading websockets-11.0.3-cp310-cp310-manylinux_2_5_x86_64.manylinux1_x86_64.manylinux_2_17_x86_64.manylinux2014_x86_64.whl (129 kB)\n",
            "\u001b[2K     \u001b[90m━━━━━━━━━━━━━━━━━━━━━━━━━━━━━━━━━━━━━━━━\u001b[0m \u001b[32m129.9/129.9 kB\u001b[0m \u001b[31m13.2 MB/s\u001b[0m eta \u001b[36m0:00:00\u001b[0m\n",
            "\u001b[?25hRequirement already satisfied: certifi in /usr/local/lib/python3.10/dist-packages (from yt_dlp) (2023.7.22)\n",
            "Collecting brotli (from yt_dlp)\n",
            "  Downloading Brotli-1.1.0-cp310-cp310-manylinux_2_5_x86_64.manylinux1_x86_64.manylinux_2_12_x86_64.manylinux2010_x86_64.whl (3.0 MB)\n",
            "\u001b[2K     \u001b[90m━━━━━━━━━━━━━━━━━━━━━━━━━━━━━━━━━━━━━━━━\u001b[0m \u001b[32m3.0/3.0 MB\u001b[0m \u001b[31m41.3 MB/s\u001b[0m eta \u001b[36m0:00:00\u001b[0m\n",
            "\u001b[?25hInstalling collected packages: brotli, websockets, pycryptodomex, mutagen, yt_dlp\n",
            "Successfully installed brotli-1.1.0 mutagen-1.47.0 pycryptodomex-3.19.0 websockets-11.0.3 yt_dlp-2023.10.13\n"
          ]
        }
      ],
      "source": [
        "!pip install yt_dlp"
      ]
    },
    {
      "cell_type": "code",
      "execution_count": 9,
      "metadata": {
        "colab": {
          "base_uri": "https://localhost:8080/"
        },
        "id": "vvzN2Bnlc7lt",
        "outputId": "e5457471-e74e-4dfb-827c-de6a24575c71"
      },
      "outputs": [
        {
          "output_type": "stream",
          "name": "stdout",
          "text": [
            "[youtube] Extracting URL: https://www.youtube.com/watch?v=7eTl05KHwFI\n",
            "[youtube] 7eTl05KHwFI: Downloading webpage\n",
            "[youtube] 7eTl05KHwFI: Downloading ios player API JSON\n",
            "[youtube] 7eTl05KHwFI: Downloading android player API JSON\n",
            "[youtube] 7eTl05KHwFI: Downloading m3u8 information\n",
            "[info] 7eTl05KHwFI: Downloading 1 format(s): 614+140\n",
            "[hlsnative] Downloading m3u8 manifest\n",
            "[hlsnative] Total fragments: 36\n",
            "[download] Destination: /content/gifme.f614.mp4\n",
            "[download] 100% of   44.47MiB in 00:00:09 at 4.80MiB/s                 \n",
            "[download] Destination: /content/gifme.f140.m4a\n",
            "[download] 100% of    2.83MiB in 00:00:00 at 9.88MiB/s   \n",
            "[Merger] Merging formats into \"/content/gifme.mp4\"\n",
            "Deleting original file /content/gifme.f614.mp4 (pass -k to keep)\n",
            "Deleting original file /content/gifme.f140.m4a (pass -k to keep)\n"
          ]
        }
      ],
      "source": [
        "from yt_dlp import YoutubeDL\n",
        "with YoutubeDL({'overwrites':True, 'format':'bestvideo[ext=mp4]+bestaudio[ext=m4a]/mp4', 'outtmpl':'/content/gifme'}) as ydl:\n",
        "    ydl.download(\"https://www.youtube.com/watch?v=7eTl05KHwFI\")"
      ]
    },
    {
      "cell_type": "markdown",
      "metadata": {
        "id": "vALevzl8NAMM"
      },
      "source": [
        "**Double Speed (sometimes ya wanna do it)**"
      ]
    },
    {
      "cell_type": "code",
      "execution_count": 6,
      "metadata": {
        "colab": {
          "base_uri": "https://localhost:8080/"
        },
        "id": "b_oofDzRb6Y_",
        "outputId": "601d2968-6110-430a-924c-52f7cb6f8a06"
      },
      "outputs": [
        {
          "output_type": "stream",
          "name": "stdout",
          "text": [
            "Writing vidspeed.py\n"
          ]
        }
      ],
      "source": [
        "%%writefile vidspeed.py\n",
        "import sys\n",
        "from moviepy.editor import *\n",
        "\n",
        "# Command-line arguments\n",
        "speed_factor = float(sys.argv[1])\n",
        "input_video_path = sys.argv[2]\n",
        "output_video_path = sys.argv[3]\n",
        "\n",
        "# Load video\n",
        "video = VideoFileClip(input_video_path)\n",
        "\n",
        "# Adjust speed\n",
        "video = video.fx(vfx.speedx, speed_factor)\n",
        "\n",
        "# Write to output file\n",
        "video.write_videofile(output_video_path, codec=\"libx264\")"
      ]
    },
    {
      "cell_type": "code",
      "execution_count": 10,
      "metadata": {
        "colab": {
          "base_uri": "https://localhost:8080/"
        },
        "id": "N-j0_UzBgRa7",
        "outputId": "36acc8bf-2235-44c7-f988-a5748d54f733"
      },
      "outputs": [
        {
          "output_type": "stream",
          "name": "stdout",
          "text": [
            "error: XDG_RUNTIME_DIR not set in the environment.\n",
            "ALSA lib confmisc.c:855:(parse_card) cannot find card '0'\n",
            "ALSA lib conf.c:5178:(_snd_config_evaluate) function snd_func_card_inum returned error: No such file or directory\n",
            "ALSA lib confmisc.c:422:(snd_func_concat) error evaluating strings\n",
            "ALSA lib conf.c:5178:(_snd_config_evaluate) function snd_func_concat returned error: No such file or directory\n",
            "ALSA lib confmisc.c:1334:(snd_func_refer) error evaluating name\n",
            "ALSA lib conf.c:5178:(_snd_config_evaluate) function snd_func_refer returned error: No such file or directory\n",
            "ALSA lib conf.c:5701:(snd_config_expand) Evaluate error: No such file or directory\n",
            "ALSA lib pcm.c:2664:(snd_pcm_open_noupdate) Unknown PCM default\n",
            "ALSA lib confmisc.c:855:(parse_card) cannot find card '0'\n",
            "ALSA lib conf.c:5178:(_snd_config_evaluate) function snd_func_card_inum returned error: No such file or directory\n",
            "ALSA lib confmisc.c:422:(snd_func_concat) error evaluating strings\n",
            "ALSA lib conf.c:5178:(_snd_config_evaluate) function snd_func_concat returned error: No such file or directory\n",
            "ALSA lib confmisc.c:1334:(snd_func_refer) error evaluating name\n",
            "ALSA lib conf.c:5178:(_snd_config_evaluate) function snd_func_refer returned error: No such file or directory\n",
            "ALSA lib conf.c:5701:(snd_config_expand) Evaluate error: No such file or directory\n",
            "ALSA lib pcm.c:2664:(snd_pcm_open_noupdate) Unknown PCM default\n",
            "Moviepy - Building video /content/temp_gifme.mp4.\n",
            "MoviePy - Writing audio in temp_gifmeTEMP_MPY_wvf_snd.mp3\n",
            "MoviePy - Done.\n",
            "Moviepy - Writing video /content/temp_gifme.mp4\n",
            "\n",
            "Moviepy - Done !\n",
            "Moviepy - video ready /content/temp_gifme.mp4\n"
          ]
        }
      ],
      "source": [
        "!python vidspeed.py 0.25 /content/gifme.mp4 /content/temp_gifme.mp4"
      ]
    },
    {
      "cell_type": "code",
      "execution_count": 11,
      "metadata": {
        "id": "vgS_UaY7i2_X"
      },
      "outputs": [],
      "source": [
        "!mv /content/temp_gifme.mp4 /content/gifme.mp4"
      ]
    },
    {
      "cell_type": "markdown",
      "metadata": {
        "id": "WGYaoTFENEiB"
      },
      "source": [
        "**split 1second videos make them 8fps gifs**"
      ]
    },
    {
      "cell_type": "code",
      "execution_count": 28,
      "metadata": {
        "colab": {
          "base_uri": "https://localhost:8080/"
        },
        "id": "8pD-SIKUb6bc",
        "outputId": "12b09a08-fb70-4079-8ede-9f3dd6bee038"
      },
      "outputs": [
        {
          "output_type": "stream",
          "name": "stdout",
          "text": [
            "Generated 766 video clips and 766 GIFs.\n"
          ]
        }
      ],
      "source": [
        "import cv2\n",
        "import imageio\n",
        "import os\n",
        "\n",
        "# Input video path\n",
        "input_path = \"/content/gifme.mp4\"\n",
        "\n",
        "# Initialize VideoCapture object\n",
        "cap = cv2.VideoCapture(input_path)\n",
        "\n",
        "# Check if video opened successfully\n",
        "if not cap.isOpened():\n",
        "    print(\"Could not open video file.\")\n",
        "    exit()\n",
        "\n",
        "# Video properties\n",
        "original_fps = int(cap.get(cv2.CAP_PROP_FPS))\n",
        "width = int(cap.get(cv2.CAP_PROP_FRAME_WIDTH))\n",
        "height = int(cap.get(cv2.CAP_PROP_FRAME_HEIGHT))\n",
        "frames_per_segment = original_fps  # 1 second at original FPS\n",
        "\n",
        "# Create output directory if not exists\n",
        "output_dir = \"/content/clips\"\n",
        "if not os.path.exists(output_dir):\n",
        "    os.makedirs(output_dir)\n",
        "\n",
        "# Initialize clip and GIF counter\n",
        "clip_counter = 1\n",
        "gif_counter = 1\n",
        "\n",
        "while True:\n",
        "    # Initialize frames buffer for each 1-second video clip\n",
        "    frames_buffer = []\n",
        "\n",
        "    for i in range(frames_per_segment):\n",
        "        ret, frame = cap.read()\n",
        "        if not ret:\n",
        "            break\n",
        "        frames_buffer.append(frame)\n",
        "\n",
        "    # Break if there are no more frames\n",
        "    if not frames_buffer:\n",
        "        break\n",
        "\n",
        "    # Create 1-second video clip\n",
        "    clip_path = os.path.join(output_dir, f\"clip{clip_counter}.mp4\")\n",
        "    fourcc = cv2.VideoWriter_fourcc(*'mp4v')\n",
        "    out = cv2.VideoWriter(clip_path, fourcc, original_fps, (width, height))\n",
        "\n",
        "    for frame in frames_buffer:\n",
        "        out.write(frame)\n",
        "\n",
        "    out.release()\n",
        "\n",
        "    # Create 8 FPS GIF from the 1-second video clip\n",
        "    gif_frames = frames_buffer[::int(original_fps / 8)]\n",
        "    gif_path = os.path.join(output_dir, f\"gif{gif_counter}.gif\")\n",
        "    imageio.mimsave(gif_path, [cv2.cvtColor(f, cv2.COLOR_BGR2RGB) for f in gif_frames], fps=8)\n",
        "\n",
        "    # Increment counters\n",
        "    clip_counter += 1\n",
        "    gif_counter += 1\n",
        "\n",
        "# Release resources\n",
        "cap.release()\n",
        "\n",
        "print(f\"Generated {clip_counter - 1} video clips and {gif_counter - 1} GIFs.\")"
      ]
    },
    {
      "cell_type": "markdown",
      "metadata": {
        "id": "SfI4p0SikLTy"
      },
      "source": [
        "**download my wipe me down gifs**"
      ]
    },
    {
      "cell_type": "code",
      "execution_count": null,
      "metadata": {
        "colab": {
          "base_uri": "https://localhost:8080/"
        },
        "id": "4RoPNbDKke3I",
        "outputId": "a6d33b0f-4824-42ea-e836-7555d2004c63"
      },
      "outputs": [
        {
          "name": "stdout",
          "output_type": "stream",
          "text": [
            "--2023-10-16 19:20:17--  https://github.com/DragonFarts/Video-EZY/blob/main/car.zip?raw=true\n",
            "Resolving github.com (github.com)... 20.205.243.166\n",
            "Connecting to github.com (github.com)|20.205.243.166|:443... connected.\n",
            "HTTP request sent, awaiting response... 302 Found\n",
            "Location: https://github.com/DragonFarts/Video-EZY/raw/main/car.zip [following]\n",
            "--2023-10-16 19:20:17--  https://github.com/DragonFarts/Video-EZY/raw/main/car.zip\n",
            "Reusing existing connection to github.com:443.\n",
            "HTTP request sent, awaiting response... 302 Found\n",
            "Location: https://raw.githubusercontent.com/DragonFarts/Video-EZY/main/car.zip [following]\n",
            "--2023-10-16 19:20:17--  https://raw.githubusercontent.com/DragonFarts/Video-EZY/main/car.zip\n",
            "Resolving raw.githubusercontent.com (raw.githubusercontent.com)... 185.199.108.133, 185.199.109.133, 185.199.110.133, ...\n",
            "Connecting to raw.githubusercontent.com (raw.githubusercontent.com)|185.199.108.133|:443... connected.\n",
            "HTTP request sent, awaiting response... 200 OK\n",
            "Length: 13869841 (13M) [application/zip]\n",
            "Saving to: ‘/content/car.zip’\n",
            "\n",
            "/content/car.zip    100%[===================>]  13.23M  --.-KB/s    in 0.04s   \n",
            "\n",
            "2023-10-16 19:20:19 (331 MB/s) - ‘/content/car.zip’ saved [13869841/13869841]\n",
            "\n",
            "Archive:  /content/car.zip\n",
            "  inflating: /content/car/gif1.gif   \n",
            "  inflating: /content/car/gif2.gif   \n",
            "  inflating: /content/car/gif3.gif   \n"
          ]
        }
      ],
      "source": [
        "!mkdir -p /content/car  # Create the directory if it doesn't exist\n",
        "!wget -O /content/car.zip https://github.com/DragonFarts/Video-EZY/blob/main/car.zip?raw=true  # Download ZIP\n",
        "!unzip /content/car.zip -d /content/car/  # Unzip into /content/car/\n"
      ]
    },
    {
      "cell_type": "code",
      "execution_count": null,
      "metadata": {
        "colab": {
          "base_uri": "https://localhost:8080/"
        },
        "id": "hD1SgX5HkfUF",
        "outputId": "ddaa32e0-ecb2-424d-d3f7-87bce242c5cd"
      },
      "outputs": [
        {
          "name": "stdout",
          "output_type": "stream",
          "text": [
            "--2023-10-16 19:20:19--  https://github.com/DragonFarts/Video-EZY/blob/main/dancing.zip?raw=true\n",
            "Resolving github.com (github.com)... 20.205.243.166\n",
            "Connecting to github.com (github.com)|20.205.243.166|:443... connected.\n",
            "HTTP request sent, awaiting response... 302 Found\n",
            "Location: https://github.com/DragonFarts/Video-EZY/raw/main/dancing.zip [following]\n",
            "--2023-10-16 19:20:20--  https://github.com/DragonFarts/Video-EZY/raw/main/dancing.zip\n",
            "Reusing existing connection to github.com:443.\n",
            "HTTP request sent, awaiting response... 302 Found\n",
            "Location: https://raw.githubusercontent.com/DragonFarts/Video-EZY/main/dancing.zip [following]\n",
            "--2023-10-16 19:20:20--  https://raw.githubusercontent.com/DragonFarts/Video-EZY/main/dancing.zip\n",
            "Resolving raw.githubusercontent.com (raw.githubusercontent.com)... 185.199.108.133, 185.199.109.133, 185.199.110.133, ...\n",
            "Connecting to raw.githubusercontent.com (raw.githubusercontent.com)|185.199.108.133|:443... connected.\n",
            "HTTP request sent, awaiting response... 200 OK\n",
            "Length: 22877933 (22M) [application/zip]\n",
            "Saving to: ‘/content/dancing.zip’\n",
            "\n",
            "/content/dancing.zi 100%[===================>]  21.82M  --.-KB/s    in 0.05s   \n",
            "\n",
            "2023-10-16 19:20:22 (423 MB/s) - ‘/content/dancing.zip’ saved [22877933/22877933]\n",
            "\n",
            "Archive:  /content/dancing.zip\n",
            "  inflating: /content/clips/gif4.gif  \n",
            "  inflating: /content/clips/gif5.gif  \n",
            "  inflating: /content/clips/gif6.gif  \n",
            "  inflating: /content/clips/gif7.gif  \n",
            "  inflating: /content/clips/gif8.gif  \n"
          ]
        }
      ],
      "source": [
        "!mkdir -p /content/lips  # Create the directory if it doesn't exist\n",
        "!wget -O /content/dancing.zip https://github.com/DragonFarts/Video-EZY/blob/main/dancing.zip?raw=true  # Download ZIP\n",
        "!unzip /content/dancing.zip -d /content/clips/  # Unzip into /content/car/\n"
      ]
    },
    {
      "cell_type": "code",
      "execution_count": null,
      "metadata": {
        "id": "CQ3RboI3ewWW"
      },
      "outputs": [],
      "source": [
        "%cd /content/Hotshot-XL"
      ]
    },
    {
      "cell_type": "code",
      "execution_count": 26,
      "metadata": {
        "colab": {
          "base_uri": "https://localhost:8080/",
          "height": 141
        },
        "id": "iPeNSOAJbKgF",
        "outputId": "002efa97-802e-4a5d-d383-d263256e9224"
      },
      "outputs": [
        {
          "output_type": "error",
          "ename": "IndentationError",
          "evalue": "ignored",
          "traceback": [
            "\u001b[0;36m  File \u001b[0;32m\"<ipython-input-26-074984eda6ef>\"\u001b[0;36m, line \u001b[0;32m2\u001b[0m\n\u001b[0;31m    --output=\"gif6.gif\" \\\u001b[0m\n\u001b[0m    ^\u001b[0m\n\u001b[0;31mIndentationError\u001b[0m\u001b[0;31m:\u001b[0m unexpected indent\n"
          ]
        }
      ],
      "source": [
        "!python inference.py \\\n",
        "  --prompt='peewee herman man, Pee wees Big Adventure Movie CLIP Im a Loner, Dottie 1985 HD, hd, high quality.' \\\n",
        "  --output=\"gif6.gif\" \\\n",
        "  --control_type=\"depth\" \\\n",
        "  --width=672 \\\n",
        "  --height=384 \\\n",
        "  --lora=\"/content/Hotshot-XL/downloaded_file.safetensors\" \\\n",
        "  --gif=\"/content/clips/gif6.gif\""
      ]
    },
    {
      "cell_type": "code",
      "execution_count": 13,
      "metadata": {
        "colab": {
          "base_uri": "https://localhost:8080/"
        },
        "id": "RgFGh6gXdWu8",
        "outputId": "4564eb6d-3fd7-4b53-e7bf-5570e51e8dd8"
      },
      "outputs": [
        {
          "output_type": "stream",
          "name": "stdout",
          "text": [
            "File downloaded successfully.\n"
          ]
        }
      ],
      "source": [
        "import requests\n",
        "import shutil\n",
        "\n",
        "# Send a GET request and allow redirects\n",
        "response = requests.get('https://civitai.com/api/download/models/143776', stream=True, allow_redirects=True)\n",
        "\n",
        "# Check if the request was successful\n",
        "if response.status_code == 200:\n",
        "    # Open a local file for writing the downloaded data\n",
        "    with open('downloaded_file.safetensors', 'wb') as out_file:\n",
        "        # Copy the downloaded data to the local file\n",
        "        shutil.copyfileobj(response.raw, out_file)\n",
        "    print(\"File downloaded successfully.\")\n",
        "else:\n",
        "    print(f\"Failed to retrieve the file. HTTP Status Code: {response.status_code}\")"
      ]
    },
    {
      "cell_type": "code",
      "execution_count": null,
      "metadata": {
        "id": "veEIuKKzgZvh",
        "colab": {
          "base_uri": "https://localhost:8080/"
        },
        "outputId": "4ba55d8d-0639-4e0b-8aec-ef75bcb5ecfe"
      },
      "outputs": [
        {
          "output_type": "stream",
          "name": "stdout",
          "text": [
            "Inference done for gif1.gif\n",
            "Inference done for gif2.gif\n",
            "Inference done for gif3.gif\n",
            "Inference done for gif4.gif\n",
            "Inference done for gif5.gif\n",
            "Inference done for gif6.gif\n",
            "Inference done for gif7.gif\n",
            "Inference done for gif8.gif\n",
            "Inference done for gif9.gif\n",
            "Inference done for gif10.gif\n",
            "Inference done for gif11.gif\n",
            "Inference done for gif12.gif\n",
            "Inference done for gif13.gif\n",
            "Inference done for gif14.gif\n",
            "Inference done for gif15.gif\n",
            "Inference done for gif16.gif\n",
            "Inference done for gif17.gif\n",
            "Inference done for gif18.gif\n",
            "Inference done for gif19.gif\n",
            "Inference done for gif20.gif\n",
            "Inference done for gif21.gif\n",
            "Inference done for gif22.gif\n",
            "Inference done for gif23.gif\n",
            "Inference done for gif24.gif\n",
            "Inference done for gif25.gif\n",
            "Inference done for gif26.gif\n",
            "Inference done for gif27.gif\n",
            "Inference done for gif28.gif\n",
            "Inference done for gif29.gif\n",
            "Inference done for gif30.gif\n",
            "Inference done for gif31.gif\n",
            "Inference done for gif32.gif\n",
            "Inference done for gif33.gif\n",
            "Inference done for gif34.gif\n",
            "Inference done for gif35.gif\n",
            "Inference done for gif36.gif\n",
            "Inference done for gif37.gif\n",
            "Inference done for gif38.gif\n",
            "Inference done for gif39.gif\n",
            "Inference done for gif40.gif\n",
            "Inference done for gif41.gif\n",
            "Inference done for gif42.gif\n",
            "Inference done for gif43.gif\n",
            "Inference done for gif44.gif\n",
            "Inference done for gif45.gif\n",
            "Inference done for gif46.gif\n",
            "Inference done for gif47.gif\n",
            "Inference done for gif48.gif\n",
            "Inference done for gif49.gif\n",
            "Inference done for gif50.gif\n",
            "Inference done for gif51.gif\n",
            "Inference done for gif52.gif\n",
            "Inference done for gif53.gif\n",
            "Inference done for gif54.gif\n",
            "Inference done for gif55.gif\n",
            "Inference done for gif56.gif\n",
            "Inference done for gif57.gif\n",
            "Inference done for gif58.gif\n",
            "Inference done for gif59.gif\n",
            "Inference done for gif60.gif\n"
          ]
        }
      ],
      "source": [
        "import os\n",
        "import cv2\n",
        "import random\n",
        "import string\n",
        "import imageio\n",
        "import subprocess\n",
        "\n",
        "# Function to generate a random string of fixed length\n",
        "def random_string(length=4):\n",
        "    letters = string.ascii_letters + string.digits\n",
        "    return ''.join(random.choice(letters) for i in range(length))\n",
        "\n",
        "# Initialize an empty list to store the paths of generated GIFs\n",
        "generated_gifs = []\n",
        "\n",
        "# Loop through the GIF files to run inference\n",
        "for i in range(1, 1000):\n",
        "    gif_name = f\"gif{i}.gif\"\n",
        "    gif_path = f\"/content/clips/{gif_name}\"\n",
        "\n",
        "    # Construct the command string for inference\n",
        "    cmd_str = f\"\"\"python inference.py \\\n",
        "    --prompt='peewee herman man, Pee-wees Big Adventure 4 10 Movie CLIP Im a Loner, Dottie 1985 HD, hd, high quality.' \\\n",
        "    --output='{gif_name}' \\\n",
        "    --control_type='depth' \\\n",
        "    --width=672 \\\n",
        "    --height=384 \\\n",
        "    --lora=\"/content/Hotshot-XL/downloaded_file.safetensors\" \\\n",
        "    --gif='{gif_path}'\"\"\"\n",
        "\n",
        "    # Run the command for inference\n",
        "    subprocess.run(cmd_str, shell=True)\n",
        "    print(f\"Inference done for {gif_name}\")\n",
        "\n",
        "    # Confirm that the inference was successful before adding to list\n",
        "    inferred_gif_path = f\"/content/Hotshot-XL/{gif_name}\"\n",
        "    if os.path.exists(inferred_gif_path):\n",
        "        generated_gifs.append(inferred_gif_path)"
      ]
    },
    {
      "cell_type": "code",
      "execution_count": null,
      "metadata": {
        "id": "ZCmLyEP3lnuD",
        "colab": {
          "base_uri": "https://localhost:8080/"
        },
        "outputId": "82189227-f863-4ccc-a486-b34e9fb4dac5"
      },
      "outputs": [
        {
          "output_type": "stream",
          "name": "stdout",
          "text": [
            "Requirement already satisfied: moviepy in /usr/local/lib/python3.10/dist-packages (1.0.3)\n",
            "Requirement already satisfied: decorator<5.0,>=4.0.2 in /usr/local/lib/python3.10/dist-packages (from moviepy) (4.4.2)\n",
            "Requirement already satisfied: tqdm<5.0,>=4.11.2 in /usr/local/lib/python3.10/dist-packages (from moviepy) (4.66.1)\n",
            "Requirement already satisfied: requests<3.0,>=2.8.1 in /usr/local/lib/python3.10/dist-packages (from moviepy) (2.31.0)\n",
            "Requirement already satisfied: proglog<=1.0.0 in /usr/local/lib/python3.10/dist-packages (from moviepy) (0.1.10)\n",
            "Requirement already satisfied: numpy>=1.17.3 in /usr/local/lib/python3.10/dist-packages (from moviepy) (1.23.5)\n",
            "Requirement already satisfied: imageio<3.0,>=2.5 in /usr/local/lib/python3.10/dist-packages (from moviepy) (2.31.5)\n",
            "Requirement already satisfied: imageio-ffmpeg>=0.2.0 in /usr/local/lib/python3.10/dist-packages (from moviepy) (0.4.9)\n",
            "Requirement already satisfied: pillow>=8.3.2 in /usr/local/lib/python3.10/dist-packages (from imageio<3.0,>=2.5->moviepy) (9.4.0)\n",
            "Requirement already satisfied: setuptools in /usr/local/lib/python3.10/dist-packages (from imageio-ffmpeg>=0.2.0->moviepy) (67.7.2)\n",
            "Requirement already satisfied: charset-normalizer<4,>=2 in /usr/local/lib/python3.10/dist-packages (from requests<3.0,>=2.8.1->moviepy) (3.3.0)\n",
            "Requirement already satisfied: idna<4,>=2.5 in /usr/local/lib/python3.10/dist-packages (from requests<3.0,>=2.8.1->moviepy) (3.4)\n",
            "Requirement already satisfied: urllib3<3,>=1.21.1 in /usr/local/lib/python3.10/dist-packages (from requests<3.0,>=2.8.1->moviepy) (2.0.7)\n",
            "Requirement already satisfied: certifi>=2017.4.17 in /usr/local/lib/python3.10/dist-packages (from requests<3.0,>=2.8.1->moviepy) (2023.7.22)\n"
          ]
        }
      ],
      "source": [
        "!pip install moviepy"
      ]
    },
    {
      "cell_type": "code",
      "execution_count": null,
      "metadata": {
        "id": "l0t-kAYZlpo2",
        "colab": {
          "base_uri": "https://localhost:8080/"
        },
        "outputId": "62307df5-96a5-4582-ca24-8f2025a8a4f7"
      },
      "outputs": [
        {
          "output_type": "stream",
          "name": "stdout",
          "text": [
            "Moviepy - Building video /content/movie.mp4.\n",
            "Moviepy - Writing video /content/movie.mp4\n",
            "\n"
          ]
        },
        {
          "output_type": "stream",
          "name": "stderr",
          "text": []
        },
        {
          "output_type": "stream",
          "name": "stdout",
          "text": [
            "Moviepy - Done !\n",
            "Moviepy - video ready /content/movie.mp4\n"
          ]
        }
      ],
      "source": [
        "import os\n",
        "import re\n",
        "from moviepy.editor import VideoFileClip, concatenate_videoclips\n",
        "\n",
        "# Function to extract the number from the filename\n",
        "def extract_number(filename):\n",
        "    match = re.search(r'\\d+', filename)\n",
        "    return int(match.group()) if match else 0\n",
        "\n",
        "# Define the source directory and output file\n",
        "source_directory = \"/content/Hotshot-XL\"\n",
        "output_file = \"/content/movie.mp4\"\n",
        "\n",
        "# Initialize an empty list to store VideoFileClip objects\n",
        "clips = []\n",
        "\n",
        "# Traverse the directory to find all GIF files\n",
        "gif_files = [f for f in os.listdir(source_directory) if f.endswith('.gif')]\n",
        "\n",
        "# Sort the GIF files based on the extracted number\n",
        "sorted_gif_files = sorted(gif_files, key=extract_number)\n",
        "\n",
        "# Process the sorted GIF files\n",
        "for filename in sorted_gif_files:\n",
        "    filepath = os.path.join(source_directory, filename)\n",
        "\n",
        "    # Load the GIF file as a VideoFileClip object\n",
        "    clip = VideoFileClip(filepath)\n",
        "\n",
        "    # Append the clip to the list\n",
        "    clips.append(clip)\n",
        "\n",
        "# Concatenate all the clips into one video\n",
        "final_clip = concatenate_videoclips(clips, method=\"compose\")\n",
        "\n",
        "# Write the result to a file\n",
        "final_clip.write_videofile(output_file, fps=24)\n",
        "\n",
        "# Close all clips\n",
        "for clip in clips:\n",
        "    clip.close()\n",
        "final_clip.close()"
      ]
    },
    {
      "cell_type": "code",
      "execution_count": null,
      "metadata": {
        "id": "x2rQlZ-ookVw",
        "colab": {
          "base_uri": "https://localhost:8080/"
        },
        "outputId": "fa5fb399-6ae6-4ea3-e322-c6fd05734e15"
      },
      "outputs": [
        {
          "output_type": "stream",
          "name": "stdout",
          "text": [
            "Writing /content/extaud.py\n"
          ]
        }
      ],
      "source": [
        "%%writefile /content/extaud.py\n",
        "import sys\n",
        "from moviepy.editor import VideoFileClip\n",
        "\n",
        "def add_audio_to_video(source_video_path, target_video_path):\n",
        "    # Load the source video and extract its audio\n",
        "    source_video = VideoFileClip(source_video_path)\n",
        "    source_audio = source_video.audio\n",
        "\n",
        "    # Load the target video\n",
        "    target_video = VideoFileClip(target_video_path)\n",
        "\n",
        "    # Set the audio of the target video to be the source audio\n",
        "    final_video = target_video.set_audio(source_audio)\n",
        "\n",
        "    # Write the final video to a file\n",
        "    final_video.write_videofile(f\"final_{target_video_path.split('/')[-1]}\", codec=\"libx264\")\n",
        "\n",
        "    # Close the video and audio clips\n",
        "    source_video.close()\n",
        "    target_video.close()\n",
        "    source_audio.close()\n",
        "    final_video.close()\n",
        "\n",
        "if __name__ == \"__main__\":\n",
        "    if len(sys.argv) != 3:\n",
        "        print(\"Usage: !python extaud.py <source_video> <target_video>\")\n",
        "        sys.exit(1)\n",
        "\n",
        "    source_video_path = sys.argv[1]\n",
        "    target_video_path = sys.argv[2]\n",
        "\n",
        "    add_audio_to_video(source_video_path, target_video_path)"
      ]
    },
    {
      "cell_type": "code",
      "execution_count": null,
      "metadata": {
        "id": "bEk1LuaAc974",
        "colab": {
          "base_uri": "https://localhost:8080/"
        },
        "outputId": "edea83e0-8f6d-4ab5-8fe3-0e6931e2757b"
      },
      "outputs": [
        {
          "output_type": "stream",
          "name": "stdout",
          "text": [
            "error: XDG_RUNTIME_DIR not set in the environment.\n",
            "ALSA lib confmisc.c:855:(parse_card) cannot find card '0'\n",
            "ALSA lib conf.c:5178:(_snd_config_evaluate) function snd_func_card_inum returned error: No such file or directory\n",
            "ALSA lib confmisc.c:422:(snd_func_concat) error evaluating strings\n",
            "ALSA lib conf.c:5178:(_snd_config_evaluate) function snd_func_concat returned error: No such file or directory\n",
            "ALSA lib confmisc.c:1334:(snd_func_refer) error evaluating name\n",
            "ALSA lib conf.c:5178:(_snd_config_evaluate) function snd_func_refer returned error: No such file or directory\n",
            "ALSA lib conf.c:5701:(snd_config_expand) Evaluate error: No such file or directory\n",
            "ALSA lib pcm.c:2664:(snd_pcm_open_noupdate) Unknown PCM default\n",
            "ALSA lib confmisc.c:855:(parse_card) cannot find card '0'\n",
            "ALSA lib conf.c:5178:(_snd_config_evaluate) function snd_func_card_inum returned error: No such file or directory\n",
            "ALSA lib confmisc.c:422:(snd_func_concat) error evaluating strings\n",
            "ALSA lib conf.c:5178:(_snd_config_evaluate) function snd_func_concat returned error: No such file or directory\n",
            "ALSA lib confmisc.c:1334:(snd_func_refer) error evaluating name\n",
            "ALSA lib conf.c:5178:(_snd_config_evaluate) function snd_func_refer returned error: No such file or directory\n",
            "ALSA lib conf.c:5701:(snd_config_expand) Evaluate error: No such file or directory\n",
            "ALSA lib pcm.c:2664:(snd_pcm_open_noupdate) Unknown PCM default\n",
            "Moviepy - Building video /content/movie2.mp4.\n",
            "Moviepy - Writing video /content/movie2.mp4\n",
            "\n",
            "Moviepy - Done !\n",
            "Moviepy - video ready /content/movie2.mp4\n"
          ]
        }
      ],
      "source": [
        "!python vidspeed.py 4 /content/movie.mp4 /content/movie2.mp4"
      ]
    },
    {
      "cell_type": "code",
      "execution_count": null,
      "metadata": {
        "id": "WBRS2l0ei5NO",
        "colab": {
          "base_uri": "https://localhost:8080/"
        },
        "outputId": "ba13e2d1-7fc5-4af3-878e-e19b2d501734"
      },
      "outputs": [
        {
          "output_type": "stream",
          "name": "stdout",
          "text": [
            "error: XDG_RUNTIME_DIR not set in the environment.\n",
            "ALSA lib confmisc.c:855:(parse_card) cannot find card '0'\n",
            "ALSA lib conf.c:5178:(_snd_config_evaluate) function snd_func_card_inum returned error: No such file or directory\n",
            "ALSA lib confmisc.c:422:(snd_func_concat) error evaluating strings\n",
            "ALSA lib conf.c:5178:(_snd_config_evaluate) function snd_func_concat returned error: No such file or directory\n",
            "ALSA lib confmisc.c:1334:(snd_func_refer) error evaluating name\n",
            "ALSA lib conf.c:5178:(_snd_config_evaluate) function snd_func_refer returned error: No such file or directory\n",
            "ALSA lib conf.c:5701:(snd_config_expand) Evaluate error: No such file or directory\n",
            "ALSA lib pcm.c:2664:(snd_pcm_open_noupdate) Unknown PCM default\n",
            "ALSA lib confmisc.c:855:(parse_card) cannot find card '0'\n",
            "ALSA lib conf.c:5178:(_snd_config_evaluate) function snd_func_card_inum returned error: No such file or directory\n",
            "ALSA lib confmisc.c:422:(snd_func_concat) error evaluating strings\n",
            "ALSA lib conf.c:5178:(_snd_config_evaluate) function snd_func_concat returned error: No such file or directory\n",
            "ALSA lib confmisc.c:1334:(snd_func_refer) error evaluating name\n",
            "ALSA lib conf.c:5178:(_snd_config_evaluate) function snd_func_refer returned error: No such file or directory\n",
            "ALSA lib conf.c:5701:(snd_config_expand) Evaluate error: No such file or directory\n",
            "ALSA lib pcm.c:2664:(snd_pcm_open_noupdate) Unknown PCM default\n",
            "Moviepy - Building video /content/gifme2.mp4.\n",
            "MoviePy - Writing audio in gifme2TEMP_MPY_wvf_snd.mp3\n",
            "MoviePy - Done.\n",
            "Moviepy - Writing video /content/gifme2.mp4\n",
            "\n",
            "t:  61% 3425/5620 [01:26<00:45, 47.92it/s, now=None]Traceback (most recent call last):\n",
            "  File \"/usr/local/lib/python3.10/dist-packages/moviepy/video/io/ffmpeg_writer.py\", line 228, in ffmpeg_write_video\n",
            "    writer.write_frame(frame)\n",
            "  File \"/usr/local/lib/python3.10/dist-packages/moviepy/video/io/ffmpeg_writer.py\", line 136, in write_frame\n",
            "    self.proc.stdin.write(img_array.tobytes())\n",
            "KeyboardInterrupt\n",
            "\n",
            "During handling of the above exception, another exception occurred:\n",
            "\n",
            "Traceback (most recent call last):\n",
            "  File \"/content/Hotshot-XL/vidspeed.py\", line 16, in <module>\n",
            "    video.write_videofile(output_video_path, codec=\"libx264\")\n",
            "  File \"<decorator-gen-55>\", line 2, in write_videofile\n",
            "  File \"/usr/local/lib/python3.10/dist-packages/moviepy/decorators.py\", line 54, in requires_duration\n",
            "    return f(clip, *a, **k)\n",
            "  File \"<decorator-gen-54>\", line 2, in write_videofile\n",
            "  File \"/usr/local/lib/python3.10/dist-packages/moviepy/decorators.py\", line 135, in use_clip_fps_by_default\n",
            "    return f(clip, *new_a, **new_kw)\n",
            "  File \"<decorator-gen-53>\", line 2, in write_videofile\n",
            "  File \"/usr/local/lib/python3.10/dist-packages/moviepy/decorators.py\", line 22, in convert_masks_to_RGB\n",
            "    return f(clip, *a, **k)\n",
            "  File \"/usr/local/lib/python3.10/dist-packages/moviepy/video/VideoClip.py\", line 300, in write_videofile\n",
            "    ffmpeg_write_video(self, filename, fps, codec,\n",
            "  File \"/usr/local/lib/python3.10/dist-packages/moviepy/video/io/ffmpeg_writer.py\", line 213, in ffmpeg_write_video\n",
            "    with FFMPEG_VideoWriter(filename, clip.size, fps, codec = codec,\n",
            "  File \"/usr/local/lib/python3.10/dist-packages/moviepy/video/io/ffmpeg_writer.py\", line 197, in __exit__\n",
            "    self.close()\n",
            "  File \"/usr/local/lib/python3.10/dist-packages/moviepy/video/io/ffmpeg_writer.py\", line 187, in close\n",
            "    self.proc.wait()\n",
            "  File \"/usr/lib/python3.10/subprocess.py\", line 1209, in wait\n",
            "    return self._wait(timeout=timeout)\n",
            "  File \"/usr/lib/python3.10/subprocess.py\", line 1959, in _wait\n",
            "    (pid, sts) = self._try_wait(0)\n",
            "  File \"/usr/lib/python3.10/subprocess.py\", line 1917, in _try_wait\n",
            "    (pid, sts) = os.waitpid(self.pid, wait_flags)\n",
            "KeyboardInterrupt\n",
            "^C\n"
          ]
        }
      ],
      "source": [
        "!python vidspeed.py 4 /content/gifme.mp4 /content/gifme2.mp4"
      ]
    },
    {
      "cell_type": "code",
      "execution_count": null,
      "metadata": {
        "id": "B6MvBqb9pzxp",
        "colab": {
          "base_uri": "https://localhost:8080/"
        },
        "outputId": "f2279018-8129-49d2-a3cf-c7f9c3b5c9af"
      },
      "outputs": [
        {
          "output_type": "stream",
          "name": "stdout",
          "text": [
            "error: XDG_RUNTIME_DIR not set in the environment.\n",
            "ALSA lib confmisc.c:855:(parse_card) cannot find card '0'\n",
            "ALSA lib conf.c:5178:(_snd_config_evaluate) function snd_func_card_inum returned error: No such file or directory\n",
            "ALSA lib confmisc.c:422:(snd_func_concat) error evaluating strings\n",
            "ALSA lib conf.c:5178:(_snd_config_evaluate) function snd_func_concat returned error: No such file or directory\n",
            "ALSA lib confmisc.c:1334:(snd_func_refer) error evaluating name\n",
            "ALSA lib conf.c:5178:(_snd_config_evaluate) function snd_func_refer returned error: No such file or directory\n",
            "ALSA lib conf.c:5701:(snd_config_expand) Evaluate error: No such file or directory\n",
            "ALSA lib pcm.c:2664:(snd_pcm_open_noupdate) Unknown PCM default\n",
            "ALSA lib confmisc.c:855:(parse_card) cannot find card '0'\n",
            "ALSA lib conf.c:5178:(_snd_config_evaluate) function snd_func_card_inum returned error: No such file or directory\n",
            "ALSA lib confmisc.c:422:(snd_func_concat) error evaluating strings\n",
            "ALSA lib conf.c:5178:(_snd_config_evaluate) function snd_func_concat returned error: No such file or directory\n",
            "ALSA lib confmisc.c:1334:(snd_func_refer) error evaluating name\n",
            "ALSA lib conf.c:5178:(_snd_config_evaluate) function snd_func_refer returned error: No such file or directory\n",
            "ALSA lib conf.c:5701:(snd_config_expand) Evaluate error: No such file or directory\n",
            "ALSA lib pcm.c:2664:(snd_pcm_open_noupdate) Unknown PCM default\n",
            "Moviepy - Building video final_movie2.mp4.\n",
            "MoviePy - Writing audio in final_movie2TEMP_MPY_wvf_snd.mp3\n",
            "MoviePy - Done.\n",
            "Moviepy - Writing video final_movie2.mp4\n",
            "\n",
            "Moviepy - Done !\n",
            "Moviepy - video ready final_movie2.mp4\n"
          ]
        }
      ],
      "source": [
        "!python /content/extaud.py \"/content/gifme2.mp4\" \"/content/movie2.mp4\""
      ]
    },
    {
      "cell_type": "code",
      "execution_count": null,
      "metadata": {
        "id": "EZkKUH24grJW"
      },
      "outputs": [],
      "source": []
    },
    {
      "cell_type": "markdown",
      "metadata": {
        "id": "mxmZV4dSehcm"
      },
      "source": [
        "**Delete Crappy Gifs**"
      ]
    },
    {
      "cell_type": "code",
      "execution_count": null,
      "metadata": {
        "colab": {
          "base_uri": "https://localhost:8080/"
        },
        "id": "b9v8UrFdeJNS",
        "outputId": "0aeca0c5-1a62-4c46-e767-2551c485b049"
      },
      "outputs": [
        {
          "name": "stdout",
          "output_type": "stream",
          "text": [
            "Removed: /content/Hotshot-XL/gif34.gif\n",
            "Removed: /content/Hotshot-XL/gif2.gif\n",
            "Removed: /content/Hotshot-XL/gif14.gif\n",
            "Removed: /content/Hotshot-XL/gif5.gif\n",
            "Removed: /content/Hotshot-XL/gif7.gif\n",
            "Removed: /content/Hotshot-XL/gif20.gif\n",
            "Removed: /content/Hotshot-XL/gif11.gif\n",
            "Removed: /content/Hotshot-XL/gif16.gif\n",
            "Removed: /content/Hotshot-XL/gif35.gif\n",
            "Removed: /content/Hotshot-XL/gif21.gif\n",
            "Removed: /content/Hotshot-XL/gif12.gif\n",
            "Removed: /content/Hotshot-XL/gif4.gif\n",
            "Removed: /content/Hotshot-XL/gif30.gif\n",
            "Removed: /content/Hotshot-XL/gif28.gif\n",
            "Removed: /content/Hotshot-XL/gif23.gif\n",
            "Removed: /content/Hotshot-XL/gif15.gif\n",
            "Removed: /content/Hotshot-XL/gif6.gif\n",
            "Removed: /content/Hotshot-XL/gif26.gif\n",
            "Removed: /content/Hotshot-XL/gif33.gif\n",
            "Removed: /content/Hotshot-XL/gif27.gif\n",
            "Removed: /content/Hotshot-XL/gif22.gif\n",
            "Removed: /content/Hotshot-XL/gif29.gif\n",
            "Removed: /content/Hotshot-XL/gif25.gif\n",
            "Removed: /content/Hotshot-XL/gif24.gif\n",
            "Removed: /content/Hotshot-XL/gif3.gif\n",
            "Removed: /content/Hotshot-XL/gif8.gif\n",
            "Removed: /content/Hotshot-XL/gif32.gif\n",
            "Removed: /content/Hotshot-XL/gif1.gif\n",
            "Removed: /content/Hotshot-XL/gif36.gif\n",
            "Removed: /content/Hotshot-XL/gif9.gif\n",
            "Removed: /content/Hotshot-XL/gif18.gif\n",
            "Removed: /content/Hotshot-XL/gif17.gif\n",
            "Removed: /content/Hotshot-XL/gif19.gif\n",
            "Removed: /content/Hotshot-XL/gif31.gif\n",
            "Removed: /content/Hotshot-XL/gif10.gif\n",
            "Removed: /content/Hotshot-XL/gif13.gif\n",
            "Finished removing all .gif files.\n"
          ]
        }
      ],
      "source": [
        "import os\n",
        "import glob\n",
        "\n",
        "# Define the directory and file extension\n",
        "directory = '/content/Hotshot-XL/'\n",
        "extension = '*.gif'\n",
        "\n",
        "# Create the full path with the extension\n",
        "full_path = os.path.join(directory, extension)\n",
        "\n",
        "# Loop through the files and remove them\n",
        "for file_path in glob.glob(full_path):\n",
        "    try:\n",
        "        os.remove(file_path)\n",
        "        print(f\"Removed: {file_path}\")\n",
        "    except Exception as e:\n",
        "        print(f\"Error occurred while deleting file {file_path}: {e}\")\n",
        "\n",
        "print(\"Finished removing all .gif files.\")\n"
      ]
    }
  ],
  "metadata": {
    "accelerator": "GPU",
    "colab": {
      "provenance": [],
      "include_colab_link": true
    },
    "kernelspec": {
      "display_name": "Python 3",
      "name": "python3"
    },
    "language_info": {
      "name": "python"
    }
  },
  "nbformat": 4,
  "nbformat_minor": 0
}