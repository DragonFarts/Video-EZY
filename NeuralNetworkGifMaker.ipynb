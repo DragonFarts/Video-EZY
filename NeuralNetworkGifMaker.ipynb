{
  "nbformat": 4,
  "nbformat_minor": 0,
  "metadata": {
    "colab": {
      "provenance": [],
      "authorship_tag": "ABX9TyNr1fLUbU0duIoH0rLpHOyt",
      "include_colab_link": true
    },
    "kernelspec": {
      "name": "python3",
      "display_name": "Python 3"
    },
    "language_info": {
      "name": "python"
    }
  },
  "cells": [
    {
      "cell_type": "markdown",
      "metadata": {
        "id": "view-in-github",
        "colab_type": "text"
      },
      "source": [
        "<a href=\"https://colab.research.google.com/github/DragonFarts/Video-EZY/blob/main/NeuralNetworkGifMaker.ipynb\" target=\"_parent\"><img src=\"https://colab.research.google.com/assets/colab-badge.svg\" alt=\"Open In Colab\"/></a>"
      ]
    },
    {
      "cell_type": "markdown",
      "source": [
        "# **INSTALL THIS**"
      ],
      "metadata": {
        "id": "e3T9wzg3dUNP"
      }
    },
    {
      "cell_type": "code",
      "execution_count": 1,
      "metadata": {
        "colab": {
          "base_uri": "https://localhost:8080/"
        },
        "id": "h-9EA0skT-l9",
        "outputId": "ad070c8b-d7f5-478e-8b8c-09509953b9d1"
      },
      "outputs": [
        {
          "output_type": "stream",
          "name": "stdout",
          "text": [
            "Requirement already satisfied: matplotlib in /usr/local/lib/python3.10/dist-packages (3.7.1)\n",
            "Requirement already satisfied: Pillow in /usr/local/lib/python3.10/dist-packages (9.4.0)\n",
            "Requirement already satisfied: numpy in /usr/local/lib/python3.10/dist-packages (1.23.5)\n",
            "Requirement already satisfied: contourpy>=1.0.1 in /usr/local/lib/python3.10/dist-packages (from matplotlib) (1.1.1)\n",
            "Requirement already satisfied: cycler>=0.10 in /usr/local/lib/python3.10/dist-packages (from matplotlib) (0.12.1)\n",
            "Requirement already satisfied: fonttools>=4.22.0 in /usr/local/lib/python3.10/dist-packages (from matplotlib) (4.43.1)\n",
            "Requirement already satisfied: kiwisolver>=1.0.1 in /usr/local/lib/python3.10/dist-packages (from matplotlib) (1.4.5)\n",
            "Requirement already satisfied: packaging>=20.0 in /usr/local/lib/python3.10/dist-packages (from matplotlib) (23.2)\n",
            "Requirement already satisfied: pyparsing>=2.3.1 in /usr/local/lib/python3.10/dist-packages (from matplotlib) (3.1.1)\n",
            "Requirement already satisfied: python-dateutil>=2.7 in /usr/local/lib/python3.10/dist-packages (from matplotlib) (2.8.2)\n",
            "Requirement already satisfied: six>=1.5 in /usr/local/lib/python3.10/dist-packages (from python-dateutil>=2.7->matplotlib) (1.16.0)\n"
          ]
        }
      ],
      "source": [
        "!pip install matplotlib Pillow numpy"
      ]
    },
    {
      "cell_type": "code",
      "source": [
        "!sudo apt-get update\n",
        "!sudo apt-get install ffmpeg"
      ],
      "metadata": {
        "colab": {
          "base_uri": "https://localhost:8080/"
        },
        "id": "fPW8pKvVjU8C",
        "outputId": "961dc8d9-05a2-4fa0-b8b4-235b1d5d2868"
      },
      "execution_count": 4,
      "outputs": [
        {
          "output_type": "stream",
          "name": "stdout",
          "text": [
            "\r0% [Working]\r            \rGet:1 http://security.ubuntu.com/ubuntu jammy-security InRelease [110 kB]\n",
            "\r0% [Connecting to archive.ubuntu.com (185.125.190.39)] [1 InRelease 12.7 kB/110\r                                                                               \rGet:2 https://cloud.r-project.org/bin/linux/ubuntu jammy-cran40/ InRelease [3,626 B]\n",
            "\r0% [Waiting for headers] [1 InRelease 108 kB/110 kB 98%] [2 InRelease 0 B/3,626\r0% [Waiting for headers] [1 InRelease 110 kB/110 kB 100%] [Connecting to ppa.la\r                                                                               \rHit:3 https://developer.download.nvidia.com/compute/cuda/repos/ubuntu2204/x86_64  InRelease\n",
            "Hit:4 http://archive.ubuntu.com/ubuntu jammy InRelease\n",
            "Get:5 http://archive.ubuntu.com/ubuntu jammy-updates InRelease [119 kB]\n",
            "Hit:6 https://ppa.launchpadcontent.net/c2d4u.team/c2d4u4.0+/ubuntu jammy InRelease\n",
            "Get:7 http://archive.ubuntu.com/ubuntu jammy-backports InRelease [109 kB]\n",
            "Hit:8 https://ppa.launchpadcontent.net/deadsnakes/ppa/ubuntu jammy InRelease\n",
            "Get:9 http://archive.ubuntu.com/ubuntu jammy-updates/main amd64 Packages [1,347 kB]\n",
            "Hit:10 https://ppa.launchpadcontent.net/graphics-drivers/ppa/ubuntu jammy InRelease\n",
            "Get:11 http://archive.ubuntu.com/ubuntu jammy-updates/universe amd64 Packages [1,269 kB]\n",
            "Hit:12 https://ppa.launchpadcontent.net/ubuntugis/ppa/ubuntu jammy InRelease\n",
            "Fetched 2,957 kB in 2s (1,494 kB/s)\n",
            "Reading package lists... Done\n",
            "Reading package lists... Done\n",
            "Building dependency tree... Done\n",
            "Reading state information... Done\n",
            "ffmpeg is already the newest version (7:4.4.2-0ubuntu0.22.04.1).\n",
            "0 upgraded, 0 newly installed, 0 to remove and 18 not upgraded.\n"
          ]
        }
      ]
    },
    {
      "cell_type": "code",
      "source": [
        "%%writefile /content/neural.py\n",
        "import numpy as np\n",
        "from PIL import Image, ImageDraw\n",
        "import argparse\n",
        "\n",
        "def parse_color(color_str):\n",
        "    return None if color_str == 'T' else tuple(map(int, color_str.split(',')))\n",
        "\n",
        "def main(args):\n",
        "    # Number of frames in the GIF\n",
        "    n_frames = args.frames\n",
        "\n",
        "    # Number of dots\n",
        "    n_dots = args.dots\n",
        "\n",
        "    # Initialize positions and velocities\n",
        "    positions = np.random.rand(n_dots, 2) * 100\n",
        "    velocities = (np.random.rand(n_dots, 2) - 0.5) * 10\n",
        "\n",
        "    # Parse resolution\n",
        "    width, height = map(int, args.resolution.split('x'))\n",
        "\n",
        "    # Time step for each frame\n",
        "    time_step = 1.0 / args.fps\n",
        "\n",
        "    # Create a list to hold PIL images for the GIF\n",
        "    frames = []\n",
        "\n",
        "    for frame in range(n_frames):\n",
        "        # Create a fresh image for each frame when the background is transparent\n",
        "        img = Image.new('RGBA', (width, height), color=args.bg_color)\n",
        "        draw = ImageDraw.Draw(img)\n",
        "\n",
        "        # Update positions based on velocities and time step\n",
        "        positions += velocities * time_step\n",
        "\n",
        "        # Reflect dots off walls\n",
        "        velocities = np.where((positions < 0) | (positions > 100), -velocities, velocities)\n",
        "\n",
        "        # Draw dots\n",
        "        for x, y in positions:\n",
        "            x = int(x * (width // 100))\n",
        "            y = int(y * (height // 100))\n",
        "            draw.ellipse([(x-args.dot_size, y-args.dot_size), (x+args.dot_size, y+args.dot_size)], fill=args.dot_color)\n",
        "\n",
        "        # Draw lines between close dots\n",
        "        min_range = args.min_range\n",
        "        for i in range(len(positions)):\n",
        "            for j in range(i+1, len(positions)):\n",
        "                x1, y1 = positions[i]\n",
        "                x2, y2 = positions[j]\n",
        "                distance = np.sqrt((x1 - x2)**2 + (y1 - y2)**2)\n",
        "                if distance < min_range:\n",
        "                    draw.line([(int(x1 * (width // 100)), int(y1 * (height // 100))),\n",
        "                               (int(x2 * (width // 100)), int(y2 * (height // 100)))],\n",
        "                              fill=args.line_color, width=args.line_thickness)\n",
        "\n",
        "        # Append this frame to the frames list\n",
        "        frames.append(img)\n",
        "\n",
        "    # Save frames as GIF\n",
        "    frames[0].save(args.output,\n",
        "                   save_all=True,\n",
        "                   append_images=frames[1:],\n",
        "                   optimize=False,\n",
        "                   duration=int(1000/args.fps),\n",
        "                   loop=0,\n",
        "                   disposal=2)  # 2 means \"Restore to background color.\"\n",
        "\n",
        "if __name__ == \"__main__\":\n",
        "    parser = argparse.ArgumentParser(description=\"Generate a neural network simulation GIF.\")\n",
        "    parser.add_argument(\"bg_color\", type=parse_color, help=\"RGB tuple for the background color or 'T' for transparent, e.g., '255,255,255'\")\n",
        "    parser.add_argument(\"fps\", type=int, help=\"FPS of the GIF\")\n",
        "    parser.add_argument(\"dot_color\", type=parse_color, help=\"RGB tuple for the color of the dots, e.g., '255,255,255'\")\n",
        "    parser.add_argument(\"line_color\", type=parse_color, help=\"RGB tuple for the color of the lines, e.g., '255,255,255'\")\n",
        "    parser.add_argument(\"dots\", type=int, help=\"Number of dots\")\n",
        "    parser.add_argument(\"resolution\", type=str, help=\"Resolution of the GIF, e.g., '250x250'\")\n",
        "    parser.add_argument(\"output\", type=str, help=\"Output path\")\n",
        "    parser.add_argument(\"frames\", type=int, help=\"Number of frames to produce\")\n",
        "    parser.add_argument(\"min_range\", type=float, help=\"Minimum range to connect dots\")\n",
        "    parser.add_argument(\"dot_size\", type=int, help=\"Size of the dots\")\n",
        "    parser.add_argument(\"line_thickness\", type=int, help=\"Thickness of the lines\")\n",
        "    args = parser.parse_args()\n",
        "\n",
        "    main(args)\n"
      ],
      "metadata": {
        "colab": {
          "base_uri": "https://localhost:8080/"
        },
        "id": "quVhXmF_UERe",
        "outputId": "96d98359-07d1-4f58-be0f-b947e84e3c80"
      },
      "execution_count": 2,
      "outputs": [
        {
          "output_type": "stream",
          "name": "stdout",
          "text": [
            "Writing /content/neural.py\n"
          ]
        }
      ]
    },
    {
      "cell_type": "markdown",
      "source": [
        "# Neural Network GIF creator"
      ],
      "metadata": {
        "id": "P2LgnFitdYaN"
      }
    },
    {
      "cell_type": "markdown",
      "source": [
        "**ARGUMENTS for the GIF Maker**"
      ],
      "metadata": {
        "id": "CMJip4OPeyRw"
      }
    },
    {
      "cell_type": "markdown",
      "source": [
        "1.   **background_color:** Replace with either \"T\" for a transparent background\n",
        "an RGB tuple like \"0,255,0\" for a colored background.\n",
        "\n",
        "1.   **FPS:** Replace with the desired Frames Per Second, such as \"30\".\n",
        "\n",
        "1.   **dot_color:** Replace with the RGB tuple for the color of the dots, like \"255,0,0\".\n",
        "\n",
        "1.   **line_color:** Replace with the RGB tuple for the color of the lines, like \"0,255,0\".\n",
        "\n",
        "1.   **number_of_dots:** Replace with the number of dots you want, for example, \"50\".\n",
        "\n",
        "1.   **resolution:** Replace with the desired resolution, such as \"1920x1024\".\n",
        "\n",
        "1.   **output_file_path:** Replace with the path where you want the GIF to be saved, like \"/content/neural_network_simulation.gif\".\n",
        "\n",
        "1.   **number_of_frames:** Replace with the total number of frames you want in the GIF, like \"216\".\n",
        "\n",
        "1.   **min_range_for_connection:** Replace with the minimum range within which dots will be connected, like \"50\".\n",
        "\n",
        "1.   **dot_size:** Replace with the desired size of the dots, for example, \"5\".\n",
        "\n",
        "1.   **line_thickness:** Replace with the desired thickness of the lines, for example, \"2\"."
      ],
      "metadata": {
        "id": "BbadtQpneajw"
      }
    },
    {
      "cell_type": "markdown",
      "source": [
        "!python neural.py \"background_color\" \"FPS\" \"dot_color\" \"line_color\" \"number_of_dots\" \"resolution\" \"output_file_path\" \"number_of_frames\" \"min_range_for_connection\" \"dot_size\" \"line_thickness\"\n"
      ],
      "metadata": {
        "id": "5RHhOUFFetH3"
      }
    },
    {
      "cell_type": "code",
      "source": [
        "!python neural.py \"T\" 30 \"0,255,0\" \"0,255,0\" 50 \"1920x1024\" \"/content/neural_network_simulation.gif\" 2160 21 5 2"
      ],
      "metadata": {
        "id": "OUnxmrBSUJjs"
      },
      "execution_count": 3,
      "outputs": []
    },
    {
      "cell_type": "markdown",
      "source": [
        "# Convert to MP4 if you like"
      ],
      "metadata": {
        "id": "-acKYbfsjJBr"
      }
    },
    {
      "cell_type": "code",
      "source": [
        "import os\n",
        "\n",
        "# Convert GIF to MP4 using ffmpeg\n",
        "os.system('ffmpeg -i /content/neural_network_simulation.gif /content/neural.mp4')\n"
      ],
      "metadata": {
        "id": "wDLFWp7kjQ37"
      },
      "execution_count": null,
      "outputs": []
    }
  ]
}